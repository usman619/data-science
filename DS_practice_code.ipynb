{
  "nbformat": 4,
  "nbformat_minor": 0,
  "metadata": {
    "colab": {
      "provenance": [],
      "collapsed_sections": [
        "WiVFcySi1JLH",
        "LjO68z-y_6bc",
        "_TdbL7vrF_w8",
        "ZVQEKpHBIlOA",
        "3rKcIOMURUsz",
        "xKKAFzDRbm6u",
        "djaKfDrLbsKc",
        "8tR2LIgnnPFv"
      ]
    },
    "kernelspec": {
      "name": "python3",
      "display_name": "Python 3"
    },
    "language_info": {
      "name": "python"
    }
  },
  "cells": [
    {
      "cell_type": "code",
      "execution_count": null,
      "metadata": {
        "colab": {
          "base_uri": "https://localhost:8080/"
        },
        "id": "L40iOxBv3oJZ",
        "outputId": "32762b7f-0130-43b5-d2b6-d2b30a95fd27"
      },
      "outputs": [
        {
          "output_type": "stream",
          "name": "stdout",
          "text": [
            "Mounted at /content/gdrive\n"
          ]
        }
      ],
      "source": [
        "from google.colab import drive\n",
        "drive.mount('/content/gdrive')"
      ]
    },
    {
      "cell_type": "markdown",
      "source": [
        "#pyPDF2"
      ],
      "metadata": {
        "id": "DduPHAvm11No"
      }
    },
    {
      "cell_type": "code",
      "source": [
        "!pip install  PyPDF2"
      ],
      "metadata": {
        "colab": {
          "base_uri": "https://localhost:8080/"
        },
        "id": "M9TQs2-T2Gxv",
        "outputId": "3e5809bf-d24c-4891-8dab-732555456280"
      },
      "execution_count": null,
      "outputs": [
        {
          "output_type": "stream",
          "name": "stdout",
          "text": [
            "Looking in indexes: https://pypi.org/simple, https://us-python.pkg.dev/colab-wheels/public/simple/\n",
            "Collecting PyPDF2\n",
            "  Downloading pypdf2-3.0.0-py3-none-any.whl (232 kB)\n",
            "\u001b[K     |████████████████████████████████| 232 kB 7.2 MB/s \n",
            "\u001b[?25hRequirement already satisfied: typing_extensions>=3.10.0.0 in /usr/local/lib/python3.8/dist-packages (from PyPDF2) (4.4.0)\n",
            "Installing collected packages: PyPDF2\n",
            "Successfully installed PyPDF2-3.0.0\n"
          ]
        }
      ]
    },
    {
      "cell_type": "code",
      "source": [
        "import  PyPDF2"
      ],
      "metadata": {
        "id": "MlgI1H3L16R8"
      },
      "execution_count": null,
      "outputs": []
    },
    {
      "cell_type": "code",
      "source": [
        "pdf_reader = PyPDF2.PdfReader(\"gdrive/My Drive/data_science/Lec6-pyPdf2.pdf\")\n",
        "\n",
        "print(\"Number of Pages in PDF File is: \", len(pdf_reader.pages))"
      ],
      "metadata": {
        "colab": {
          "base_uri": "https://localhost:8080/"
        },
        "id": "ol6gjesI2UdA",
        "outputId": "2f271365-cd36-4186-f63f-1d10e57c9acd"
      },
      "execution_count": null,
      "outputs": [
        {
          "output_type": "stream",
          "name": "stdout",
          "text": [
            "Number of Pages in PDF File is:  4\n"
          ]
        }
      ]
    },
    {
      "cell_type": "code",
      "source": [
        "print(\"PDF File Author is: \", pdf_reader.metadata[\"/Author\"])"
      ],
      "metadata": {
        "colab": {
          "base_uri": "https://localhost:8080/"
        },
        "id": "yumY340F5Jcj",
        "outputId": "53cfca33-aa72-4357-8069-5e64c8a0b470"
      },
      "execution_count": null,
      "outputs": [
        {
          "output_type": "stream",
          "name": "stdout",
          "text": [
            "PDF File Author is:  Musad\n"
          ]
        }
      ]
    },
    {
      "cell_type": "code",
      "source": [
        "print(\"PDF File Creator is: \", pdf_reader.metadata[\"/Creator\"])"
      ],
      "metadata": {
        "colab": {
          "base_uri": "https://localhost:8080/"
        },
        "id": "JxsG1l7-5Ppm",
        "outputId": "fdf4cc88-42a8-45f1-906c-64196a5d7349"
      },
      "execution_count": null,
      "outputs": [
        {
          "output_type": "stream",
          "name": "stdout",
          "text": [
            "PDF File Creator is:  Microsoft® PowerPoint® 2019\n"
          ]
        }
      ]
    },
    {
      "cell_type": "code",
      "source": [
        "# Printing the first page's content\n",
        "pdf_page = pdf_reader.pages[0]\n",
        "print(pdf_page.extract_text())"
      ],
      "metadata": {
        "colab": {
          "base_uri": "https://localhost:8080/"
        },
        "id": "csiztWfL5VKJ",
        "outputId": "f3d9a8f9-0c69-4d7b-e46c-fca187b4fa0d"
      },
      "execution_count": null,
      "outputs": [
        {
          "output_type": "stream",
          "name": "stdout",
          "text": [
            "PyPdf2\n",
            "Musadaq Mansoor\n"
          ]
        }
      ]
    },
    {
      "cell_type": "code",
      "source": [
        "for page_num in range(1,4):\n",
        "  pdf_page = pdf_reader.pages[page_num]\n",
        "  print(pdf_page.extract_text())\n",
        "  print(\"_________________________\\n\")\n",
        "\n",
        "\n",
        "# 1, 2, 3, 4\n",
        "# 0, 1 , 2, 3\n",
        "\n",
        "# Printing all the pages\n",
        "# for page_num in range(len(pdf_reader.pages)):\n",
        "#   pdf_page = pdf_reader.pages[page_num]\n",
        "#   print(pdf_page.extract_text())"
      ],
      "metadata": {
        "colab": {
          "base_uri": "https://localhost:8080/"
        },
        "id": "KSjbo6876qD9",
        "outputId": "c4c57e2f-e5e6-4ee4-a4ef-de06e5a295ae"
      },
      "execution_count": null,
      "outputs": [
        {
          "output_type": "stream",
          "name": "stdout",
          "text": [
            "PyPDF 2\n",
            "•PyPDF2 is a pure -python library to work with PDF files. We can use \n",
            "the PyPDF2 module to work with the existing PDF files. We can’t \n",
            "create a new PDF file using this module .\n",
            "•Installing PyPDF2\n",
            "•pip install PyPDF2\n",
            "_________________________\n",
            "\n",
            "Extracting Metadata\n",
            "import PyPDF2\n",
            "with open( 'Python.pdf ', 'rb') as pdf_file :\n",
            "pdf_reader = PyPDF2.PdfFileReader( pdf_file )\n",
            "print( f'Number of Pages in PDF File is { pdf_reader.getNumPages ()}')\n",
            "print( f'PDF Metadata is { pdf_reader.documentInfo }')\n",
            "print( f'PDF File Author is { pdf_reader.documentInfo [\"/Author\"]}')\n",
            "print( f'PDF File Creator is { pdf_reader.documentInfo [\"/Creator\"]}')\n",
            "_________________________\n",
            "\n",
            "Extracting Text of Pages\n",
            "•import PyPDF2\n",
            "•with open( 'Python.pdf ', 'rb') as pdf_file :\n",
            "• pdf_reader = PyPDF2.PdfFileReader( pdf_file )\n",
            "• # printing first page contents\n",
            "• pdf_page = pdf_reader.getPage (0)\n",
            "• print( pdf_page.extractText ())\n",
            "• # reading all the pages content one by one\n",
            "• for page_num in range( pdf_reader.numPages ):\n",
            "• pdf_page = pdf_reader.getPage (page_num )\n",
            "• print( pdf_page.extractText ())\n",
            "_________________________\n",
            "\n"
          ]
        }
      ]
    },
    {
      "cell_type": "markdown",
      "source": [
        "# <h1>PETL</h1>\n"
      ],
      "metadata": {
        "id": "WiVFcySi1JLH"
      }
    },
    {
      "cell_type": "code",
      "source": [
        "!pip install petl"
      ],
      "metadata": {
        "colab": {
          "base_uri": "https://localhost:8080/"
        },
        "id": "HVa5acBUAIbw",
        "outputId": "7490c4a3-b036-4721-bdcb-052dc52dc7b8"
      },
      "execution_count": null,
      "outputs": [
        {
          "output_type": "stream",
          "name": "stdout",
          "text": [
            "Looking in indexes: https://pypi.org/simple, https://us-python.pkg.dev/colab-wheels/public/simple/\n",
            "Collecting petl\n",
            "  Downloading petl-1.7.12.tar.gz (409 kB)\n",
            "\u001b[K     |████████████████████████████████| 409 kB 6.9 MB/s \n",
            "\u001b[?25h  Installing build dependencies ... \u001b[?25l\u001b[?25hdone\n",
            "  Getting requirements to build wheel ... \u001b[?25l\u001b[?25hdone\n",
            "    Preparing wheel metadata ... \u001b[?25l\u001b[?25hdone\n",
            "Building wheels for collected packages: petl\n",
            "  Building wheel for petl (PEP 517) ... \u001b[?25l\u001b[?25hdone\n",
            "  Created wheel for petl: filename=petl-1.7.12-py3-none-any.whl size=226970 sha256=735ae20f65d7e17e52da0bc2fc4eeaa5f4cddad99c449b353548a32a93988251\n",
            "  Stored in directory: /root/.cache/pip/wheels/b0/20/a5/96748ad301276597fbd3df013975828fe5978edc4587f79514\n",
            "Successfully built petl\n",
            "Installing collected packages: petl\n",
            "Successfully installed petl-1.7.12\n"
          ]
        }
      ]
    },
    {
      "cell_type": "code",
      "source": [
        "import csv\n",
        "\n",
        "with open('test.csv', 'w', newline='') as file:\n",
        "  writer = csv.writer(file)\n",
        "  writer.writerow(['foo', 'bar'])\n",
        "  writer.writerow(['a', 1])\n",
        "  writer.writerow(['b', 2])\n",
        "  writer.writerow(['c', 3])\n",
        "  writer.writerow(['d', 4])\n",
        "  writer.writerow(['e', 5])\n"
      ],
      "metadata": {
        "id": "hE3jGZBl3zKh"
      },
      "execution_count": null,
      "outputs": []
    },
    {
      "cell_type": "markdown",
      "source": [
        "##CSV"
      ],
      "metadata": {
        "id": "f9ypUjzg_4QH"
      }
    },
    {
      "cell_type": "code",
      "source": [
        "from petl import fromcsv, lookall"
      ],
      "metadata": {
        "id": "3kSxuwnW37GX"
      },
      "execution_count": null,
      "outputs": []
    },
    {
      "cell_type": "code",
      "source": [
        "test1 = fromcsv(\"test.csv\")\n",
        "lookall(test1)"
      ],
      "metadata": {
        "colab": {
          "base_uri": "https://localhost:8080/"
        },
        "id": "x3h2Ol8d4Oft",
        "outputId": "74e7a550-76d8-4260-ab07-a4fbf02901c0"
      },
      "execution_count": null,
      "outputs": [
        {
          "output_type": "execute_result",
          "data": {
            "text/plain": [
              "+-----+-----+\n",
              "| foo | bar |\n",
              "+=====+=====+\n",
              "| 'a' | '1' |\n",
              "+-----+-----+\n",
              "| 'b' | '2' |\n",
              "+-----+-----+\n",
              "| 'c' | '3' |\n",
              "+-----+-----+\n",
              "| 'd' | '4' |\n",
              "+-----+-----+\n",
              "| 'e' | '5' |\n",
              "+-----+-----+"
            ]
          },
          "metadata": {},
          "execution_count": 14
        }
      ]
    },
    {
      "cell_type": "markdown",
      "source": [
        "##Text"
      ],
      "metadata": {
        "id": "LjO68z-y_6bc"
      }
    },
    {
      "cell_type": "code",
      "source": [
        "with open('test.txt', 'w') as f:\n",
        "  f.write('a\\t1\\n')\n",
        "  f.write('b\\t1\\n')\n",
        "  f.write('c\\t1\\n')"
      ],
      "metadata": {
        "id": "J2tb0BEH63T6"
      },
      "execution_count": null,
      "outputs": []
    },
    {
      "cell_type": "code",
      "source": [
        "from petl import fromtext, look"
      ],
      "metadata": {
        "id": "9kqbs4twAde0"
      },
      "execution_count": null,
      "outputs": []
    },
    {
      "cell_type": "code",
      "source": [
        "table1 = fromtext('test.txt')\n",
        "look(table1)"
      ],
      "metadata": {
        "colab": {
          "base_uri": "https://localhost:8080/"
        },
        "id": "ZLCWZnCiAjjw",
        "outputId": "85b9a3c2-b81d-486f-d572-1367d32da70e"
      },
      "execution_count": null,
      "outputs": [
        {
          "output_type": "execute_result",
          "data": {
            "text/plain": [
              "+--------+\n",
              "| lines  |\n",
              "+========+\n",
              "| 'a\\t1' |\n",
              "+--------+\n",
              "| 'b\\t1' |\n",
              "+--------+\n",
              "| 'c\\t1' |\n",
              "+--------+"
            ]
          },
          "metadata": {},
          "execution_count": 17
        }
      ]
    },
    {
      "cell_type": "markdown",
      "source": [
        "##Dictionary"
      ],
      "metadata": {
        "id": "0rYgUgEOA2AN"
      }
    },
    {
      "cell_type": "code",
      "source": [
        "from petl import fromdicts, look, rename\n",
        "dicts = [{'gen': 'M', 'age': '12'}, \n",
        "         {'gen': 'F', 'age': '13'},\n",
        "         {'gen': '-', 'age': '40'}]"
      ],
      "metadata": {
        "id": "pwkogEtEAtWd"
      },
      "execution_count": null,
      "outputs": []
    },
    {
      "cell_type": "code",
      "source": [
        "table1 = fromdicts(dicts)\n",
        "look(table1)"
      ],
      "metadata": {
        "colab": {
          "base_uri": "https://localhost:8080/"
        },
        "id": "PRA_ZWI1BSSw",
        "outputId": "d6b15521-d23b-4f06-c2fc-0440d1c0cbd1"
      },
      "execution_count": null,
      "outputs": [
        {
          "output_type": "execute_result",
          "data": {
            "text/plain": [
              "+-----+------+\n",
              "| gen | age  |\n",
              "+=====+======+\n",
              "| 'M' | '12' |\n",
              "+-----+------+\n",
              "| 'F' | '13' |\n",
              "+-----+------+\n",
              "| '-' | '40' |\n",
              "+-----+------+"
            ]
          },
          "metadata": {},
          "execution_count": 19
        }
      ]
    },
    {
      "cell_type": "markdown",
      "source": [
        "##Renaming"
      ],
      "metadata": {
        "id": "GHWuWX5YDLfc"
      }
    },
    {
      "cell_type": "code",
      "source": [
        "# Single Change of column name\n",
        "table2 = rename(table1 , 'gen', 'Gender')\n",
        "look(table2)"
      ],
      "metadata": {
        "colab": {
          "base_uri": "https://localhost:8080/"
        },
        "id": "lkZxy61pBUxo",
        "outputId": "910c46ee-2fcc-40ae-b902-b86ad8f201da"
      },
      "execution_count": null,
      "outputs": [
        {
          "output_type": "execute_result",
          "data": {
            "text/plain": [
              "+--------+------+\n",
              "| Gender | age  |\n",
              "+========+======+\n",
              "| 'M'    | '12' |\n",
              "+--------+------+\n",
              "| 'F'    | '13' |\n",
              "+--------+------+\n",
              "| '-'    | '40' |\n",
              "+--------+------+"
            ]
          },
          "metadata": {},
          "execution_count": 20
        }
      ]
    },
    {
      "cell_type": "code",
      "source": [
        "# Multiple change of column names\n",
        "table3 = rename(table1,{'gen':'Gender','age':'Age_in_years'})\n",
        "look(table3)"
      ],
      "metadata": {
        "colab": {
          "base_uri": "https://localhost:8080/"
        },
        "id": "zPcAukA1CC1y",
        "outputId": "6b430356-5378-4b1d-8fb6-29520e64f276"
      },
      "execution_count": null,
      "outputs": [
        {
          "output_type": "execute_result",
          "data": {
            "text/plain": [
              "+--------+--------------+\n",
              "| Gender | Age_in_years |\n",
              "+========+==============+\n",
              "| 'M'    | '12'         |\n",
              "+--------+--------------+\n",
              "| 'F'    | '13'         |\n",
              "+--------+--------------+\n",
              "| '-'    | '40'         |\n",
              "+--------+--------------+"
            ]
          },
          "metadata": {},
          "execution_count": 21
        }
      ]
    },
    {
      "cell_type": "code",
      "source": [
        "from petl import setheader\n",
        "table4 = setheader(table3,['gen','age'])\n",
        "look(table4)"
      ],
      "metadata": {
        "colab": {
          "base_uri": "https://localhost:8080/"
        },
        "id": "jLF0xUnBCmqI",
        "outputId": "f39a290a-d8bc-416c-def4-ca5bdbf1b619"
      },
      "execution_count": null,
      "outputs": [
        {
          "output_type": "execute_result",
          "data": {
            "text/plain": [
              "+-----+------+\n",
              "| gen | age  |\n",
              "+=====+======+\n",
              "| 'M' | '12' |\n",
              "+-----+------+\n",
              "| 'F' | '13' |\n",
              "+-----+------+\n",
              "| '-' | '40' |\n",
              "+-----+------+"
            ]
          },
          "metadata": {},
          "execution_count": 22
        }
      ]
    },
    {
      "cell_type": "markdown",
      "source": [
        "##Convert"
      ],
      "metadata": {
        "id": "M9zp8CcqEOkS"
      }
    },
    {
      "cell_type": "code",
      "source": [
        "from petl import select, convert"
      ],
      "metadata": {
        "id": "QY6KIaFcERBW"
      },
      "execution_count": null,
      "outputs": []
    },
    {
      "cell_type": "code",
      "source": [
        "table_1 = convert(table3,'Age_in_years',int)\n",
        "look(table_1)"
      ],
      "metadata": {
        "colab": {
          "base_uri": "https://localhost:8080/"
        },
        "id": "xJhX5ijMEhOP",
        "outputId": "dc8bd8f4-4eaa-48b0-c025-d752d99da32f"
      },
      "execution_count": null,
      "outputs": [
        {
          "output_type": "execute_result",
          "data": {
            "text/plain": [
              "+--------+--------------+\n",
              "| Gender | Age_in_years |\n",
              "+========+==============+\n",
              "| 'M'    |           12 |\n",
              "+--------+--------------+\n",
              "| 'F'    |           13 |\n",
              "+--------+--------------+\n",
              "| '-'    |           40 |\n",
              "+--------+--------------+"
            ]
          },
          "metadata": {},
          "execution_count": 24
        }
      ]
    },
    {
      "cell_type": "markdown",
      "source": [
        "##Select"
      ],
      "metadata": {
        "id": "yEUm3Mi5E1hA"
      }
    },
    {
      "cell_type": "code",
      "source": [
        "table_2 = select(table_1, \"{Gender} == 'M' and {Age_in_years} < 40\")\n",
        "look(table_2)"
      ],
      "metadata": {
        "colab": {
          "base_uri": "https://localhost:8080/"
        },
        "id": "EzgAfFEPEz6d",
        "outputId": "2a33e90b-6a2b-4769-ab93-647c62dd6474"
      },
      "execution_count": null,
      "outputs": [
        {
          "output_type": "execute_result",
          "data": {
            "text/plain": [
              "+--------+--------------+\n",
              "| Gender | Age_in_years |\n",
              "+========+==============+\n",
              "| 'M'    |           12 |\n",
              "+--------+--------------+"
            ]
          },
          "metadata": {},
          "execution_count": 25
        }
      ]
    },
    {
      "cell_type": "markdown",
      "source": [
        "##Skipdata"
      ],
      "metadata": {
        "id": "dYlR0_AJDhJ6"
      }
    },
    {
      "cell_type": "code",
      "source": [
        "from petl import skip"
      ],
      "metadata": {
        "id": "PXTpcASUDIh3"
      },
      "execution_count": null,
      "outputs": []
    },
    {
      "cell_type": "code",
      "source": [
        "table5 = skip(table3, 2)\n",
        "look(table5)"
      ],
      "metadata": {
        "colab": {
          "base_uri": "https://localhost:8080/"
        },
        "id": "rGgWS4oUD_nL",
        "outputId": "5f6768f5-431a-4b7c-923b-6bac4cb4cbac"
      },
      "execution_count": null,
      "outputs": [
        {
          "output_type": "execute_result",
          "data": {
            "text/plain": [
              "+-----+------+\n",
              "| F   | 13   |\n",
              "+=====+======+\n",
              "| '-' | '40' |\n",
              "+-----+------+"
            ]
          },
          "metadata": {},
          "execution_count": 27
        }
      ]
    },
    {
      "cell_type": "markdown",
      "source": [
        "#<h1>Pandas</h1>"
      ],
      "metadata": {
        "id": "_TdbL7vrF_w8"
      }
    },
    {
      "cell_type": "markdown",
      "source": [
        "##Movie Dataset"
      ],
      "metadata": {
        "id": "ZVQEKpHBIlOA"
      }
    },
    {
      "cell_type": "code",
      "source": [
        "import pandas as pd"
      ],
      "metadata": {
        "id": "llb8yjbtGD-c"
      },
      "execution_count": null,
      "outputs": []
    },
    {
      "cell_type": "code",
      "source": [
        "from pandas.io.parsers.readers import read_csv\n",
        "df_movie = pd.read_csv(\"gdrive/My Drive/data_science/IMDB-Movie-Data.csv\", index_col= 'Title')\n",
        "df_movie.head()"
      ],
      "metadata": {
        "colab": {
          "base_uri": "https://localhost:8080/",
          "height": 386
        },
        "id": "PGEvW8kpGJxL",
        "outputId": "a41e5fea-0d48-427d-e136-f407b0c2b0ae"
      },
      "execution_count": null,
      "outputs": [
        {
          "output_type": "execute_result",
          "data": {
            "text/plain": [
              "                         Rank                     Genre  \\\n",
              "Title                                                     \n",
              "Guardians of the Galaxy     1   Action,Adventure,Sci-Fi   \n",
              "Prometheus                  2  Adventure,Mystery,Sci-Fi   \n",
              "Split                       3           Horror,Thriller   \n",
              "Sing                        4   Animation,Comedy,Family   \n",
              "Suicide Squad               5  Action,Adventure,Fantasy   \n",
              "\n",
              "                                                               Description  \\\n",
              "Title                                                                        \n",
              "Guardians of the Galaxy  A group of intergalactic criminals are forced ...   \n",
              "Prometheus               Following clues to the origin of mankind, a te...   \n",
              "Split                    Three girls are kidnapped by a man with a diag...   \n",
              "Sing                     In a city of humanoid animals, a hustling thea...   \n",
              "Suicide Squad            A secret government agency recruits some of th...   \n",
              "\n",
              "                                     Director  \\\n",
              "Title                                           \n",
              "Guardians of the Galaxy            James Gunn   \n",
              "Prometheus                       Ridley Scott   \n",
              "Split                      M. Night Shyamalan   \n",
              "Sing                     Christophe Lourdelet   \n",
              "Suicide Squad                      David Ayer   \n",
              "\n",
              "                                                                    Actors  \\\n",
              "Title                                                                        \n",
              "Guardians of the Galaxy  Chris Pratt, Vin Diesel, Bradley Cooper, Zoe S...   \n",
              "Prometheus               Noomi Rapace, Logan Marshall-Green, Michael Fa...   \n",
              "Split                    James McAvoy, Anya Taylor-Joy, Haley Lu Richar...   \n",
              "Sing                     Matthew McConaughey,Reese Witherspoon, Seth Ma...   \n",
              "Suicide Squad            Will Smith, Jared Leto, Margot Robbie, Viola D...   \n",
              "\n",
              "                         Year  Runtime (Minutes)  Rating   Votes  \\\n",
              "Title                                                              \n",
              "Guardians of the Galaxy  2014                121     8.1  757074   \n",
              "Prometheus               2012                124     7.0  485820   \n",
              "Split                    2016                117     7.3  157606   \n",
              "Sing                     2016                108     7.2   60545   \n",
              "Suicide Squad            2016                123     6.2  393727   \n",
              "\n",
              "                         Revenue (Millions)  Metascore  \n",
              "Title                                                   \n",
              "Guardians of the Galaxy              333.13       76.0  \n",
              "Prometheus                           126.46       65.0  \n",
              "Split                                138.12       62.0  \n",
              "Sing                                 270.32       59.0  \n",
              "Suicide Squad                        325.02       40.0  "
            ],
            "text/html": [
              "\n",
              "  <div id=\"df-873a2ce9-96e0-41d6-859b-1dd156a08111\">\n",
              "    <div class=\"colab-df-container\">\n",
              "      <div>\n",
              "<style scoped>\n",
              "    .dataframe tbody tr th:only-of-type {\n",
              "        vertical-align: middle;\n",
              "    }\n",
              "\n",
              "    .dataframe tbody tr th {\n",
              "        vertical-align: top;\n",
              "    }\n",
              "\n",
              "    .dataframe thead th {\n",
              "        text-align: right;\n",
              "    }\n",
              "</style>\n",
              "<table border=\"1\" class=\"dataframe\">\n",
              "  <thead>\n",
              "    <tr style=\"text-align: right;\">\n",
              "      <th></th>\n",
              "      <th>Rank</th>\n",
              "      <th>Genre</th>\n",
              "      <th>Description</th>\n",
              "      <th>Director</th>\n",
              "      <th>Actors</th>\n",
              "      <th>Year</th>\n",
              "      <th>Runtime (Minutes)</th>\n",
              "      <th>Rating</th>\n",
              "      <th>Votes</th>\n",
              "      <th>Revenue (Millions)</th>\n",
              "      <th>Metascore</th>\n",
              "    </tr>\n",
              "    <tr>\n",
              "      <th>Title</th>\n",
              "      <th></th>\n",
              "      <th></th>\n",
              "      <th></th>\n",
              "      <th></th>\n",
              "      <th></th>\n",
              "      <th></th>\n",
              "      <th></th>\n",
              "      <th></th>\n",
              "      <th></th>\n",
              "      <th></th>\n",
              "      <th></th>\n",
              "    </tr>\n",
              "  </thead>\n",
              "  <tbody>\n",
              "    <tr>\n",
              "      <th>Guardians of the Galaxy</th>\n",
              "      <td>1</td>\n",
              "      <td>Action,Adventure,Sci-Fi</td>\n",
              "      <td>A group of intergalactic criminals are forced ...</td>\n",
              "      <td>James Gunn</td>\n",
              "      <td>Chris Pratt, Vin Diesel, Bradley Cooper, Zoe S...</td>\n",
              "      <td>2014</td>\n",
              "      <td>121</td>\n",
              "      <td>8.1</td>\n",
              "      <td>757074</td>\n",
              "      <td>333.13</td>\n",
              "      <td>76.0</td>\n",
              "    </tr>\n",
              "    <tr>\n",
              "      <th>Prometheus</th>\n",
              "      <td>2</td>\n",
              "      <td>Adventure,Mystery,Sci-Fi</td>\n",
              "      <td>Following clues to the origin of mankind, a te...</td>\n",
              "      <td>Ridley Scott</td>\n",
              "      <td>Noomi Rapace, Logan Marshall-Green, Michael Fa...</td>\n",
              "      <td>2012</td>\n",
              "      <td>124</td>\n",
              "      <td>7.0</td>\n",
              "      <td>485820</td>\n",
              "      <td>126.46</td>\n",
              "      <td>65.0</td>\n",
              "    </tr>\n",
              "    <tr>\n",
              "      <th>Split</th>\n",
              "      <td>3</td>\n",
              "      <td>Horror,Thriller</td>\n",
              "      <td>Three girls are kidnapped by a man with a diag...</td>\n",
              "      <td>M. Night Shyamalan</td>\n",
              "      <td>James McAvoy, Anya Taylor-Joy, Haley Lu Richar...</td>\n",
              "      <td>2016</td>\n",
              "      <td>117</td>\n",
              "      <td>7.3</td>\n",
              "      <td>157606</td>\n",
              "      <td>138.12</td>\n",
              "      <td>62.0</td>\n",
              "    </tr>\n",
              "    <tr>\n",
              "      <th>Sing</th>\n",
              "      <td>4</td>\n",
              "      <td>Animation,Comedy,Family</td>\n",
              "      <td>In a city of humanoid animals, a hustling thea...</td>\n",
              "      <td>Christophe Lourdelet</td>\n",
              "      <td>Matthew McConaughey,Reese Witherspoon, Seth Ma...</td>\n",
              "      <td>2016</td>\n",
              "      <td>108</td>\n",
              "      <td>7.2</td>\n",
              "      <td>60545</td>\n",
              "      <td>270.32</td>\n",
              "      <td>59.0</td>\n",
              "    </tr>\n",
              "    <tr>\n",
              "      <th>Suicide Squad</th>\n",
              "      <td>5</td>\n",
              "      <td>Action,Adventure,Fantasy</td>\n",
              "      <td>A secret government agency recruits some of th...</td>\n",
              "      <td>David Ayer</td>\n",
              "      <td>Will Smith, Jared Leto, Margot Robbie, Viola D...</td>\n",
              "      <td>2016</td>\n",
              "      <td>123</td>\n",
              "      <td>6.2</td>\n",
              "      <td>393727</td>\n",
              "      <td>325.02</td>\n",
              "      <td>40.0</td>\n",
              "    </tr>\n",
              "  </tbody>\n",
              "</table>\n",
              "</div>\n",
              "      <button class=\"colab-df-convert\" onclick=\"convertToInteractive('df-873a2ce9-96e0-41d6-859b-1dd156a08111')\"\n",
              "              title=\"Convert this dataframe to an interactive table.\"\n",
              "              style=\"display:none;\">\n",
              "        \n",
              "  <svg xmlns=\"http://www.w3.org/2000/svg\" height=\"24px\"viewBox=\"0 0 24 24\"\n",
              "       width=\"24px\">\n",
              "    <path d=\"M0 0h24v24H0V0z\" fill=\"none\"/>\n",
              "    <path d=\"M18.56 5.44l.94 2.06.94-2.06 2.06-.94-2.06-.94-.94-2.06-.94 2.06-2.06.94zm-11 1L8.5 8.5l.94-2.06 2.06-.94-2.06-.94L8.5 2.5l-.94 2.06-2.06.94zm10 10l.94 2.06.94-2.06 2.06-.94-2.06-.94-.94-2.06-.94 2.06-2.06.94z\"/><path d=\"M17.41 7.96l-1.37-1.37c-.4-.4-.92-.59-1.43-.59-.52 0-1.04.2-1.43.59L10.3 9.45l-7.72 7.72c-.78.78-.78 2.05 0 2.83L4 21.41c.39.39.9.59 1.41.59.51 0 1.02-.2 1.41-.59l7.78-7.78 2.81-2.81c.8-.78.8-2.07 0-2.86zM5.41 20L4 18.59l7.72-7.72 1.47 1.35L5.41 20z\"/>\n",
              "  </svg>\n",
              "      </button>\n",
              "      \n",
              "  <style>\n",
              "    .colab-df-container {\n",
              "      display:flex;\n",
              "      flex-wrap:wrap;\n",
              "      gap: 12px;\n",
              "    }\n",
              "\n",
              "    .colab-df-convert {\n",
              "      background-color: #E8F0FE;\n",
              "      border: none;\n",
              "      border-radius: 50%;\n",
              "      cursor: pointer;\n",
              "      display: none;\n",
              "      fill: #1967D2;\n",
              "      height: 32px;\n",
              "      padding: 0 0 0 0;\n",
              "      width: 32px;\n",
              "    }\n",
              "\n",
              "    .colab-df-convert:hover {\n",
              "      background-color: #E2EBFA;\n",
              "      box-shadow: 0px 1px 2px rgba(60, 64, 67, 0.3), 0px 1px 3px 1px rgba(60, 64, 67, 0.15);\n",
              "      fill: #174EA6;\n",
              "    }\n",
              "\n",
              "    [theme=dark] .colab-df-convert {\n",
              "      background-color: #3B4455;\n",
              "      fill: #D2E3FC;\n",
              "    }\n",
              "\n",
              "    [theme=dark] .colab-df-convert:hover {\n",
              "      background-color: #434B5C;\n",
              "      box-shadow: 0px 1px 3px 1px rgba(0, 0, 0, 0.15);\n",
              "      filter: drop-shadow(0px 1px 2px rgba(0, 0, 0, 0.3));\n",
              "      fill: #FFFFFF;\n",
              "    }\n",
              "  </style>\n",
              "\n",
              "      <script>\n",
              "        const buttonEl =\n",
              "          document.querySelector('#df-873a2ce9-96e0-41d6-859b-1dd156a08111 button.colab-df-convert');\n",
              "        buttonEl.style.display =\n",
              "          google.colab.kernel.accessAllowed ? 'block' : 'none';\n",
              "\n",
              "        async function convertToInteractive(key) {\n",
              "          const element = document.querySelector('#df-873a2ce9-96e0-41d6-859b-1dd156a08111');\n",
              "          const dataTable =\n",
              "            await google.colab.kernel.invokeFunction('convertToInteractive',\n",
              "                                                     [key], {});\n",
              "          if (!dataTable) return;\n",
              "\n",
              "          const docLinkHtml = 'Like what you see? Visit the ' +\n",
              "            '<a target=\"_blank\" href=https://colab.research.google.com/notebooks/data_table.ipynb>data table notebook</a>'\n",
              "            + ' to learn more about interactive tables.';\n",
              "          element.innerHTML = '';\n",
              "          dataTable['output_type'] = 'display_data';\n",
              "          await google.colab.output.renderOutput(dataTable, element);\n",
              "          const docLink = document.createElement('div');\n",
              "          docLink.innerHTML = docLinkHtml;\n",
              "          element.appendChild(docLink);\n",
              "        }\n",
              "      </script>\n",
              "    </div>\n",
              "  </div>\n",
              "  "
            ]
          },
          "metadata": {},
          "execution_count": 29
        }
      ]
    },
    {
      "cell_type": "code",
      "source": [
        "df_movie.info()"
      ],
      "metadata": {
        "colab": {
          "base_uri": "https://localhost:8080/"
        },
        "id": "kIzMKcNKMD6w",
        "outputId": "438408e2-7fb2-4d26-ce17-054763f0406d"
      },
      "execution_count": null,
      "outputs": [
        {
          "output_type": "stream",
          "name": "stdout",
          "text": [
            "<class 'pandas.core.frame.DataFrame'>\n",
            "Index: 1000 entries, Guardians of the Galaxy to Nine Lives\n",
            "Data columns (total 11 columns):\n",
            " #   Column              Non-Null Count  Dtype  \n",
            "---  ------              --------------  -----  \n",
            " 0   Rank                1000 non-null   int64  \n",
            " 1   Genre               1000 non-null   object \n",
            " 2   Description         1000 non-null   object \n",
            " 3   Director            1000 non-null   object \n",
            " 4   Actors              1000 non-null   object \n",
            " 5   Year                1000 non-null   int64  \n",
            " 6   Runtime (Minutes)   1000 non-null   int64  \n",
            " 7   Rating              1000 non-null   float64\n",
            " 8   Votes               1000 non-null   int64  \n",
            " 9   Revenue (Millions)  872 non-null    float64\n",
            " 10  Metascore           936 non-null    float64\n",
            "dtypes: float64(3), int64(4), object(4)\n",
            "memory usage: 93.8+ KB\n"
          ]
        }
      ]
    },
    {
      "cell_type": "code",
      "source": [
        "df_movie.columns"
      ],
      "metadata": {
        "colab": {
          "base_uri": "https://localhost:8080/"
        },
        "id": "N42rP2pJU-Pd",
        "outputId": "0a910df3-2912-40ad-a354-ca133b31c273"
      },
      "execution_count": null,
      "outputs": [
        {
          "output_type": "execute_result",
          "data": {
            "text/plain": [
              "Index(['Rank', 'Genre', 'Description', 'Director', 'Actors', 'Year',\n",
              "       'Runtime (Minutes)', 'Rating', 'Votes', 'Revenue (Millions)',\n",
              "       'Metascore'],\n",
              "      dtype='object')"
            ]
          },
          "metadata": {},
          "execution_count": 31
        }
      ]
    },
    {
      "cell_type": "markdown",
      "source": [
        "Check frequency directors of values (first 5 values)"
      ],
      "metadata": {
        "id": "sPe6SQsLJ-w8"
      }
    },
    {
      "cell_type": "code",
      "source": [
        "df_movie['Director'].value_counts().head(5)"
      ],
      "metadata": {
        "colab": {
          "base_uri": "https://localhost:8080/"
        },
        "id": "5Do2irgDJpRj",
        "outputId": "f9241e7c-f141-478d-aa54-022e1f0b3df7"
      },
      "execution_count": null,
      "outputs": [
        {
          "output_type": "execute_result",
          "data": {
            "text/plain": [
              "Ridley Scott          8\n",
              "David Yates           6\n",
              "M. Night Shyamalan    6\n",
              "Paul W.S. Anderson    6\n",
              "Michael Bay           6\n",
              "Name: Director, dtype: int64"
            ]
          },
          "metadata": {},
          "execution_count": 32
        }
      ]
    },
    {
      "cell_type": "code",
      "source": [
        "df_movie.loc['Passengers':'Gold']\n",
        "# df_moive.iloc[9:21]"
      ],
      "metadata": {
        "colab": {
          "base_uri": "https://localhost:8080/",
          "height": 726
        },
        "id": "2C1YlvL8Kf1N",
        "outputId": "1a22ab72-1f73-416a-8a27-79cb13d77a9e"
      },
      "execution_count": null,
      "outputs": [
        {
          "output_type": "execute_result",
          "data": {
            "text/plain": [
              "                                         Rank                       Genre  \\\n",
              "Title                                                                       \n",
              "Passengers                                 10     Adventure,Drama,Romance   \n",
              "Fantastic Beasts and Where to Find Them    11    Adventure,Family,Fantasy   \n",
              "Hidden Figures                             12     Biography,Drama,History   \n",
              "Rogue One                                  13     Action,Adventure,Sci-Fi   \n",
              "Moana                                      14  Animation,Adventure,Comedy   \n",
              "Colossal                                   15         Action,Comedy,Drama   \n",
              "The Secret Life of Pets                    16  Animation,Adventure,Comedy   \n",
              "Hacksaw Ridge                              17     Biography,Drama,History   \n",
              "Jason Bourne                               18             Action,Thriller   \n",
              "Lion                                       19             Biography,Drama   \n",
              "Arrival                                    20        Drama,Mystery,Sci-Fi   \n",
              "Gold                                       21    Adventure,Drama,Thriller   \n",
              "\n",
              "                                                                               Description  \\\n",
              "Title                                                                                        \n",
              "Passengers                               A spacecraft traveling to a distant colony pla...   \n",
              "Fantastic Beasts and Where to Find Them  The adventures of writer Newt Scamander in New...   \n",
              "Hidden Figures                           The story of a team of female African-American...   \n",
              "Rogue One                                The Rebel Alliance makes a risky move to steal...   \n",
              "Moana                                    In Ancient Polynesia, when a terrible curse in...   \n",
              "Colossal                                 Gloria is an out-of-work party girl forced to ...   \n",
              "The Secret Life of Pets                  The quiet life of a terrier named Max is upend...   \n",
              "Hacksaw Ridge                            WWII American Army Medic Desmond T. Doss, who ...   \n",
              "Jason Bourne                             The CIA's most dangerous former operative is d...   \n",
              "Lion                                     A five-year-old Indian boy gets lost on the st...   \n",
              "Arrival                                  When twelve mysterious spacecraft appear aroun...   \n",
              "Gold                                     Kenny Wells, a prospector desperate for a luck...   \n",
              "\n",
              "                                                 Director  \\\n",
              "Title                                                       \n",
              "Passengers                                  Morten Tyldum   \n",
              "Fantastic Beasts and Where to Find Them       David Yates   \n",
              "Hidden Figures                             Theodore Melfi   \n",
              "Rogue One                                  Gareth Edwards   \n",
              "Moana                                        Ron Clements   \n",
              "Colossal                                  Nacho Vigalondo   \n",
              "The Secret Life of Pets                      Chris Renaud   \n",
              "Hacksaw Ridge                                  Mel Gibson   \n",
              "Jason Bourne                              Paul Greengrass   \n",
              "Lion                                          Garth Davis   \n",
              "Arrival                                  Denis Villeneuve   \n",
              "Gold                                       Stephen Gaghan   \n",
              "\n",
              "                                                                                    Actors  \\\n",
              "Title                                                                                        \n",
              "Passengers                               Jennifer Lawrence, Chris Pratt, Michael Sheen,...   \n",
              "Fantastic Beasts and Where to Find Them  Eddie Redmayne, Katherine Waterston, Alison Su...   \n",
              "Hidden Figures                           Taraji P. Henson, Octavia Spencer, Janelle Mon...   \n",
              "Rogue One                                Felicity Jones, Diego Luna, Alan Tudyk, Donnie...   \n",
              "Moana                                    Auli'i Cravalho, Dwayne Johnson, Rachel House,...   \n",
              "Colossal                                 Anne Hathaway, Jason Sudeikis, Austin Stowell,...   \n",
              "The Secret Life of Pets                  Louis C.K., Eric Stonestreet, Kevin Hart, Lake...   \n",
              "Hacksaw Ridge                            Andrew Garfield, Sam Worthington, Luke Bracey,...   \n",
              "Jason Bourne                             Matt Damon, Tommy Lee Jones, Alicia Vikander,V...   \n",
              "Lion                                     Dev Patel, Nicole Kidman, Rooney Mara, Sunny P...   \n",
              "Arrival                                  Amy Adams, Jeremy Renner, Forest Whitaker,Mich...   \n",
              "Gold                                     Matthew McConaughey, Edgar Ramírez, Bryce Dall...   \n",
              "\n",
              "                                         Year  Runtime (Minutes)  Rating  \\\n",
              "Title                                                                      \n",
              "Passengers                               2016                116     7.0   \n",
              "Fantastic Beasts and Where to Find Them  2016                133     7.5   \n",
              "Hidden Figures                           2016                127     7.8   \n",
              "Rogue One                                2016                133     7.9   \n",
              "Moana                                    2016                107     7.7   \n",
              "Colossal                                 2016                109     6.4   \n",
              "The Secret Life of Pets                  2016                 87     6.6   \n",
              "Hacksaw Ridge                            2016                139     8.2   \n",
              "Jason Bourne                             2016                123     6.7   \n",
              "Lion                                     2016                118     8.1   \n",
              "Arrival                                  2016                116     8.0   \n",
              "Gold                                     2016                120     6.7   \n",
              "\n",
              "                                          Votes  Revenue (Millions)  Metascore  \n",
              "Title                                                                           \n",
              "Passengers                               192177              100.01       41.0  \n",
              "Fantastic Beasts and Where to Find Them  232072              234.02       66.0  \n",
              "Hidden Figures                            93103              169.27       74.0  \n",
              "Rogue One                                323118              532.17       65.0  \n",
              "Moana                                    118151              248.75       81.0  \n",
              "Colossal                                   8612                2.87       70.0  \n",
              "The Secret Life of Pets                  120259              368.31       61.0  \n",
              "Hacksaw Ridge                            211760               67.12       71.0  \n",
              "Jason Bourne                             150823              162.16       58.0  \n",
              "Lion                                     102061               51.69       69.0  \n",
              "Arrival                                  340798              100.50       81.0  \n",
              "Gold                                      19053                7.22       49.0  "
            ],
            "text/html": [
              "\n",
              "  <div id=\"df-5029c059-6e53-4baa-b127-4ee0aecd940c\">\n",
              "    <div class=\"colab-df-container\">\n",
              "      <div>\n",
              "<style scoped>\n",
              "    .dataframe tbody tr th:only-of-type {\n",
              "        vertical-align: middle;\n",
              "    }\n",
              "\n",
              "    .dataframe tbody tr th {\n",
              "        vertical-align: top;\n",
              "    }\n",
              "\n",
              "    .dataframe thead th {\n",
              "        text-align: right;\n",
              "    }\n",
              "</style>\n",
              "<table border=\"1\" class=\"dataframe\">\n",
              "  <thead>\n",
              "    <tr style=\"text-align: right;\">\n",
              "      <th></th>\n",
              "      <th>Rank</th>\n",
              "      <th>Genre</th>\n",
              "      <th>Description</th>\n",
              "      <th>Director</th>\n",
              "      <th>Actors</th>\n",
              "      <th>Year</th>\n",
              "      <th>Runtime (Minutes)</th>\n",
              "      <th>Rating</th>\n",
              "      <th>Votes</th>\n",
              "      <th>Revenue (Millions)</th>\n",
              "      <th>Metascore</th>\n",
              "    </tr>\n",
              "    <tr>\n",
              "      <th>Title</th>\n",
              "      <th></th>\n",
              "      <th></th>\n",
              "      <th></th>\n",
              "      <th></th>\n",
              "      <th></th>\n",
              "      <th></th>\n",
              "      <th></th>\n",
              "      <th></th>\n",
              "      <th></th>\n",
              "      <th></th>\n",
              "      <th></th>\n",
              "    </tr>\n",
              "  </thead>\n",
              "  <tbody>\n",
              "    <tr>\n",
              "      <th>Passengers</th>\n",
              "      <td>10</td>\n",
              "      <td>Adventure,Drama,Romance</td>\n",
              "      <td>A spacecraft traveling to a distant colony pla...</td>\n",
              "      <td>Morten Tyldum</td>\n",
              "      <td>Jennifer Lawrence, Chris Pratt, Michael Sheen,...</td>\n",
              "      <td>2016</td>\n",
              "      <td>116</td>\n",
              "      <td>7.0</td>\n",
              "      <td>192177</td>\n",
              "      <td>100.01</td>\n",
              "      <td>41.0</td>\n",
              "    </tr>\n",
              "    <tr>\n",
              "      <th>Fantastic Beasts and Where to Find Them</th>\n",
              "      <td>11</td>\n",
              "      <td>Adventure,Family,Fantasy</td>\n",
              "      <td>The adventures of writer Newt Scamander in New...</td>\n",
              "      <td>David Yates</td>\n",
              "      <td>Eddie Redmayne, Katherine Waterston, Alison Su...</td>\n",
              "      <td>2016</td>\n",
              "      <td>133</td>\n",
              "      <td>7.5</td>\n",
              "      <td>232072</td>\n",
              "      <td>234.02</td>\n",
              "      <td>66.0</td>\n",
              "    </tr>\n",
              "    <tr>\n",
              "      <th>Hidden Figures</th>\n",
              "      <td>12</td>\n",
              "      <td>Biography,Drama,History</td>\n",
              "      <td>The story of a team of female African-American...</td>\n",
              "      <td>Theodore Melfi</td>\n",
              "      <td>Taraji P. Henson, Octavia Spencer, Janelle Mon...</td>\n",
              "      <td>2016</td>\n",
              "      <td>127</td>\n",
              "      <td>7.8</td>\n",
              "      <td>93103</td>\n",
              "      <td>169.27</td>\n",
              "      <td>74.0</td>\n",
              "    </tr>\n",
              "    <tr>\n",
              "      <th>Rogue One</th>\n",
              "      <td>13</td>\n",
              "      <td>Action,Adventure,Sci-Fi</td>\n",
              "      <td>The Rebel Alliance makes a risky move to steal...</td>\n",
              "      <td>Gareth Edwards</td>\n",
              "      <td>Felicity Jones, Diego Luna, Alan Tudyk, Donnie...</td>\n",
              "      <td>2016</td>\n",
              "      <td>133</td>\n",
              "      <td>7.9</td>\n",
              "      <td>323118</td>\n",
              "      <td>532.17</td>\n",
              "      <td>65.0</td>\n",
              "    </tr>\n",
              "    <tr>\n",
              "      <th>Moana</th>\n",
              "      <td>14</td>\n",
              "      <td>Animation,Adventure,Comedy</td>\n",
              "      <td>In Ancient Polynesia, when a terrible curse in...</td>\n",
              "      <td>Ron Clements</td>\n",
              "      <td>Auli'i Cravalho, Dwayne Johnson, Rachel House,...</td>\n",
              "      <td>2016</td>\n",
              "      <td>107</td>\n",
              "      <td>7.7</td>\n",
              "      <td>118151</td>\n",
              "      <td>248.75</td>\n",
              "      <td>81.0</td>\n",
              "    </tr>\n",
              "    <tr>\n",
              "      <th>Colossal</th>\n",
              "      <td>15</td>\n",
              "      <td>Action,Comedy,Drama</td>\n",
              "      <td>Gloria is an out-of-work party girl forced to ...</td>\n",
              "      <td>Nacho Vigalondo</td>\n",
              "      <td>Anne Hathaway, Jason Sudeikis, Austin Stowell,...</td>\n",
              "      <td>2016</td>\n",
              "      <td>109</td>\n",
              "      <td>6.4</td>\n",
              "      <td>8612</td>\n",
              "      <td>2.87</td>\n",
              "      <td>70.0</td>\n",
              "    </tr>\n",
              "    <tr>\n",
              "      <th>The Secret Life of Pets</th>\n",
              "      <td>16</td>\n",
              "      <td>Animation,Adventure,Comedy</td>\n",
              "      <td>The quiet life of a terrier named Max is upend...</td>\n",
              "      <td>Chris Renaud</td>\n",
              "      <td>Louis C.K., Eric Stonestreet, Kevin Hart, Lake...</td>\n",
              "      <td>2016</td>\n",
              "      <td>87</td>\n",
              "      <td>6.6</td>\n",
              "      <td>120259</td>\n",
              "      <td>368.31</td>\n",
              "      <td>61.0</td>\n",
              "    </tr>\n",
              "    <tr>\n",
              "      <th>Hacksaw Ridge</th>\n",
              "      <td>17</td>\n",
              "      <td>Biography,Drama,History</td>\n",
              "      <td>WWII American Army Medic Desmond T. Doss, who ...</td>\n",
              "      <td>Mel Gibson</td>\n",
              "      <td>Andrew Garfield, Sam Worthington, Luke Bracey,...</td>\n",
              "      <td>2016</td>\n",
              "      <td>139</td>\n",
              "      <td>8.2</td>\n",
              "      <td>211760</td>\n",
              "      <td>67.12</td>\n",
              "      <td>71.0</td>\n",
              "    </tr>\n",
              "    <tr>\n",
              "      <th>Jason Bourne</th>\n",
              "      <td>18</td>\n",
              "      <td>Action,Thriller</td>\n",
              "      <td>The CIA's most dangerous former operative is d...</td>\n",
              "      <td>Paul Greengrass</td>\n",
              "      <td>Matt Damon, Tommy Lee Jones, Alicia Vikander,V...</td>\n",
              "      <td>2016</td>\n",
              "      <td>123</td>\n",
              "      <td>6.7</td>\n",
              "      <td>150823</td>\n",
              "      <td>162.16</td>\n",
              "      <td>58.0</td>\n",
              "    </tr>\n",
              "    <tr>\n",
              "      <th>Lion</th>\n",
              "      <td>19</td>\n",
              "      <td>Biography,Drama</td>\n",
              "      <td>A five-year-old Indian boy gets lost on the st...</td>\n",
              "      <td>Garth Davis</td>\n",
              "      <td>Dev Patel, Nicole Kidman, Rooney Mara, Sunny P...</td>\n",
              "      <td>2016</td>\n",
              "      <td>118</td>\n",
              "      <td>8.1</td>\n",
              "      <td>102061</td>\n",
              "      <td>51.69</td>\n",
              "      <td>69.0</td>\n",
              "    </tr>\n",
              "    <tr>\n",
              "      <th>Arrival</th>\n",
              "      <td>20</td>\n",
              "      <td>Drama,Mystery,Sci-Fi</td>\n",
              "      <td>When twelve mysterious spacecraft appear aroun...</td>\n",
              "      <td>Denis Villeneuve</td>\n",
              "      <td>Amy Adams, Jeremy Renner, Forest Whitaker,Mich...</td>\n",
              "      <td>2016</td>\n",
              "      <td>116</td>\n",
              "      <td>8.0</td>\n",
              "      <td>340798</td>\n",
              "      <td>100.50</td>\n",
              "      <td>81.0</td>\n",
              "    </tr>\n",
              "    <tr>\n",
              "      <th>Gold</th>\n",
              "      <td>21</td>\n",
              "      <td>Adventure,Drama,Thriller</td>\n",
              "      <td>Kenny Wells, a prospector desperate for a luck...</td>\n",
              "      <td>Stephen Gaghan</td>\n",
              "      <td>Matthew McConaughey, Edgar Ramírez, Bryce Dall...</td>\n",
              "      <td>2016</td>\n",
              "      <td>120</td>\n",
              "      <td>6.7</td>\n",
              "      <td>19053</td>\n",
              "      <td>7.22</td>\n",
              "      <td>49.0</td>\n",
              "    </tr>\n",
              "  </tbody>\n",
              "</table>\n",
              "</div>\n",
              "      <button class=\"colab-df-convert\" onclick=\"convertToInteractive('df-5029c059-6e53-4baa-b127-4ee0aecd940c')\"\n",
              "              title=\"Convert this dataframe to an interactive table.\"\n",
              "              style=\"display:none;\">\n",
              "        \n",
              "  <svg xmlns=\"http://www.w3.org/2000/svg\" height=\"24px\"viewBox=\"0 0 24 24\"\n",
              "       width=\"24px\">\n",
              "    <path d=\"M0 0h24v24H0V0z\" fill=\"none\"/>\n",
              "    <path d=\"M18.56 5.44l.94 2.06.94-2.06 2.06-.94-2.06-.94-.94-2.06-.94 2.06-2.06.94zm-11 1L8.5 8.5l.94-2.06 2.06-.94-2.06-.94L8.5 2.5l-.94 2.06-2.06.94zm10 10l.94 2.06.94-2.06 2.06-.94-2.06-.94-.94-2.06-.94 2.06-2.06.94z\"/><path d=\"M17.41 7.96l-1.37-1.37c-.4-.4-.92-.59-1.43-.59-.52 0-1.04.2-1.43.59L10.3 9.45l-7.72 7.72c-.78.78-.78 2.05 0 2.83L4 21.41c.39.39.9.59 1.41.59.51 0 1.02-.2 1.41-.59l7.78-7.78 2.81-2.81c.8-.78.8-2.07 0-2.86zM5.41 20L4 18.59l7.72-7.72 1.47 1.35L5.41 20z\"/>\n",
              "  </svg>\n",
              "      </button>\n",
              "      \n",
              "  <style>\n",
              "    .colab-df-container {\n",
              "      display:flex;\n",
              "      flex-wrap:wrap;\n",
              "      gap: 12px;\n",
              "    }\n",
              "\n",
              "    .colab-df-convert {\n",
              "      background-color: #E8F0FE;\n",
              "      border: none;\n",
              "      border-radius: 50%;\n",
              "      cursor: pointer;\n",
              "      display: none;\n",
              "      fill: #1967D2;\n",
              "      height: 32px;\n",
              "      padding: 0 0 0 0;\n",
              "      width: 32px;\n",
              "    }\n",
              "\n",
              "    .colab-df-convert:hover {\n",
              "      background-color: #E2EBFA;\n",
              "      box-shadow: 0px 1px 2px rgba(60, 64, 67, 0.3), 0px 1px 3px 1px rgba(60, 64, 67, 0.15);\n",
              "      fill: #174EA6;\n",
              "    }\n",
              "\n",
              "    [theme=dark] .colab-df-convert {\n",
              "      background-color: #3B4455;\n",
              "      fill: #D2E3FC;\n",
              "    }\n",
              "\n",
              "    [theme=dark] .colab-df-convert:hover {\n",
              "      background-color: #434B5C;\n",
              "      box-shadow: 0px 1px 3px 1px rgba(0, 0, 0, 0.15);\n",
              "      filter: drop-shadow(0px 1px 2px rgba(0, 0, 0, 0.3));\n",
              "      fill: #FFFFFF;\n",
              "    }\n",
              "  </style>\n",
              "\n",
              "      <script>\n",
              "        const buttonEl =\n",
              "          document.querySelector('#df-5029c059-6e53-4baa-b127-4ee0aecd940c button.colab-df-convert');\n",
              "        buttonEl.style.display =\n",
              "          google.colab.kernel.accessAllowed ? 'block' : 'none';\n",
              "\n",
              "        async function convertToInteractive(key) {\n",
              "          const element = document.querySelector('#df-5029c059-6e53-4baa-b127-4ee0aecd940c');\n",
              "          const dataTable =\n",
              "            await google.colab.kernel.invokeFunction('convertToInteractive',\n",
              "                                                     [key], {});\n",
              "          if (!dataTable) return;\n",
              "\n",
              "          const docLinkHtml = 'Like what you see? Visit the ' +\n",
              "            '<a target=\"_blank\" href=https://colab.research.google.com/notebooks/data_table.ipynb>data table notebook</a>'\n",
              "            + ' to learn more about interactive tables.';\n",
              "          element.innerHTML = '';\n",
              "          dataTable['output_type'] = 'display_data';\n",
              "          await google.colab.output.renderOutput(dataTable, element);\n",
              "          const docLink = document.createElement('div');\n",
              "          docLink.innerHTML = docLinkHtml;\n",
              "          element.appendChild(docLink);\n",
              "        }\n",
              "      </script>\n",
              "    </div>\n",
              "  </div>\n",
              "  "
            ]
          },
          "metadata": {},
          "execution_count": 33
        }
      ]
    },
    {
      "cell_type": "code",
      "source": [
        "df_movie[df_movie['Year'] == 2012]"
      ],
      "metadata": {
        "colab": {
          "base_uri": "https://localhost:8080/",
          "height": 690
        },
        "id": "QHYwgamyK0ZR",
        "outputId": "0cc3e2c0-7aef-4434-a048-0ac0e8b0eacd"
      },
      "execution_count": null,
      "outputs": [
        {
          "output_type": "execute_result",
          "data": {
            "text/plain": [
              "                            Rank                      Genre  \\\n",
              "Title                                                         \n",
              "Prometheus                     2   Adventure,Mystery,Sci-Fi   \n",
              "The Avengers                  77              Action,Sci-Fi   \n",
              "The Dark Knight Rises        125            Action,Thriller   \n",
              "The Place Beyond the Pines   136       Crime,Drama,Thriller   \n",
              "Django Unchained             145              Drama,Western   \n",
              "...                          ...                        ...   \n",
              "The Expendables 2            917  Action,Adventure,Thriller   \n",
              "The Master                   930                      Drama   \n",
              "End of Watch                 958       Crime,Drama,Thriller   \n",
              "Rock of Ages                 973       Comedy,Drama,Musical   \n",
              "Project X                    995                     Comedy   \n",
              "\n",
              "                                                                  Description  \\\n",
              "Title                                                                           \n",
              "Prometheus                  Following clues to the origin of mankind, a te...   \n",
              "The Avengers                Earth's mightiest heroes must come together an...   \n",
              "The Dark Knight Rises       Eight years after the Joker's reign of anarchy...   \n",
              "The Place Beyond the Pines  A motorcycle stunt rider turns to robbing bank...   \n",
              "Django Unchained            With the help of a German bounty hunter , a fr...   \n",
              "...                                                                       ...   \n",
              "The Expendables 2           Mr. Church reunites the Expendables for what s...   \n",
              "The Master                  A Naval veteran arrives home from war unsettle...   \n",
              "End of Watch                Shot documentary-style, this film follows the ...   \n",
              "Rock of Ages                A small town girl and a city boy meet on the S...   \n",
              "Project X                   3 high school seniors throw a birthday party t...   \n",
              "\n",
              "                                        Director  \\\n",
              "Title                                              \n",
              "Prometheus                          Ridley Scott   \n",
              "The Avengers                         Joss Whedon   \n",
              "The Dark Knight Rises          Christopher Nolan   \n",
              "The Place Beyond the Pines      Derek Cianfrance   \n",
              "Django Unchained               Quentin Tarantino   \n",
              "...                                          ...   \n",
              "The Expendables 2                     Simon West   \n",
              "The Master                  Paul Thomas Anderson   \n",
              "End of Watch                          David Ayer   \n",
              "Rock of Ages                       Adam Shankman   \n",
              "Project X                        Nima Nourizadeh   \n",
              "\n",
              "                                                                       Actors  \\\n",
              "Title                                                                           \n",
              "Prometheus                  Noomi Rapace, Logan Marshall-Green, Michael Fa...   \n",
              "The Avengers                Robert Downey Jr., Chris Evans, Scarlett Johan...   \n",
              "The Dark Knight Rises       Christian Bale, Tom Hardy, Anne Hathaway,Gary ...   \n",
              "The Place Beyond the Pines  Ryan Gosling, Bradley Cooper, Eva Mendes,Craig...   \n",
              "Django Unchained            Jamie Foxx, Christoph Waltz, Leonardo DiCaprio...   \n",
              "...                                                                       ...   \n",
              "The Expendables 2           Sylvester Stallone, Liam Hemsworth, Randy Cout...   \n",
              "The Master                  Philip Seymour Hoffman, Joaquin Phoenix,Amy Ad...   \n",
              "End of Watch                Jake Gyllenhaal, Michael Peña, Anna Kendrick, ...   \n",
              "Rock of Ages                Julianne Hough, Diego Boneta, Tom Cruise, Alec...   \n",
              "Project X                   Thomas Mann, Oliver Cooper, Jonathan Daniel Br...   \n",
              "\n",
              "                            Year  Runtime (Minutes)  Rating    Votes  \\\n",
              "Title                                                                  \n",
              "Prometheus                  2012                124     7.0   485820   \n",
              "The Avengers                2012                143     8.1  1045588   \n",
              "The Dark Knight Rises       2012                164     8.5  1222645   \n",
              "The Place Beyond the Pines  2012                140     7.3   200090   \n",
              "Django Unchained            2012                165     8.4  1039115   \n",
              "...                          ...                ...     ...      ...   \n",
              "The Expendables 2           2012                103     6.6   257395   \n",
              "The Master                  2012                144     7.1   112902   \n",
              "End of Watch                2012                109     7.7   192190   \n",
              "Rock of Ages                2012                123     5.9    64513   \n",
              "Project X                   2012                 88     6.7   164088   \n",
              "\n",
              "                            Revenue (Millions)  Metascore  \n",
              "Title                                                      \n",
              "Prometheus                              126.46       65.0  \n",
              "The Avengers                            623.28       69.0  \n",
              "The Dark Knight Rises                   448.13       78.0  \n",
              "The Place Beyond the Pines               21.38       68.0  \n",
              "Django Unchained                        162.80       81.0  \n",
              "...                                        ...        ...  \n",
              "The Expendables 2                        85.02       51.0  \n",
              "The Master                               16.38        NaN  \n",
              "End of Watch                             40.98       68.0  \n",
              "Rock of Ages                             38.51       47.0  \n",
              "Project X                                54.72       48.0  \n",
              "\n",
              "[64 rows x 11 columns]"
            ],
            "text/html": [
              "\n",
              "  <div id=\"df-574bbf2a-dd4c-4edc-9a37-744270db7a62\">\n",
              "    <div class=\"colab-df-container\">\n",
              "      <div>\n",
              "<style scoped>\n",
              "    .dataframe tbody tr th:only-of-type {\n",
              "        vertical-align: middle;\n",
              "    }\n",
              "\n",
              "    .dataframe tbody tr th {\n",
              "        vertical-align: top;\n",
              "    }\n",
              "\n",
              "    .dataframe thead th {\n",
              "        text-align: right;\n",
              "    }\n",
              "</style>\n",
              "<table border=\"1\" class=\"dataframe\">\n",
              "  <thead>\n",
              "    <tr style=\"text-align: right;\">\n",
              "      <th></th>\n",
              "      <th>Rank</th>\n",
              "      <th>Genre</th>\n",
              "      <th>Description</th>\n",
              "      <th>Director</th>\n",
              "      <th>Actors</th>\n",
              "      <th>Year</th>\n",
              "      <th>Runtime (Minutes)</th>\n",
              "      <th>Rating</th>\n",
              "      <th>Votes</th>\n",
              "      <th>Revenue (Millions)</th>\n",
              "      <th>Metascore</th>\n",
              "    </tr>\n",
              "    <tr>\n",
              "      <th>Title</th>\n",
              "      <th></th>\n",
              "      <th></th>\n",
              "      <th></th>\n",
              "      <th></th>\n",
              "      <th></th>\n",
              "      <th></th>\n",
              "      <th></th>\n",
              "      <th></th>\n",
              "      <th></th>\n",
              "      <th></th>\n",
              "      <th></th>\n",
              "    </tr>\n",
              "  </thead>\n",
              "  <tbody>\n",
              "    <tr>\n",
              "      <th>Prometheus</th>\n",
              "      <td>2</td>\n",
              "      <td>Adventure,Mystery,Sci-Fi</td>\n",
              "      <td>Following clues to the origin of mankind, a te...</td>\n",
              "      <td>Ridley Scott</td>\n",
              "      <td>Noomi Rapace, Logan Marshall-Green, Michael Fa...</td>\n",
              "      <td>2012</td>\n",
              "      <td>124</td>\n",
              "      <td>7.0</td>\n",
              "      <td>485820</td>\n",
              "      <td>126.46</td>\n",
              "      <td>65.0</td>\n",
              "    </tr>\n",
              "    <tr>\n",
              "      <th>The Avengers</th>\n",
              "      <td>77</td>\n",
              "      <td>Action,Sci-Fi</td>\n",
              "      <td>Earth's mightiest heroes must come together an...</td>\n",
              "      <td>Joss Whedon</td>\n",
              "      <td>Robert Downey Jr., Chris Evans, Scarlett Johan...</td>\n",
              "      <td>2012</td>\n",
              "      <td>143</td>\n",
              "      <td>8.1</td>\n",
              "      <td>1045588</td>\n",
              "      <td>623.28</td>\n",
              "      <td>69.0</td>\n",
              "    </tr>\n",
              "    <tr>\n",
              "      <th>The Dark Knight Rises</th>\n",
              "      <td>125</td>\n",
              "      <td>Action,Thriller</td>\n",
              "      <td>Eight years after the Joker's reign of anarchy...</td>\n",
              "      <td>Christopher Nolan</td>\n",
              "      <td>Christian Bale, Tom Hardy, Anne Hathaway,Gary ...</td>\n",
              "      <td>2012</td>\n",
              "      <td>164</td>\n",
              "      <td>8.5</td>\n",
              "      <td>1222645</td>\n",
              "      <td>448.13</td>\n",
              "      <td>78.0</td>\n",
              "    </tr>\n",
              "    <tr>\n",
              "      <th>The Place Beyond the Pines</th>\n",
              "      <td>136</td>\n",
              "      <td>Crime,Drama,Thriller</td>\n",
              "      <td>A motorcycle stunt rider turns to robbing bank...</td>\n",
              "      <td>Derek Cianfrance</td>\n",
              "      <td>Ryan Gosling, Bradley Cooper, Eva Mendes,Craig...</td>\n",
              "      <td>2012</td>\n",
              "      <td>140</td>\n",
              "      <td>7.3</td>\n",
              "      <td>200090</td>\n",
              "      <td>21.38</td>\n",
              "      <td>68.0</td>\n",
              "    </tr>\n",
              "    <tr>\n",
              "      <th>Django Unchained</th>\n",
              "      <td>145</td>\n",
              "      <td>Drama,Western</td>\n",
              "      <td>With the help of a German bounty hunter , a fr...</td>\n",
              "      <td>Quentin Tarantino</td>\n",
              "      <td>Jamie Foxx, Christoph Waltz, Leonardo DiCaprio...</td>\n",
              "      <td>2012</td>\n",
              "      <td>165</td>\n",
              "      <td>8.4</td>\n",
              "      <td>1039115</td>\n",
              "      <td>162.80</td>\n",
              "      <td>81.0</td>\n",
              "    </tr>\n",
              "    <tr>\n",
              "      <th>...</th>\n",
              "      <td>...</td>\n",
              "      <td>...</td>\n",
              "      <td>...</td>\n",
              "      <td>...</td>\n",
              "      <td>...</td>\n",
              "      <td>...</td>\n",
              "      <td>...</td>\n",
              "      <td>...</td>\n",
              "      <td>...</td>\n",
              "      <td>...</td>\n",
              "      <td>...</td>\n",
              "    </tr>\n",
              "    <tr>\n",
              "      <th>The Expendables 2</th>\n",
              "      <td>917</td>\n",
              "      <td>Action,Adventure,Thriller</td>\n",
              "      <td>Mr. Church reunites the Expendables for what s...</td>\n",
              "      <td>Simon West</td>\n",
              "      <td>Sylvester Stallone, Liam Hemsworth, Randy Cout...</td>\n",
              "      <td>2012</td>\n",
              "      <td>103</td>\n",
              "      <td>6.6</td>\n",
              "      <td>257395</td>\n",
              "      <td>85.02</td>\n",
              "      <td>51.0</td>\n",
              "    </tr>\n",
              "    <tr>\n",
              "      <th>The Master</th>\n",
              "      <td>930</td>\n",
              "      <td>Drama</td>\n",
              "      <td>A Naval veteran arrives home from war unsettle...</td>\n",
              "      <td>Paul Thomas Anderson</td>\n",
              "      <td>Philip Seymour Hoffman, Joaquin Phoenix,Amy Ad...</td>\n",
              "      <td>2012</td>\n",
              "      <td>144</td>\n",
              "      <td>7.1</td>\n",
              "      <td>112902</td>\n",
              "      <td>16.38</td>\n",
              "      <td>NaN</td>\n",
              "    </tr>\n",
              "    <tr>\n",
              "      <th>End of Watch</th>\n",
              "      <td>958</td>\n",
              "      <td>Crime,Drama,Thriller</td>\n",
              "      <td>Shot documentary-style, this film follows the ...</td>\n",
              "      <td>David Ayer</td>\n",
              "      <td>Jake Gyllenhaal, Michael Peña, Anna Kendrick, ...</td>\n",
              "      <td>2012</td>\n",
              "      <td>109</td>\n",
              "      <td>7.7</td>\n",
              "      <td>192190</td>\n",
              "      <td>40.98</td>\n",
              "      <td>68.0</td>\n",
              "    </tr>\n",
              "    <tr>\n",
              "      <th>Rock of Ages</th>\n",
              "      <td>973</td>\n",
              "      <td>Comedy,Drama,Musical</td>\n",
              "      <td>A small town girl and a city boy meet on the S...</td>\n",
              "      <td>Adam Shankman</td>\n",
              "      <td>Julianne Hough, Diego Boneta, Tom Cruise, Alec...</td>\n",
              "      <td>2012</td>\n",
              "      <td>123</td>\n",
              "      <td>5.9</td>\n",
              "      <td>64513</td>\n",
              "      <td>38.51</td>\n",
              "      <td>47.0</td>\n",
              "    </tr>\n",
              "    <tr>\n",
              "      <th>Project X</th>\n",
              "      <td>995</td>\n",
              "      <td>Comedy</td>\n",
              "      <td>3 high school seniors throw a birthday party t...</td>\n",
              "      <td>Nima Nourizadeh</td>\n",
              "      <td>Thomas Mann, Oliver Cooper, Jonathan Daniel Br...</td>\n",
              "      <td>2012</td>\n",
              "      <td>88</td>\n",
              "      <td>6.7</td>\n",
              "      <td>164088</td>\n",
              "      <td>54.72</td>\n",
              "      <td>48.0</td>\n",
              "    </tr>\n",
              "  </tbody>\n",
              "</table>\n",
              "<p>64 rows × 11 columns</p>\n",
              "</div>\n",
              "      <button class=\"colab-df-convert\" onclick=\"convertToInteractive('df-574bbf2a-dd4c-4edc-9a37-744270db7a62')\"\n",
              "              title=\"Convert this dataframe to an interactive table.\"\n",
              "              style=\"display:none;\">\n",
              "        \n",
              "  <svg xmlns=\"http://www.w3.org/2000/svg\" height=\"24px\"viewBox=\"0 0 24 24\"\n",
              "       width=\"24px\">\n",
              "    <path d=\"M0 0h24v24H0V0z\" fill=\"none\"/>\n",
              "    <path d=\"M18.56 5.44l.94 2.06.94-2.06 2.06-.94-2.06-.94-.94-2.06-.94 2.06-2.06.94zm-11 1L8.5 8.5l.94-2.06 2.06-.94-2.06-.94L8.5 2.5l-.94 2.06-2.06.94zm10 10l.94 2.06.94-2.06 2.06-.94-2.06-.94-.94-2.06-.94 2.06-2.06.94z\"/><path d=\"M17.41 7.96l-1.37-1.37c-.4-.4-.92-.59-1.43-.59-.52 0-1.04.2-1.43.59L10.3 9.45l-7.72 7.72c-.78.78-.78 2.05 0 2.83L4 21.41c.39.39.9.59 1.41.59.51 0 1.02-.2 1.41-.59l7.78-7.78 2.81-2.81c.8-.78.8-2.07 0-2.86zM5.41 20L4 18.59l7.72-7.72 1.47 1.35L5.41 20z\"/>\n",
              "  </svg>\n",
              "      </button>\n",
              "      \n",
              "  <style>\n",
              "    .colab-df-container {\n",
              "      display:flex;\n",
              "      flex-wrap:wrap;\n",
              "      gap: 12px;\n",
              "    }\n",
              "\n",
              "    .colab-df-convert {\n",
              "      background-color: #E8F0FE;\n",
              "      border: none;\n",
              "      border-radius: 50%;\n",
              "      cursor: pointer;\n",
              "      display: none;\n",
              "      fill: #1967D2;\n",
              "      height: 32px;\n",
              "      padding: 0 0 0 0;\n",
              "      width: 32px;\n",
              "    }\n",
              "\n",
              "    .colab-df-convert:hover {\n",
              "      background-color: #E2EBFA;\n",
              "      box-shadow: 0px 1px 2px rgba(60, 64, 67, 0.3), 0px 1px 3px 1px rgba(60, 64, 67, 0.15);\n",
              "      fill: #174EA6;\n",
              "    }\n",
              "\n",
              "    [theme=dark] .colab-df-convert {\n",
              "      background-color: #3B4455;\n",
              "      fill: #D2E3FC;\n",
              "    }\n",
              "\n",
              "    [theme=dark] .colab-df-convert:hover {\n",
              "      background-color: #434B5C;\n",
              "      box-shadow: 0px 1px 3px 1px rgba(0, 0, 0, 0.15);\n",
              "      filter: drop-shadow(0px 1px 2px rgba(0, 0, 0, 0.3));\n",
              "      fill: #FFFFFF;\n",
              "    }\n",
              "  </style>\n",
              "\n",
              "      <script>\n",
              "        const buttonEl =\n",
              "          document.querySelector('#df-574bbf2a-dd4c-4edc-9a37-744270db7a62 button.colab-df-convert');\n",
              "        buttonEl.style.display =\n",
              "          google.colab.kernel.accessAllowed ? 'block' : 'none';\n",
              "\n",
              "        async function convertToInteractive(key) {\n",
              "          const element = document.querySelector('#df-574bbf2a-dd4c-4edc-9a37-744270db7a62');\n",
              "          const dataTable =\n",
              "            await google.colab.kernel.invokeFunction('convertToInteractive',\n",
              "                                                     [key], {});\n",
              "          if (!dataTable) return;\n",
              "\n",
              "          const docLinkHtml = 'Like what you see? Visit the ' +\n",
              "            '<a target=\"_blank\" href=https://colab.research.google.com/notebooks/data_table.ipynb>data table notebook</a>'\n",
              "            + ' to learn more about interactive tables.';\n",
              "          element.innerHTML = '';\n",
              "          dataTable['output_type'] = 'display_data';\n",
              "          await google.colab.output.renderOutput(dataTable, element);\n",
              "          const docLink = document.createElement('div');\n",
              "          docLink.innerHTML = docLinkHtml;\n",
              "          element.appendChild(docLink);\n",
              "        }\n",
              "      </script>\n",
              "    </div>\n",
              "  </div>\n",
              "  "
            ]
          },
          "metadata": {},
          "execution_count": 34
        }
      ]
    },
    {
      "cell_type": "code",
      "source": [
        "df_movie.rename(columns={'Runtime (Minutes)': 'Runtime'}, inplace= True)"
      ],
      "metadata": {
        "id": "FD8xEaQwL7lf"
      },
      "execution_count": null,
      "outputs": []
    },
    {
      "cell_type": "code",
      "source": [
        "df_movie.rename(columns={'Revenue (Millions)': 'Revenue'}, inplace= True)"
      ],
      "metadata": {
        "id": "SZ9qM_WKN3HY"
      },
      "execution_count": null,
      "outputs": []
    },
    {
      "cell_type": "code",
      "source": [
        "df_movie[(df_movie['Metascore'] > 60)&\n",
        "         (df_movie['Rating'] > 6)&\n",
        "         (df_movie['Year'] == 2016)]"
      ],
      "metadata": {
        "colab": {
          "base_uri": "https://localhost:8080/",
          "height": 672
        },
        "id": "rh04k17HM_a_",
        "outputId": "52e98f68-51c7-43de-a1db-cdf3f240ab5f"
      },
      "execution_count": null,
      "outputs": [
        {
          "output_type": "execute_result",
          "data": {
            "text/plain": [
              "                                         Rank                       Genre  \\\n",
              "Title                                                                       \n",
              "Split                                       3             Horror,Thriller   \n",
              "La La Land                                  7          Comedy,Drama,Music   \n",
              "Mindhorn                                    8                      Comedy   \n",
              "The Lost City of Z                          9  Action,Adventure,Biography   \n",
              "Fantastic Beasts and Where to Find Them    11    Adventure,Family,Fantasy   \n",
              "...                                       ...                         ...   \n",
              "The Siege of Jadotville                   939       Action,Drama,Thriller   \n",
              "Kicks                                     950                   Adventure   \n",
              "Custody                                   965                       Drama   \n",
              "L'odyssée                                 967         Adventure,Biography   \n",
              "Queen of Katwe                            975       Biography,Drama,Sport   \n",
              "\n",
              "                                                                               Description  \\\n",
              "Title                                                                                        \n",
              "Split                                    Three girls are kidnapped by a man with a diag...   \n",
              "La La Land                               A jazz pianist falls for an aspiring actress i...   \n",
              "Mindhorn                                 A has-been actor best known for playing the ti...   \n",
              "The Lost City of Z                       A true-life drama, centering on British explor...   \n",
              "Fantastic Beasts and Where to Find Them  The adventures of writer Newt Scamander in New...   \n",
              "...                                                                                    ...   \n",
              "The Siege of Jadotville                  Irish Commandant Pat Quinlan leads a stand off...   \n",
              "Kicks                                    Brandon is a 15 year old whose dream is a pair...   \n",
              "Custody                                  The lives of three women are unexpectedly chan...   \n",
              "L'odyssée                                Highly influential and a fearlessly ambitious ...   \n",
              "Queen of Katwe                           A Ugandan girl sees her world rapidly change a...   \n",
              "\n",
              "                                                   Director  \\\n",
              "Title                                                         \n",
              "Split                                    M. Night Shyamalan   \n",
              "La La Land                                  Damien Chazelle   \n",
              "Mindhorn                                         Sean Foley   \n",
              "The Lost City of Z                               James Gray   \n",
              "Fantastic Beasts and Where to Find Them         David Yates   \n",
              "...                                                     ...   \n",
              "The Siege of Jadotville                        Richie Smyth   \n",
              "Kicks                                        Justin Tipping   \n",
              "Custody                                        James Lapine   \n",
              "L'odyssée                                      Jérôme Salle   \n",
              "Queen of Katwe                                    Mira Nair   \n",
              "\n",
              "                                                                                    Actors  \\\n",
              "Title                                                                                        \n",
              "Split                                    James McAvoy, Anya Taylor-Joy, Haley Lu Richar...   \n",
              "La La Land                               Ryan Gosling, Emma Stone, Rosemarie DeWitt, J....   \n",
              "Mindhorn                                 Essie Davis, Andrea Riseborough, Julian Barrat...   \n",
              "The Lost City of Z                       Charlie Hunnam, Robert Pattinson, Sienna Mille...   \n",
              "Fantastic Beasts and Where to Find Them  Eddie Redmayne, Katherine Waterston, Alison Su...   \n",
              "...                                                                                    ...   \n",
              "The Siege of Jadotville                  Jamie Dornan, Mark Strong, Jason O'Mara, Micha...   \n",
              "Kicks                                    Jahking Guillory, Christopher Jordan Wallace,C...   \n",
              "Custody                                  Viola Davis, Hayden Panettiere, Catalina Sandi...   \n",
              "L'odyssée                                Lambert Wilson, Pierre Niney, Audrey Tautou,La...   \n",
              "Queen of Katwe                           Madina Nalwanga, David Oyelowo, Lupita Nyong'o...   \n",
              "\n",
              "                                         Year  Runtime  Rating   Votes  \\\n",
              "Title                                                                    \n",
              "Split                                    2016      117     7.3  157606   \n",
              "La La Land                               2016      128     8.3  258682   \n",
              "Mindhorn                                 2016       89     6.4    2490   \n",
              "The Lost City of Z                       2016      141     7.1    7188   \n",
              "Fantastic Beasts and Where to Find Them  2016      133     7.5  232072   \n",
              "...                                       ...      ...     ...     ...   \n",
              "The Siege of Jadotville                  2016      108     7.3   14689   \n",
              "Kicks                                    2016       80     6.1    2417   \n",
              "Custody                                  2016      104     6.9     280   \n",
              "L'odyssée                                2016      122     6.7    1810   \n",
              "Queen of Katwe                           2016      124     7.4    6753   \n",
              "\n",
              "                                         Revenue  Metascore  \n",
              "Title                                                        \n",
              "Split                                     138.12       62.0  \n",
              "La La Land                                151.06       93.0  \n",
              "Mindhorn                                     NaN       71.0  \n",
              "The Lost City of Z                          8.01       78.0  \n",
              "Fantastic Beasts and Where to Find Them   234.02       66.0  \n",
              "...                                          ...        ...  \n",
              "The Siege of Jadotville                      NaN       83.0  \n",
              "Kicks                                       0.15       69.0  \n",
              "Custody                                      NaN       72.0  \n",
              "L'odyssée                                    NaN       70.0  \n",
              "Queen of Katwe                              8.81       73.0  \n",
              "\n",
              "[113 rows x 11 columns]"
            ],
            "text/html": [
              "\n",
              "  <div id=\"df-4093c409-4be4-4b1c-8fb9-d56510a77f78\">\n",
              "    <div class=\"colab-df-container\">\n",
              "      <div>\n",
              "<style scoped>\n",
              "    .dataframe tbody tr th:only-of-type {\n",
              "        vertical-align: middle;\n",
              "    }\n",
              "\n",
              "    .dataframe tbody tr th {\n",
              "        vertical-align: top;\n",
              "    }\n",
              "\n",
              "    .dataframe thead th {\n",
              "        text-align: right;\n",
              "    }\n",
              "</style>\n",
              "<table border=\"1\" class=\"dataframe\">\n",
              "  <thead>\n",
              "    <tr style=\"text-align: right;\">\n",
              "      <th></th>\n",
              "      <th>Rank</th>\n",
              "      <th>Genre</th>\n",
              "      <th>Description</th>\n",
              "      <th>Director</th>\n",
              "      <th>Actors</th>\n",
              "      <th>Year</th>\n",
              "      <th>Runtime</th>\n",
              "      <th>Rating</th>\n",
              "      <th>Votes</th>\n",
              "      <th>Revenue</th>\n",
              "      <th>Metascore</th>\n",
              "    </tr>\n",
              "    <tr>\n",
              "      <th>Title</th>\n",
              "      <th></th>\n",
              "      <th></th>\n",
              "      <th></th>\n",
              "      <th></th>\n",
              "      <th></th>\n",
              "      <th></th>\n",
              "      <th></th>\n",
              "      <th></th>\n",
              "      <th></th>\n",
              "      <th></th>\n",
              "      <th></th>\n",
              "    </tr>\n",
              "  </thead>\n",
              "  <tbody>\n",
              "    <tr>\n",
              "      <th>Split</th>\n",
              "      <td>3</td>\n",
              "      <td>Horror,Thriller</td>\n",
              "      <td>Three girls are kidnapped by a man with a diag...</td>\n",
              "      <td>M. Night Shyamalan</td>\n",
              "      <td>James McAvoy, Anya Taylor-Joy, Haley Lu Richar...</td>\n",
              "      <td>2016</td>\n",
              "      <td>117</td>\n",
              "      <td>7.3</td>\n",
              "      <td>157606</td>\n",
              "      <td>138.12</td>\n",
              "      <td>62.0</td>\n",
              "    </tr>\n",
              "    <tr>\n",
              "      <th>La La Land</th>\n",
              "      <td>7</td>\n",
              "      <td>Comedy,Drama,Music</td>\n",
              "      <td>A jazz pianist falls for an aspiring actress i...</td>\n",
              "      <td>Damien Chazelle</td>\n",
              "      <td>Ryan Gosling, Emma Stone, Rosemarie DeWitt, J....</td>\n",
              "      <td>2016</td>\n",
              "      <td>128</td>\n",
              "      <td>8.3</td>\n",
              "      <td>258682</td>\n",
              "      <td>151.06</td>\n",
              "      <td>93.0</td>\n",
              "    </tr>\n",
              "    <tr>\n",
              "      <th>Mindhorn</th>\n",
              "      <td>8</td>\n",
              "      <td>Comedy</td>\n",
              "      <td>A has-been actor best known for playing the ti...</td>\n",
              "      <td>Sean Foley</td>\n",
              "      <td>Essie Davis, Andrea Riseborough, Julian Barrat...</td>\n",
              "      <td>2016</td>\n",
              "      <td>89</td>\n",
              "      <td>6.4</td>\n",
              "      <td>2490</td>\n",
              "      <td>NaN</td>\n",
              "      <td>71.0</td>\n",
              "    </tr>\n",
              "    <tr>\n",
              "      <th>The Lost City of Z</th>\n",
              "      <td>9</td>\n",
              "      <td>Action,Adventure,Biography</td>\n",
              "      <td>A true-life drama, centering on British explor...</td>\n",
              "      <td>James Gray</td>\n",
              "      <td>Charlie Hunnam, Robert Pattinson, Sienna Mille...</td>\n",
              "      <td>2016</td>\n",
              "      <td>141</td>\n",
              "      <td>7.1</td>\n",
              "      <td>7188</td>\n",
              "      <td>8.01</td>\n",
              "      <td>78.0</td>\n",
              "    </tr>\n",
              "    <tr>\n",
              "      <th>Fantastic Beasts and Where to Find Them</th>\n",
              "      <td>11</td>\n",
              "      <td>Adventure,Family,Fantasy</td>\n",
              "      <td>The adventures of writer Newt Scamander in New...</td>\n",
              "      <td>David Yates</td>\n",
              "      <td>Eddie Redmayne, Katherine Waterston, Alison Su...</td>\n",
              "      <td>2016</td>\n",
              "      <td>133</td>\n",
              "      <td>7.5</td>\n",
              "      <td>232072</td>\n",
              "      <td>234.02</td>\n",
              "      <td>66.0</td>\n",
              "    </tr>\n",
              "    <tr>\n",
              "      <th>...</th>\n",
              "      <td>...</td>\n",
              "      <td>...</td>\n",
              "      <td>...</td>\n",
              "      <td>...</td>\n",
              "      <td>...</td>\n",
              "      <td>...</td>\n",
              "      <td>...</td>\n",
              "      <td>...</td>\n",
              "      <td>...</td>\n",
              "      <td>...</td>\n",
              "      <td>...</td>\n",
              "    </tr>\n",
              "    <tr>\n",
              "      <th>The Siege of Jadotville</th>\n",
              "      <td>939</td>\n",
              "      <td>Action,Drama,Thriller</td>\n",
              "      <td>Irish Commandant Pat Quinlan leads a stand off...</td>\n",
              "      <td>Richie Smyth</td>\n",
              "      <td>Jamie Dornan, Mark Strong, Jason O'Mara, Micha...</td>\n",
              "      <td>2016</td>\n",
              "      <td>108</td>\n",
              "      <td>7.3</td>\n",
              "      <td>14689</td>\n",
              "      <td>NaN</td>\n",
              "      <td>83.0</td>\n",
              "    </tr>\n",
              "    <tr>\n",
              "      <th>Kicks</th>\n",
              "      <td>950</td>\n",
              "      <td>Adventure</td>\n",
              "      <td>Brandon is a 15 year old whose dream is a pair...</td>\n",
              "      <td>Justin Tipping</td>\n",
              "      <td>Jahking Guillory, Christopher Jordan Wallace,C...</td>\n",
              "      <td>2016</td>\n",
              "      <td>80</td>\n",
              "      <td>6.1</td>\n",
              "      <td>2417</td>\n",
              "      <td>0.15</td>\n",
              "      <td>69.0</td>\n",
              "    </tr>\n",
              "    <tr>\n",
              "      <th>Custody</th>\n",
              "      <td>965</td>\n",
              "      <td>Drama</td>\n",
              "      <td>The lives of three women are unexpectedly chan...</td>\n",
              "      <td>James Lapine</td>\n",
              "      <td>Viola Davis, Hayden Panettiere, Catalina Sandi...</td>\n",
              "      <td>2016</td>\n",
              "      <td>104</td>\n",
              "      <td>6.9</td>\n",
              "      <td>280</td>\n",
              "      <td>NaN</td>\n",
              "      <td>72.0</td>\n",
              "    </tr>\n",
              "    <tr>\n",
              "      <th>L'odyssée</th>\n",
              "      <td>967</td>\n",
              "      <td>Adventure,Biography</td>\n",
              "      <td>Highly influential and a fearlessly ambitious ...</td>\n",
              "      <td>Jérôme Salle</td>\n",
              "      <td>Lambert Wilson, Pierre Niney, Audrey Tautou,La...</td>\n",
              "      <td>2016</td>\n",
              "      <td>122</td>\n",
              "      <td>6.7</td>\n",
              "      <td>1810</td>\n",
              "      <td>NaN</td>\n",
              "      <td>70.0</td>\n",
              "    </tr>\n",
              "    <tr>\n",
              "      <th>Queen of Katwe</th>\n",
              "      <td>975</td>\n",
              "      <td>Biography,Drama,Sport</td>\n",
              "      <td>A Ugandan girl sees her world rapidly change a...</td>\n",
              "      <td>Mira Nair</td>\n",
              "      <td>Madina Nalwanga, David Oyelowo, Lupita Nyong'o...</td>\n",
              "      <td>2016</td>\n",
              "      <td>124</td>\n",
              "      <td>7.4</td>\n",
              "      <td>6753</td>\n",
              "      <td>8.81</td>\n",
              "      <td>73.0</td>\n",
              "    </tr>\n",
              "  </tbody>\n",
              "</table>\n",
              "<p>113 rows × 11 columns</p>\n",
              "</div>\n",
              "      <button class=\"colab-df-convert\" onclick=\"convertToInteractive('df-4093c409-4be4-4b1c-8fb9-d56510a77f78')\"\n",
              "              title=\"Convert this dataframe to an interactive table.\"\n",
              "              style=\"display:none;\">\n",
              "        \n",
              "  <svg xmlns=\"http://www.w3.org/2000/svg\" height=\"24px\"viewBox=\"0 0 24 24\"\n",
              "       width=\"24px\">\n",
              "    <path d=\"M0 0h24v24H0V0z\" fill=\"none\"/>\n",
              "    <path d=\"M18.56 5.44l.94 2.06.94-2.06 2.06-.94-2.06-.94-.94-2.06-.94 2.06-2.06.94zm-11 1L8.5 8.5l.94-2.06 2.06-.94-2.06-.94L8.5 2.5l-.94 2.06-2.06.94zm10 10l.94 2.06.94-2.06 2.06-.94-2.06-.94-.94-2.06-.94 2.06-2.06.94z\"/><path d=\"M17.41 7.96l-1.37-1.37c-.4-.4-.92-.59-1.43-.59-.52 0-1.04.2-1.43.59L10.3 9.45l-7.72 7.72c-.78.78-.78 2.05 0 2.83L4 21.41c.39.39.9.59 1.41.59.51 0 1.02-.2 1.41-.59l7.78-7.78 2.81-2.81c.8-.78.8-2.07 0-2.86zM5.41 20L4 18.59l7.72-7.72 1.47 1.35L5.41 20z\"/>\n",
              "  </svg>\n",
              "      </button>\n",
              "      \n",
              "  <style>\n",
              "    .colab-df-container {\n",
              "      display:flex;\n",
              "      flex-wrap:wrap;\n",
              "      gap: 12px;\n",
              "    }\n",
              "\n",
              "    .colab-df-convert {\n",
              "      background-color: #E8F0FE;\n",
              "      border: none;\n",
              "      border-radius: 50%;\n",
              "      cursor: pointer;\n",
              "      display: none;\n",
              "      fill: #1967D2;\n",
              "      height: 32px;\n",
              "      padding: 0 0 0 0;\n",
              "      width: 32px;\n",
              "    }\n",
              "\n",
              "    .colab-df-convert:hover {\n",
              "      background-color: #E2EBFA;\n",
              "      box-shadow: 0px 1px 2px rgba(60, 64, 67, 0.3), 0px 1px 3px 1px rgba(60, 64, 67, 0.15);\n",
              "      fill: #174EA6;\n",
              "    }\n",
              "\n",
              "    [theme=dark] .colab-df-convert {\n",
              "      background-color: #3B4455;\n",
              "      fill: #D2E3FC;\n",
              "    }\n",
              "\n",
              "    [theme=dark] .colab-df-convert:hover {\n",
              "      background-color: #434B5C;\n",
              "      box-shadow: 0px 1px 3px 1px rgba(0, 0, 0, 0.15);\n",
              "      filter: drop-shadow(0px 1px 2px rgba(0, 0, 0, 0.3));\n",
              "      fill: #FFFFFF;\n",
              "    }\n",
              "  </style>\n",
              "\n",
              "      <script>\n",
              "        const buttonEl =\n",
              "          document.querySelector('#df-4093c409-4be4-4b1c-8fb9-d56510a77f78 button.colab-df-convert');\n",
              "        buttonEl.style.display =\n",
              "          google.colab.kernel.accessAllowed ? 'block' : 'none';\n",
              "\n",
              "        async function convertToInteractive(key) {\n",
              "          const element = document.querySelector('#df-4093c409-4be4-4b1c-8fb9-d56510a77f78');\n",
              "          const dataTable =\n",
              "            await google.colab.kernel.invokeFunction('convertToInteractive',\n",
              "                                                     [key], {});\n",
              "          if (!dataTable) return;\n",
              "\n",
              "          const docLinkHtml = 'Like what you see? Visit the ' +\n",
              "            '<a target=\"_blank\" href=https://colab.research.google.com/notebooks/data_table.ipynb>data table notebook</a>'\n",
              "            + ' to learn more about interactive tables.';\n",
              "          element.innerHTML = '';\n",
              "          dataTable['output_type'] = 'display_data';\n",
              "          await google.colab.output.renderOutput(dataTable, element);\n",
              "          const docLink = document.createElement('div');\n",
              "          docLink.innerHTML = docLinkHtml;\n",
              "          element.appendChild(docLink);\n",
              "        }\n",
              "      </script>\n",
              "    </div>\n",
              "  </div>\n",
              "  "
            ]
          },
          "metadata": {},
          "execution_count": 37
        }
      ]
    },
    {
      "cell_type": "markdown",
      "source": [
        "List all movies directed by David Ayer or Adam Mckay and having ratings above 6"
      ],
      "metadata": {
        "id": "7XexxpL8ON-c"
      }
    },
    {
      "cell_type": "code",
      "source": [
        "df_movie[(df_movie['Director'].isin(['David Ayer', 'Adam Mckay']) )&\n",
        "         (df_movie['Rating'] > 6)]"
      ],
      "metadata": {
        "colab": {
          "base_uri": "https://localhost:8080/",
          "height": 271
        },
        "id": "75xK70KONxOh",
        "outputId": "a411a105-d600-44c0-fac9-b96dea1ab663"
      },
      "execution_count": null,
      "outputs": [
        {
          "output_type": "execute_result",
          "data": {
            "text/plain": [
              "               Rank                     Genre  \\\n",
              "Title                                           \n",
              "Suicide Squad     5  Action,Adventure,Fantasy   \n",
              "Fury            241          Action,Drama,War   \n",
              "End of Watch    958      Crime,Drama,Thriller   \n",
              "\n",
              "                                                     Description    Director  \\\n",
              "Title                                                                          \n",
              "Suicide Squad  A secret government agency recruits some of th...  David Ayer   \n",
              "Fury           A grizzled tank commander makes tough decision...  David Ayer   \n",
              "End of Watch   Shot documentary-style, this film follows the ...  David Ayer   \n",
              "\n",
              "                                                          Actors  Year  \\\n",
              "Title                                                                    \n",
              "Suicide Squad  Will Smith, Jared Leto, Margot Robbie, Viola D...  2016   \n",
              "Fury           Brad Pitt, Shia LaBeouf, Logan Lerman, Michael...  2014   \n",
              "End of Watch   Jake Gyllenhaal, Michael Peña, Anna Kendrick, ...  2012   \n",
              "\n",
              "               Runtime  Rating   Votes  Revenue  Metascore  \n",
              "Title                                                       \n",
              "Suicide Squad      123     6.2  393727   325.02       40.0  \n",
              "Fury               134     7.6  332234    85.71       64.0  \n",
              "End of Watch       109     7.7  192190    40.98       68.0  "
            ],
            "text/html": [
              "\n",
              "  <div id=\"df-e3cda672-d965-48d1-8b84-c39e01a1add6\">\n",
              "    <div class=\"colab-df-container\">\n",
              "      <div>\n",
              "<style scoped>\n",
              "    .dataframe tbody tr th:only-of-type {\n",
              "        vertical-align: middle;\n",
              "    }\n",
              "\n",
              "    .dataframe tbody tr th {\n",
              "        vertical-align: top;\n",
              "    }\n",
              "\n",
              "    .dataframe thead th {\n",
              "        text-align: right;\n",
              "    }\n",
              "</style>\n",
              "<table border=\"1\" class=\"dataframe\">\n",
              "  <thead>\n",
              "    <tr style=\"text-align: right;\">\n",
              "      <th></th>\n",
              "      <th>Rank</th>\n",
              "      <th>Genre</th>\n",
              "      <th>Description</th>\n",
              "      <th>Director</th>\n",
              "      <th>Actors</th>\n",
              "      <th>Year</th>\n",
              "      <th>Runtime</th>\n",
              "      <th>Rating</th>\n",
              "      <th>Votes</th>\n",
              "      <th>Revenue</th>\n",
              "      <th>Metascore</th>\n",
              "    </tr>\n",
              "    <tr>\n",
              "      <th>Title</th>\n",
              "      <th></th>\n",
              "      <th></th>\n",
              "      <th></th>\n",
              "      <th></th>\n",
              "      <th></th>\n",
              "      <th></th>\n",
              "      <th></th>\n",
              "      <th></th>\n",
              "      <th></th>\n",
              "      <th></th>\n",
              "      <th></th>\n",
              "    </tr>\n",
              "  </thead>\n",
              "  <tbody>\n",
              "    <tr>\n",
              "      <th>Suicide Squad</th>\n",
              "      <td>5</td>\n",
              "      <td>Action,Adventure,Fantasy</td>\n",
              "      <td>A secret government agency recruits some of th...</td>\n",
              "      <td>David Ayer</td>\n",
              "      <td>Will Smith, Jared Leto, Margot Robbie, Viola D...</td>\n",
              "      <td>2016</td>\n",
              "      <td>123</td>\n",
              "      <td>6.2</td>\n",
              "      <td>393727</td>\n",
              "      <td>325.02</td>\n",
              "      <td>40.0</td>\n",
              "    </tr>\n",
              "    <tr>\n",
              "      <th>Fury</th>\n",
              "      <td>241</td>\n",
              "      <td>Action,Drama,War</td>\n",
              "      <td>A grizzled tank commander makes tough decision...</td>\n",
              "      <td>David Ayer</td>\n",
              "      <td>Brad Pitt, Shia LaBeouf, Logan Lerman, Michael...</td>\n",
              "      <td>2014</td>\n",
              "      <td>134</td>\n",
              "      <td>7.6</td>\n",
              "      <td>332234</td>\n",
              "      <td>85.71</td>\n",
              "      <td>64.0</td>\n",
              "    </tr>\n",
              "    <tr>\n",
              "      <th>End of Watch</th>\n",
              "      <td>958</td>\n",
              "      <td>Crime,Drama,Thriller</td>\n",
              "      <td>Shot documentary-style, this film follows the ...</td>\n",
              "      <td>David Ayer</td>\n",
              "      <td>Jake Gyllenhaal, Michael Peña, Anna Kendrick, ...</td>\n",
              "      <td>2012</td>\n",
              "      <td>109</td>\n",
              "      <td>7.7</td>\n",
              "      <td>192190</td>\n",
              "      <td>40.98</td>\n",
              "      <td>68.0</td>\n",
              "    </tr>\n",
              "  </tbody>\n",
              "</table>\n",
              "</div>\n",
              "      <button class=\"colab-df-convert\" onclick=\"convertToInteractive('df-e3cda672-d965-48d1-8b84-c39e01a1add6')\"\n",
              "              title=\"Convert this dataframe to an interactive table.\"\n",
              "              style=\"display:none;\">\n",
              "        \n",
              "  <svg xmlns=\"http://www.w3.org/2000/svg\" height=\"24px\"viewBox=\"0 0 24 24\"\n",
              "       width=\"24px\">\n",
              "    <path d=\"M0 0h24v24H0V0z\" fill=\"none\"/>\n",
              "    <path d=\"M18.56 5.44l.94 2.06.94-2.06 2.06-.94-2.06-.94-.94-2.06-.94 2.06-2.06.94zm-11 1L8.5 8.5l.94-2.06 2.06-.94-2.06-.94L8.5 2.5l-.94 2.06-2.06.94zm10 10l.94 2.06.94-2.06 2.06-.94-2.06-.94-.94-2.06-.94 2.06-2.06.94z\"/><path d=\"M17.41 7.96l-1.37-1.37c-.4-.4-.92-.59-1.43-.59-.52 0-1.04.2-1.43.59L10.3 9.45l-7.72 7.72c-.78.78-.78 2.05 0 2.83L4 21.41c.39.39.9.59 1.41.59.51 0 1.02-.2 1.41-.59l7.78-7.78 2.81-2.81c.8-.78.8-2.07 0-2.86zM5.41 20L4 18.59l7.72-7.72 1.47 1.35L5.41 20z\"/>\n",
              "  </svg>\n",
              "      </button>\n",
              "      \n",
              "  <style>\n",
              "    .colab-df-container {\n",
              "      display:flex;\n",
              "      flex-wrap:wrap;\n",
              "      gap: 12px;\n",
              "    }\n",
              "\n",
              "    .colab-df-convert {\n",
              "      background-color: #E8F0FE;\n",
              "      border: none;\n",
              "      border-radius: 50%;\n",
              "      cursor: pointer;\n",
              "      display: none;\n",
              "      fill: #1967D2;\n",
              "      height: 32px;\n",
              "      padding: 0 0 0 0;\n",
              "      width: 32px;\n",
              "    }\n",
              "\n",
              "    .colab-df-convert:hover {\n",
              "      background-color: #E2EBFA;\n",
              "      box-shadow: 0px 1px 2px rgba(60, 64, 67, 0.3), 0px 1px 3px 1px rgba(60, 64, 67, 0.15);\n",
              "      fill: #174EA6;\n",
              "    }\n",
              "\n",
              "    [theme=dark] .colab-df-convert {\n",
              "      background-color: #3B4455;\n",
              "      fill: #D2E3FC;\n",
              "    }\n",
              "\n",
              "    [theme=dark] .colab-df-convert:hover {\n",
              "      background-color: #434B5C;\n",
              "      box-shadow: 0px 1px 3px 1px rgba(0, 0, 0, 0.15);\n",
              "      filter: drop-shadow(0px 1px 2px rgba(0, 0, 0, 0.3));\n",
              "      fill: #FFFFFF;\n",
              "    }\n",
              "  </style>\n",
              "\n",
              "      <script>\n",
              "        const buttonEl =\n",
              "          document.querySelector('#df-e3cda672-d965-48d1-8b84-c39e01a1add6 button.colab-df-convert');\n",
              "        buttonEl.style.display =\n",
              "          google.colab.kernel.accessAllowed ? 'block' : 'none';\n",
              "\n",
              "        async function convertToInteractive(key) {\n",
              "          const element = document.querySelector('#df-e3cda672-d965-48d1-8b84-c39e01a1add6');\n",
              "          const dataTable =\n",
              "            await google.colab.kernel.invokeFunction('convertToInteractive',\n",
              "                                                     [key], {});\n",
              "          if (!dataTable) return;\n",
              "\n",
              "          const docLinkHtml = 'Like what you see? Visit the ' +\n",
              "            '<a target=\"_blank\" href=https://colab.research.google.com/notebooks/data_table.ipynb>data table notebook</a>'\n",
              "            + ' to learn more about interactive tables.';\n",
              "          element.innerHTML = '';\n",
              "          dataTable['output_type'] = 'display_data';\n",
              "          await google.colab.output.renderOutput(dataTable, element);\n",
              "          const docLink = document.createElement('div');\n",
              "          docLink.innerHTML = docLinkHtml;\n",
              "          element.appendChild(docLink);\n",
              "        }\n",
              "      </script>\n",
              "    </div>\n",
              "  </div>\n",
              "  "
            ]
          },
          "metadata": {},
          "execution_count": 38
        }
      ]
    },
    {
      "cell_type": "markdown",
      "source": [
        "List the movie which has highest rating in 2016 (Hint: solve in two steps, first filter the data of 2016 and save in another variable and then filter the highest rating from that)"
      ],
      "metadata": {
        "id": "0smGJukXPL6U"
      }
    },
    {
      "cell_type": "code",
      "source": [
        "movie1 = df_movie[df_movie['Year'] == 2016]\n",
        "max1 = movie1['Rating'].max()\n",
        "print(\"Highest Rating in 2016: \",max1)"
      ],
      "metadata": {
        "colab": {
          "base_uri": "https://localhost:8080/"
        },
        "id": "QZ3Q3Cd2O-j9",
        "outputId": "c4491d18-b98f-4b3b-d91c-4859bc5f3782"
      },
      "execution_count": null,
      "outputs": [
        {
          "output_type": "stream",
          "name": "stdout",
          "text": [
            "Highest Rating in 2016:  8.8\n"
          ]
        }
      ]
    },
    {
      "cell_type": "markdown",
      "source": [
        "List the movie which has highest metascore in 2016 (Hint: solve in two steps, first filter the data of 2016 and save in another variable and then filter the highest metascore from that)"
      ],
      "metadata": {
        "id": "_adrh-JGP1wt"
      }
    },
    {
      "cell_type": "code",
      "source": [
        "max2 = movie1['Metascore'].max()\n",
        "print(\"Max Metascore in 2016: \",max2)"
      ],
      "metadata": {
        "colab": {
          "base_uri": "https://localhost:8080/"
        },
        "id": "mzID9lQLP2qF",
        "outputId": "ccf1fd4a-558d-415a-dde4-e52aeef0aeb8"
      },
      "execution_count": null,
      "outputs": [
        {
          "output_type": "stream",
          "name": "stdout",
          "text": [
            "Max Metascore in 2016:  99.0\n"
          ]
        }
      ]
    },
    {
      "cell_type": "markdown",
      "source": [
        "List the movie which has highest revenue in 2016 (Hint: solve in two steps, first filter the data of 2016 and save in another variable and then filter the highest revenue from that)"
      ],
      "metadata": {
        "id": "ekfeiybzP5sU"
      }
    },
    {
      "cell_type": "code",
      "source": [
        "max3 = movie1['Revenue'].max()\n",
        "print(\"Max Revenue in 2016: \",max3)"
      ],
      "metadata": {
        "colab": {
          "base_uri": "https://localhost:8080/"
        },
        "id": "u8BvqMHDP_15",
        "outputId": "1c12d2fb-a9e0-4ed2-a0f8-43ef30b2cc22"
      },
      "execution_count": null,
      "outputs": [
        {
          "output_type": "stream",
          "name": "stdout",
          "text": [
            "Max Revenue in 2016:  532.17\n"
          ]
        }
      ]
    },
    {
      "cell_type": "markdown",
      "source": [
        "\n",
        "\n",
        "---\n",
        "\n"
      ],
      "metadata": {
        "id": "d_nRvYiNWohN"
      }
    },
    {
      "cell_type": "code",
      "source": [
        "df_movie.describe()"
      ],
      "metadata": {
        "colab": {
          "base_uri": "https://localhost:8080/",
          "height": 300
        },
        "id": "MOz7nDV1Wsm5",
        "outputId": "9ea6f92f-1a5e-4a28-a0e9-a7411b7bd922"
      },
      "execution_count": null,
      "outputs": [
        {
          "output_type": "execute_result",
          "data": {
            "text/plain": [
              "              Rank         Year      Runtime       Rating         Votes  \\\n",
              "count  1000.000000  1000.000000  1000.000000  1000.000000  1.000000e+03   \n",
              "mean    500.500000  2012.783000   113.172000     6.723200  1.698083e+05   \n",
              "std     288.819436     3.205962    18.810908     0.945429  1.887626e+05   \n",
              "min       1.000000  2006.000000    66.000000     1.900000  6.100000e+01   \n",
              "25%     250.750000  2010.000000   100.000000     6.200000  3.630900e+04   \n",
              "50%     500.500000  2014.000000   111.000000     6.800000  1.107990e+05   \n",
              "75%     750.250000  2016.000000   123.000000     7.400000  2.399098e+05   \n",
              "max    1000.000000  2016.000000   191.000000     9.000000  1.791916e+06   \n",
              "\n",
              "          Revenue   Metascore  \n",
              "count  872.000000  936.000000  \n",
              "mean    82.956376   58.985043  \n",
              "std    103.253540   17.194757  \n",
              "min      0.000000   11.000000  \n",
              "25%     13.270000   47.000000  \n",
              "50%     47.985000   59.500000  \n",
              "75%    113.715000   72.000000  \n",
              "max    936.630000  100.000000  "
            ],
            "text/html": [
              "\n",
              "  <div id=\"df-dcbb176b-2dc5-4d0a-8449-66a6a74a5e1a\">\n",
              "    <div class=\"colab-df-container\">\n",
              "      <div>\n",
              "<style scoped>\n",
              "    .dataframe tbody tr th:only-of-type {\n",
              "        vertical-align: middle;\n",
              "    }\n",
              "\n",
              "    .dataframe tbody tr th {\n",
              "        vertical-align: top;\n",
              "    }\n",
              "\n",
              "    .dataframe thead th {\n",
              "        text-align: right;\n",
              "    }\n",
              "</style>\n",
              "<table border=\"1\" class=\"dataframe\">\n",
              "  <thead>\n",
              "    <tr style=\"text-align: right;\">\n",
              "      <th></th>\n",
              "      <th>Rank</th>\n",
              "      <th>Year</th>\n",
              "      <th>Runtime</th>\n",
              "      <th>Rating</th>\n",
              "      <th>Votes</th>\n",
              "      <th>Revenue</th>\n",
              "      <th>Metascore</th>\n",
              "    </tr>\n",
              "  </thead>\n",
              "  <tbody>\n",
              "    <tr>\n",
              "      <th>count</th>\n",
              "      <td>1000.000000</td>\n",
              "      <td>1000.000000</td>\n",
              "      <td>1000.000000</td>\n",
              "      <td>1000.000000</td>\n",
              "      <td>1.000000e+03</td>\n",
              "      <td>872.000000</td>\n",
              "      <td>936.000000</td>\n",
              "    </tr>\n",
              "    <tr>\n",
              "      <th>mean</th>\n",
              "      <td>500.500000</td>\n",
              "      <td>2012.783000</td>\n",
              "      <td>113.172000</td>\n",
              "      <td>6.723200</td>\n",
              "      <td>1.698083e+05</td>\n",
              "      <td>82.956376</td>\n",
              "      <td>58.985043</td>\n",
              "    </tr>\n",
              "    <tr>\n",
              "      <th>std</th>\n",
              "      <td>288.819436</td>\n",
              "      <td>3.205962</td>\n",
              "      <td>18.810908</td>\n",
              "      <td>0.945429</td>\n",
              "      <td>1.887626e+05</td>\n",
              "      <td>103.253540</td>\n",
              "      <td>17.194757</td>\n",
              "    </tr>\n",
              "    <tr>\n",
              "      <th>min</th>\n",
              "      <td>1.000000</td>\n",
              "      <td>2006.000000</td>\n",
              "      <td>66.000000</td>\n",
              "      <td>1.900000</td>\n",
              "      <td>6.100000e+01</td>\n",
              "      <td>0.000000</td>\n",
              "      <td>11.000000</td>\n",
              "    </tr>\n",
              "    <tr>\n",
              "      <th>25%</th>\n",
              "      <td>250.750000</td>\n",
              "      <td>2010.000000</td>\n",
              "      <td>100.000000</td>\n",
              "      <td>6.200000</td>\n",
              "      <td>3.630900e+04</td>\n",
              "      <td>13.270000</td>\n",
              "      <td>47.000000</td>\n",
              "    </tr>\n",
              "    <tr>\n",
              "      <th>50%</th>\n",
              "      <td>500.500000</td>\n",
              "      <td>2014.000000</td>\n",
              "      <td>111.000000</td>\n",
              "      <td>6.800000</td>\n",
              "      <td>1.107990e+05</td>\n",
              "      <td>47.985000</td>\n",
              "      <td>59.500000</td>\n",
              "    </tr>\n",
              "    <tr>\n",
              "      <th>75%</th>\n",
              "      <td>750.250000</td>\n",
              "      <td>2016.000000</td>\n",
              "      <td>123.000000</td>\n",
              "      <td>7.400000</td>\n",
              "      <td>2.399098e+05</td>\n",
              "      <td>113.715000</td>\n",
              "      <td>72.000000</td>\n",
              "    </tr>\n",
              "    <tr>\n",
              "      <th>max</th>\n",
              "      <td>1000.000000</td>\n",
              "      <td>2016.000000</td>\n",
              "      <td>191.000000</td>\n",
              "      <td>9.000000</td>\n",
              "      <td>1.791916e+06</td>\n",
              "      <td>936.630000</td>\n",
              "      <td>100.000000</td>\n",
              "    </tr>\n",
              "  </tbody>\n",
              "</table>\n",
              "</div>\n",
              "      <button class=\"colab-df-convert\" onclick=\"convertToInteractive('df-dcbb176b-2dc5-4d0a-8449-66a6a74a5e1a')\"\n",
              "              title=\"Convert this dataframe to an interactive table.\"\n",
              "              style=\"display:none;\">\n",
              "        \n",
              "  <svg xmlns=\"http://www.w3.org/2000/svg\" height=\"24px\"viewBox=\"0 0 24 24\"\n",
              "       width=\"24px\">\n",
              "    <path d=\"M0 0h24v24H0V0z\" fill=\"none\"/>\n",
              "    <path d=\"M18.56 5.44l.94 2.06.94-2.06 2.06-.94-2.06-.94-.94-2.06-.94 2.06-2.06.94zm-11 1L8.5 8.5l.94-2.06 2.06-.94-2.06-.94L8.5 2.5l-.94 2.06-2.06.94zm10 10l.94 2.06.94-2.06 2.06-.94-2.06-.94-.94-2.06-.94 2.06-2.06.94z\"/><path d=\"M17.41 7.96l-1.37-1.37c-.4-.4-.92-.59-1.43-.59-.52 0-1.04.2-1.43.59L10.3 9.45l-7.72 7.72c-.78.78-.78 2.05 0 2.83L4 21.41c.39.39.9.59 1.41.59.51 0 1.02-.2 1.41-.59l7.78-7.78 2.81-2.81c.8-.78.8-2.07 0-2.86zM5.41 20L4 18.59l7.72-7.72 1.47 1.35L5.41 20z\"/>\n",
              "  </svg>\n",
              "      </button>\n",
              "      \n",
              "  <style>\n",
              "    .colab-df-container {\n",
              "      display:flex;\n",
              "      flex-wrap:wrap;\n",
              "      gap: 12px;\n",
              "    }\n",
              "\n",
              "    .colab-df-convert {\n",
              "      background-color: #E8F0FE;\n",
              "      border: none;\n",
              "      border-radius: 50%;\n",
              "      cursor: pointer;\n",
              "      display: none;\n",
              "      fill: #1967D2;\n",
              "      height: 32px;\n",
              "      padding: 0 0 0 0;\n",
              "      width: 32px;\n",
              "    }\n",
              "\n",
              "    .colab-df-convert:hover {\n",
              "      background-color: #E2EBFA;\n",
              "      box-shadow: 0px 1px 2px rgba(60, 64, 67, 0.3), 0px 1px 3px 1px rgba(60, 64, 67, 0.15);\n",
              "      fill: #174EA6;\n",
              "    }\n",
              "\n",
              "    [theme=dark] .colab-df-convert {\n",
              "      background-color: #3B4455;\n",
              "      fill: #D2E3FC;\n",
              "    }\n",
              "\n",
              "    [theme=dark] .colab-df-convert:hover {\n",
              "      background-color: #434B5C;\n",
              "      box-shadow: 0px 1px 3px 1px rgba(0, 0, 0, 0.15);\n",
              "      filter: drop-shadow(0px 1px 2px rgba(0, 0, 0, 0.3));\n",
              "      fill: #FFFFFF;\n",
              "    }\n",
              "  </style>\n",
              "\n",
              "      <script>\n",
              "        const buttonEl =\n",
              "          document.querySelector('#df-dcbb176b-2dc5-4d0a-8449-66a6a74a5e1a button.colab-df-convert');\n",
              "        buttonEl.style.display =\n",
              "          google.colab.kernel.accessAllowed ? 'block' : 'none';\n",
              "\n",
              "        async function convertToInteractive(key) {\n",
              "          const element = document.querySelector('#df-dcbb176b-2dc5-4d0a-8449-66a6a74a5e1a');\n",
              "          const dataTable =\n",
              "            await google.colab.kernel.invokeFunction('convertToInteractive',\n",
              "                                                     [key], {});\n",
              "          if (!dataTable) return;\n",
              "\n",
              "          const docLinkHtml = 'Like what you see? Visit the ' +\n",
              "            '<a target=\"_blank\" href=https://colab.research.google.com/notebooks/data_table.ipynb>data table notebook</a>'\n",
              "            + ' to learn more about interactive tables.';\n",
              "          element.innerHTML = '';\n",
              "          dataTable['output_type'] = 'display_data';\n",
              "          await google.colab.output.renderOutput(dataTable, element);\n",
              "          const docLink = document.createElement('div');\n",
              "          docLink.innerHTML = docLinkHtml;\n",
              "          element.appendChild(docLink);\n",
              "        }\n",
              "      </script>\n",
              "    </div>\n",
              "  </div>\n",
              "  "
            ]
          },
          "metadata": {},
          "execution_count": 42
        }
      ]
    },
    {
      "cell_type": "code",
      "source": [
        "df_movie['Genre'].describe()"
      ],
      "metadata": {
        "colab": {
          "base_uri": "https://localhost:8080/"
        },
        "id": "QYj8u7NuY2Ja",
        "outputId": "b42117f5-57c5-4407-901e-eae0cc524d1e"
      },
      "execution_count": null,
      "outputs": [
        {
          "output_type": "execute_result",
          "data": {
            "text/plain": [
              "count                        1000\n",
              "unique                        207\n",
              "top       Action,Adventure,Sci-Fi\n",
              "freq                           50\n",
              "Name: Genre, dtype: object"
            ]
          },
          "metadata": {},
          "execution_count": 43
        }
      ]
    },
    {
      "cell_type": "code",
      "source": [
        "df_movie['Genre'].value_counts().head(10)"
      ],
      "metadata": {
        "colab": {
          "base_uri": "https://localhost:8080/"
        },
        "id": "se_M8rtcZIuR",
        "outputId": "11975f4a-1fd9-4d9d-ff82-8bfe12519c28"
      },
      "execution_count": null,
      "outputs": [
        {
          "output_type": "execute_result",
          "data": {
            "text/plain": [
              "Action,Adventure,Sci-Fi       50\n",
              "Drama                         48\n",
              "Comedy,Drama,Romance          35\n",
              "Comedy                        32\n",
              "Drama,Romance                 31\n",
              "Animation,Adventure,Comedy    27\n",
              "Action,Adventure,Fantasy      27\n",
              "Comedy,Drama                  27\n",
              "Comedy,Romance                26\n",
              "Crime,Drama,Thriller          24\n",
              "Name: Genre, dtype: int64"
            ]
          },
          "metadata": {},
          "execution_count": 44
        }
      ]
    },
    {
      "cell_type": "code",
      "source": [
        "df_movie.isnull().sum()"
      ],
      "metadata": {
        "colab": {
          "base_uri": "https://localhost:8080/"
        },
        "id": "wDB-FLj3WS8N",
        "outputId": "a06e48cc-2237-4343-82fb-be318c737a17"
      },
      "execution_count": null,
      "outputs": [
        {
          "output_type": "execute_result",
          "data": {
            "text/plain": [
              "Rank             0\n",
              "Genre            0\n",
              "Description      0\n",
              "Director         0\n",
              "Actors           0\n",
              "Year             0\n",
              "Runtime          0\n",
              "Rating           0\n",
              "Votes            0\n",
              "Revenue        128\n",
              "Metascore       64\n",
              "dtype: int64"
            ]
          },
          "metadata": {},
          "execution_count": 45
        }
      ]
    },
    {
      "cell_type": "code",
      "source": [
        "revenue = df_movie['Revenue']"
      ],
      "metadata": {
        "id": "Lc0YI42OWdli"
      },
      "execution_count": null,
      "outputs": []
    },
    {
      "cell_type": "code",
      "source": [
        "revenue.head()"
      ],
      "metadata": {
        "colab": {
          "base_uri": "https://localhost:8080/"
        },
        "id": "GnfQ-y4DZ4Nh",
        "outputId": "352da73f-b38e-418d-bf4e-1826070da965"
      },
      "execution_count": null,
      "outputs": [
        {
          "output_type": "execute_result",
          "data": {
            "text/plain": [
              "Title\n",
              "Guardians of the Galaxy    333.13\n",
              "Prometheus                 126.46\n",
              "Split                      138.12\n",
              "Sing                       270.32\n",
              "Suicide Squad              325.02\n",
              "Name: Revenue, dtype: float64"
            ]
          },
          "metadata": {},
          "execution_count": 47
        }
      ]
    },
    {
      "cell_type": "code",
      "source": [
        "revenue_mean = revenue.mean()\n",
        "revenue_mean"
      ],
      "metadata": {
        "colab": {
          "base_uri": "https://localhost:8080/"
        },
        "id": "TmD6t-TsZ9b3",
        "outputId": "b4fa6b0e-0445-4862-bfb5-a388e9c7df76"
      },
      "execution_count": null,
      "outputs": [
        {
          "output_type": "execute_result",
          "data": {
            "text/plain": [
              "82.95637614678898"
            ]
          },
          "metadata": {},
          "execution_count": 48
        }
      ]
    },
    {
      "cell_type": "code",
      "source": [
        "revenue.fillna(revenue_mean, inplace = True)"
      ],
      "metadata": {
        "id": "DktsG97AaHs_"
      },
      "execution_count": null,
      "outputs": []
    },
    {
      "cell_type": "code",
      "source": [
        "revenue.isnull().sum()"
      ],
      "metadata": {
        "colab": {
          "base_uri": "https://localhost:8080/"
        },
        "id": "z4bjCxm7aVUX",
        "outputId": "d88de9ae-7d6f-4de6-e38d-2b8911ceea80"
      },
      "execution_count": null,
      "outputs": [
        {
          "output_type": "execute_result",
          "data": {
            "text/plain": [
              "0"
            ]
          },
          "metadata": {},
          "execution_count": 50
        }
      ]
    },
    {
      "cell_type": "markdown",
      "source": [
        "##T20 Dataset"
      ],
      "metadata": {
        "id": "3rKcIOMURUsz"
      }
    },
    {
      "cell_type": "code",
      "source": [
        "t20_df = pd.read_csv(\"gdrive/My Drive/data_science/t20.csv\")\n",
        "t20_df.head()"
      ],
      "metadata": {
        "colab": {
          "base_uri": "https://localhost:8080/",
          "height": 206
        },
        "id": "jB74I6CPRgKT",
        "outputId": "6f70926b-e9ff-467b-aea9-252729190782"
      },
      "execution_count": null,
      "outputs": [
        {
          "output_type": "execute_result",
          "data": {
            "text/plain": [
              "   Sno                  Player       Span  Mat  Inns  NO  Runs   HS    Ave  \\\n",
              "0    0         V Kohli (INDIA)  2010-2019   75    70  20  2633  94*  52.66   \n",
              "1    1       RG Sharma (INDIA)  2007-2019  104    96  14  2633  118   32.1   \n",
              "2    2         MJ Guptill (NZ)  2009-2019   83    80   7  2436  105  33.36   \n",
              "3    3  Shoaib Malik (ICC/PAK)  2006-2019  111   104  30  2263   75  30.58   \n",
              "4    4        BB McCullum (NZ)  2005-2015   71    70  10  2140  123  35.66   \n",
              "\n",
              "     BF      SR  100  50  0   4s   6s  Unnamed: 15  \n",
              "0  1907  138.07    0  24  2  247   71          NaN  \n",
              "1  1905  138.21    4  19  6  234  120          NaN  \n",
              "2  1810  134.58    2  15  2  215  113          NaN  \n",
              "3  1824  124.06    0   7  1  186   61          NaN  \n",
              "4  1571  136.21    2  13  3  199   91          NaN  "
            ],
            "text/html": [
              "\n",
              "  <div id=\"df-dd32dad2-8487-406f-95e7-80eb457e8a20\">\n",
              "    <div class=\"colab-df-container\">\n",
              "      <div>\n",
              "<style scoped>\n",
              "    .dataframe tbody tr th:only-of-type {\n",
              "        vertical-align: middle;\n",
              "    }\n",
              "\n",
              "    .dataframe tbody tr th {\n",
              "        vertical-align: top;\n",
              "    }\n",
              "\n",
              "    .dataframe thead th {\n",
              "        text-align: right;\n",
              "    }\n",
              "</style>\n",
              "<table border=\"1\" class=\"dataframe\">\n",
              "  <thead>\n",
              "    <tr style=\"text-align: right;\">\n",
              "      <th></th>\n",
              "      <th>Sno</th>\n",
              "      <th>Player</th>\n",
              "      <th>Span</th>\n",
              "      <th>Mat</th>\n",
              "      <th>Inns</th>\n",
              "      <th>NO</th>\n",
              "      <th>Runs</th>\n",
              "      <th>HS</th>\n",
              "      <th>Ave</th>\n",
              "      <th>BF</th>\n",
              "      <th>SR</th>\n",
              "      <th>100</th>\n",
              "      <th>50</th>\n",
              "      <th>0</th>\n",
              "      <th>4s</th>\n",
              "      <th>6s</th>\n",
              "      <th>Unnamed: 15</th>\n",
              "    </tr>\n",
              "  </thead>\n",
              "  <tbody>\n",
              "    <tr>\n",
              "      <th>0</th>\n",
              "      <td>0</td>\n",
              "      <td>V Kohli (INDIA)</td>\n",
              "      <td>2010-2019</td>\n",
              "      <td>75</td>\n",
              "      <td>70</td>\n",
              "      <td>20</td>\n",
              "      <td>2633</td>\n",
              "      <td>94*</td>\n",
              "      <td>52.66</td>\n",
              "      <td>1907</td>\n",
              "      <td>138.07</td>\n",
              "      <td>0</td>\n",
              "      <td>24</td>\n",
              "      <td>2</td>\n",
              "      <td>247</td>\n",
              "      <td>71</td>\n",
              "      <td>NaN</td>\n",
              "    </tr>\n",
              "    <tr>\n",
              "      <th>1</th>\n",
              "      <td>1</td>\n",
              "      <td>RG Sharma (INDIA)</td>\n",
              "      <td>2007-2019</td>\n",
              "      <td>104</td>\n",
              "      <td>96</td>\n",
              "      <td>14</td>\n",
              "      <td>2633</td>\n",
              "      <td>118</td>\n",
              "      <td>32.1</td>\n",
              "      <td>1905</td>\n",
              "      <td>138.21</td>\n",
              "      <td>4</td>\n",
              "      <td>19</td>\n",
              "      <td>6</td>\n",
              "      <td>234</td>\n",
              "      <td>120</td>\n",
              "      <td>NaN</td>\n",
              "    </tr>\n",
              "    <tr>\n",
              "      <th>2</th>\n",
              "      <td>2</td>\n",
              "      <td>MJ Guptill (NZ)</td>\n",
              "      <td>2009-2019</td>\n",
              "      <td>83</td>\n",
              "      <td>80</td>\n",
              "      <td>7</td>\n",
              "      <td>2436</td>\n",
              "      <td>105</td>\n",
              "      <td>33.36</td>\n",
              "      <td>1810</td>\n",
              "      <td>134.58</td>\n",
              "      <td>2</td>\n",
              "      <td>15</td>\n",
              "      <td>2</td>\n",
              "      <td>215</td>\n",
              "      <td>113</td>\n",
              "      <td>NaN</td>\n",
              "    </tr>\n",
              "    <tr>\n",
              "      <th>3</th>\n",
              "      <td>3</td>\n",
              "      <td>Shoaib Malik (ICC/PAK)</td>\n",
              "      <td>2006-2019</td>\n",
              "      <td>111</td>\n",
              "      <td>104</td>\n",
              "      <td>30</td>\n",
              "      <td>2263</td>\n",
              "      <td>75</td>\n",
              "      <td>30.58</td>\n",
              "      <td>1824</td>\n",
              "      <td>124.06</td>\n",
              "      <td>0</td>\n",
              "      <td>7</td>\n",
              "      <td>1</td>\n",
              "      <td>186</td>\n",
              "      <td>61</td>\n",
              "      <td>NaN</td>\n",
              "    </tr>\n",
              "    <tr>\n",
              "      <th>4</th>\n",
              "      <td>4</td>\n",
              "      <td>BB McCullum (NZ)</td>\n",
              "      <td>2005-2015</td>\n",
              "      <td>71</td>\n",
              "      <td>70</td>\n",
              "      <td>10</td>\n",
              "      <td>2140</td>\n",
              "      <td>123</td>\n",
              "      <td>35.66</td>\n",
              "      <td>1571</td>\n",
              "      <td>136.21</td>\n",
              "      <td>2</td>\n",
              "      <td>13</td>\n",
              "      <td>3</td>\n",
              "      <td>199</td>\n",
              "      <td>91</td>\n",
              "      <td>NaN</td>\n",
              "    </tr>\n",
              "  </tbody>\n",
              "</table>\n",
              "</div>\n",
              "      <button class=\"colab-df-convert\" onclick=\"convertToInteractive('df-dd32dad2-8487-406f-95e7-80eb457e8a20')\"\n",
              "              title=\"Convert this dataframe to an interactive table.\"\n",
              "              style=\"display:none;\">\n",
              "        \n",
              "  <svg xmlns=\"http://www.w3.org/2000/svg\" height=\"24px\"viewBox=\"0 0 24 24\"\n",
              "       width=\"24px\">\n",
              "    <path d=\"M0 0h24v24H0V0z\" fill=\"none\"/>\n",
              "    <path d=\"M18.56 5.44l.94 2.06.94-2.06 2.06-.94-2.06-.94-.94-2.06-.94 2.06-2.06.94zm-11 1L8.5 8.5l.94-2.06 2.06-.94-2.06-.94L8.5 2.5l-.94 2.06-2.06.94zm10 10l.94 2.06.94-2.06 2.06-.94-2.06-.94-.94-2.06-.94 2.06-2.06.94z\"/><path d=\"M17.41 7.96l-1.37-1.37c-.4-.4-.92-.59-1.43-.59-.52 0-1.04.2-1.43.59L10.3 9.45l-7.72 7.72c-.78.78-.78 2.05 0 2.83L4 21.41c.39.39.9.59 1.41.59.51 0 1.02-.2 1.41-.59l7.78-7.78 2.81-2.81c.8-.78.8-2.07 0-2.86zM5.41 20L4 18.59l7.72-7.72 1.47 1.35L5.41 20z\"/>\n",
              "  </svg>\n",
              "      </button>\n",
              "      \n",
              "  <style>\n",
              "    .colab-df-container {\n",
              "      display:flex;\n",
              "      flex-wrap:wrap;\n",
              "      gap: 12px;\n",
              "    }\n",
              "\n",
              "    .colab-df-convert {\n",
              "      background-color: #E8F0FE;\n",
              "      border: none;\n",
              "      border-radius: 50%;\n",
              "      cursor: pointer;\n",
              "      display: none;\n",
              "      fill: #1967D2;\n",
              "      height: 32px;\n",
              "      padding: 0 0 0 0;\n",
              "      width: 32px;\n",
              "    }\n",
              "\n",
              "    .colab-df-convert:hover {\n",
              "      background-color: #E2EBFA;\n",
              "      box-shadow: 0px 1px 2px rgba(60, 64, 67, 0.3), 0px 1px 3px 1px rgba(60, 64, 67, 0.15);\n",
              "      fill: #174EA6;\n",
              "    }\n",
              "\n",
              "    [theme=dark] .colab-df-convert {\n",
              "      background-color: #3B4455;\n",
              "      fill: #D2E3FC;\n",
              "    }\n",
              "\n",
              "    [theme=dark] .colab-df-convert:hover {\n",
              "      background-color: #434B5C;\n",
              "      box-shadow: 0px 1px 3px 1px rgba(0, 0, 0, 0.15);\n",
              "      filter: drop-shadow(0px 1px 2px rgba(0, 0, 0, 0.3));\n",
              "      fill: #FFFFFF;\n",
              "    }\n",
              "  </style>\n",
              "\n",
              "      <script>\n",
              "        const buttonEl =\n",
              "          document.querySelector('#df-dd32dad2-8487-406f-95e7-80eb457e8a20 button.colab-df-convert');\n",
              "        buttonEl.style.display =\n",
              "          google.colab.kernel.accessAllowed ? 'block' : 'none';\n",
              "\n",
              "        async function convertToInteractive(key) {\n",
              "          const element = document.querySelector('#df-dd32dad2-8487-406f-95e7-80eb457e8a20');\n",
              "          const dataTable =\n",
              "            await google.colab.kernel.invokeFunction('convertToInteractive',\n",
              "                                                     [key], {});\n",
              "          if (!dataTable) return;\n",
              "\n",
              "          const docLinkHtml = 'Like what you see? Visit the ' +\n",
              "            '<a target=\"_blank\" href=https://colab.research.google.com/notebooks/data_table.ipynb>data table notebook</a>'\n",
              "            + ' to learn more about interactive tables.';\n",
              "          element.innerHTML = '';\n",
              "          dataTable['output_type'] = 'display_data';\n",
              "          await google.colab.output.renderOutput(dataTable, element);\n",
              "          const docLink = document.createElement('div');\n",
              "          docLink.innerHTML = docLinkHtml;\n",
              "          element.appendChild(docLink);\n",
              "        }\n",
              "      </script>\n",
              "    </div>\n",
              "  </div>\n",
              "  "
            ]
          },
          "metadata": {},
          "execution_count": 51
        }
      ]
    },
    {
      "cell_type": "code",
      "source": [
        "t20_df.drop('Unnamed: 15', axis = 1, inplace = True)\n",
        "t20_df.drop('Sno', axis = 1, inplace = True)"
      ],
      "metadata": {
        "id": "qiM_8D2dRyht"
      },
      "execution_count": null,
      "outputs": []
    },
    {
      "cell_type": "code",
      "source": [
        "t20_df['HS'] = t20_df['HS'].str.split('*',expand= True)[0]"
      ],
      "metadata": {
        "id": "oRWZX58bTFWG"
      },
      "execution_count": null,
      "outputs": []
    },
    {
      "cell_type": "code",
      "source": [
        "t20_df['HS'] = t20_df['HS'].astype({'HS': 'int64'})\n",
        "t20_df[t20_df['HS'] > 50]"
      ],
      "metadata": {
        "colab": {
          "base_uri": "https://localhost:8080/",
          "height": 424
        },
        "id": "d_22N5eCUJZT",
        "outputId": "eb26b4cb-b637-4f10-ceb9-33431e556783"
      },
      "execution_count": null,
      "outputs": [
        {
          "output_type": "execute_result",
          "data": {
            "text/plain": [
              "                     Player       Span  Mat  Inns  NO  Runs   HS    Ave    BF  \\\n",
              "0           V Kohli (INDIA)  2010-2019   75    70  20  2633   94  52.66  1907   \n",
              "1         RG Sharma (INDIA)  2007-2019  104    96  14  2633  118   32.1  1905   \n",
              "2           MJ Guptill (NZ)  2009-2019   83    80   7  2436  105  33.36  1810   \n",
              "3    Shoaib Malik (ICC/PAK)  2006-2019  111   104  30  2263   75  30.58  1824   \n",
              "4          BB McCullum (NZ)  2005-2015   71    70  10  2140  123  35.66  1571   \n",
              "..                      ...        ...  ...   ...  ..   ...  ...    ...   ...   \n",
              "705     K Birkenstock (NAM)  2019-2019    4     2   0    64   59     32    33   \n",
              "706          S Dube (INDIA)  2019-2019    6     4   2    64   54     32    42   \n",
              "741      Muhammad Saleem ()  2019-2019    4     4   0    59   52  14.75    54   \n",
              "756          A Makesh (KUW)  2019-2019    4     2   1    57   57     57    41   \n",
              "776       Mirza Ahsan (Aut)  2019-2019    5     3   2    55   51     55    18   \n",
              "\n",
              "         SR  100  50  0   4s   6s  \n",
              "0    138.07    0  24  2  247   71  \n",
              "1    138.21    4  19  6  234  120  \n",
              "2    134.58    2  15  2  215  113  \n",
              "3    124.06    0   7  1  186   61  \n",
              "4    136.21    2  13  3  199   91  \n",
              "..      ...  ...  .. ..  ...  ...  \n",
              "705  193.93    0   1  0    7    4  \n",
              "706  152.38    0   1  0    3    4  \n",
              "741  109.25    0   1  0    5    1  \n",
              "756  139.02    0   1  0    3    4  \n",
              "776  305.55    0   1  0    2    7  \n",
              "\n",
              "[354 rows x 15 columns]"
            ],
            "text/html": [
              "\n",
              "  <div id=\"df-1d71cb0a-cd19-4a4e-ac35-b80e9de9925f\">\n",
              "    <div class=\"colab-df-container\">\n",
              "      <div>\n",
              "<style scoped>\n",
              "    .dataframe tbody tr th:only-of-type {\n",
              "        vertical-align: middle;\n",
              "    }\n",
              "\n",
              "    .dataframe tbody tr th {\n",
              "        vertical-align: top;\n",
              "    }\n",
              "\n",
              "    .dataframe thead th {\n",
              "        text-align: right;\n",
              "    }\n",
              "</style>\n",
              "<table border=\"1\" class=\"dataframe\">\n",
              "  <thead>\n",
              "    <tr style=\"text-align: right;\">\n",
              "      <th></th>\n",
              "      <th>Player</th>\n",
              "      <th>Span</th>\n",
              "      <th>Mat</th>\n",
              "      <th>Inns</th>\n",
              "      <th>NO</th>\n",
              "      <th>Runs</th>\n",
              "      <th>HS</th>\n",
              "      <th>Ave</th>\n",
              "      <th>BF</th>\n",
              "      <th>SR</th>\n",
              "      <th>100</th>\n",
              "      <th>50</th>\n",
              "      <th>0</th>\n",
              "      <th>4s</th>\n",
              "      <th>6s</th>\n",
              "    </tr>\n",
              "  </thead>\n",
              "  <tbody>\n",
              "    <tr>\n",
              "      <th>0</th>\n",
              "      <td>V Kohli (INDIA)</td>\n",
              "      <td>2010-2019</td>\n",
              "      <td>75</td>\n",
              "      <td>70</td>\n",
              "      <td>20</td>\n",
              "      <td>2633</td>\n",
              "      <td>94</td>\n",
              "      <td>52.66</td>\n",
              "      <td>1907</td>\n",
              "      <td>138.07</td>\n",
              "      <td>0</td>\n",
              "      <td>24</td>\n",
              "      <td>2</td>\n",
              "      <td>247</td>\n",
              "      <td>71</td>\n",
              "    </tr>\n",
              "    <tr>\n",
              "      <th>1</th>\n",
              "      <td>RG Sharma (INDIA)</td>\n",
              "      <td>2007-2019</td>\n",
              "      <td>104</td>\n",
              "      <td>96</td>\n",
              "      <td>14</td>\n",
              "      <td>2633</td>\n",
              "      <td>118</td>\n",
              "      <td>32.1</td>\n",
              "      <td>1905</td>\n",
              "      <td>138.21</td>\n",
              "      <td>4</td>\n",
              "      <td>19</td>\n",
              "      <td>6</td>\n",
              "      <td>234</td>\n",
              "      <td>120</td>\n",
              "    </tr>\n",
              "    <tr>\n",
              "      <th>2</th>\n",
              "      <td>MJ Guptill (NZ)</td>\n",
              "      <td>2009-2019</td>\n",
              "      <td>83</td>\n",
              "      <td>80</td>\n",
              "      <td>7</td>\n",
              "      <td>2436</td>\n",
              "      <td>105</td>\n",
              "      <td>33.36</td>\n",
              "      <td>1810</td>\n",
              "      <td>134.58</td>\n",
              "      <td>2</td>\n",
              "      <td>15</td>\n",
              "      <td>2</td>\n",
              "      <td>215</td>\n",
              "      <td>113</td>\n",
              "    </tr>\n",
              "    <tr>\n",
              "      <th>3</th>\n",
              "      <td>Shoaib Malik (ICC/PAK)</td>\n",
              "      <td>2006-2019</td>\n",
              "      <td>111</td>\n",
              "      <td>104</td>\n",
              "      <td>30</td>\n",
              "      <td>2263</td>\n",
              "      <td>75</td>\n",
              "      <td>30.58</td>\n",
              "      <td>1824</td>\n",
              "      <td>124.06</td>\n",
              "      <td>0</td>\n",
              "      <td>7</td>\n",
              "      <td>1</td>\n",
              "      <td>186</td>\n",
              "      <td>61</td>\n",
              "    </tr>\n",
              "    <tr>\n",
              "      <th>4</th>\n",
              "      <td>BB McCullum (NZ)</td>\n",
              "      <td>2005-2015</td>\n",
              "      <td>71</td>\n",
              "      <td>70</td>\n",
              "      <td>10</td>\n",
              "      <td>2140</td>\n",
              "      <td>123</td>\n",
              "      <td>35.66</td>\n",
              "      <td>1571</td>\n",
              "      <td>136.21</td>\n",
              "      <td>2</td>\n",
              "      <td>13</td>\n",
              "      <td>3</td>\n",
              "      <td>199</td>\n",
              "      <td>91</td>\n",
              "    </tr>\n",
              "    <tr>\n",
              "      <th>...</th>\n",
              "      <td>...</td>\n",
              "      <td>...</td>\n",
              "      <td>...</td>\n",
              "      <td>...</td>\n",
              "      <td>...</td>\n",
              "      <td>...</td>\n",
              "      <td>...</td>\n",
              "      <td>...</td>\n",
              "      <td>...</td>\n",
              "      <td>...</td>\n",
              "      <td>...</td>\n",
              "      <td>...</td>\n",
              "      <td>...</td>\n",
              "      <td>...</td>\n",
              "      <td>...</td>\n",
              "    </tr>\n",
              "    <tr>\n",
              "      <th>705</th>\n",
              "      <td>K Birkenstock (NAM)</td>\n",
              "      <td>2019-2019</td>\n",
              "      <td>4</td>\n",
              "      <td>2</td>\n",
              "      <td>0</td>\n",
              "      <td>64</td>\n",
              "      <td>59</td>\n",
              "      <td>32</td>\n",
              "      <td>33</td>\n",
              "      <td>193.93</td>\n",
              "      <td>0</td>\n",
              "      <td>1</td>\n",
              "      <td>0</td>\n",
              "      <td>7</td>\n",
              "      <td>4</td>\n",
              "    </tr>\n",
              "    <tr>\n",
              "      <th>706</th>\n",
              "      <td>S Dube (INDIA)</td>\n",
              "      <td>2019-2019</td>\n",
              "      <td>6</td>\n",
              "      <td>4</td>\n",
              "      <td>2</td>\n",
              "      <td>64</td>\n",
              "      <td>54</td>\n",
              "      <td>32</td>\n",
              "      <td>42</td>\n",
              "      <td>152.38</td>\n",
              "      <td>0</td>\n",
              "      <td>1</td>\n",
              "      <td>0</td>\n",
              "      <td>3</td>\n",
              "      <td>4</td>\n",
              "    </tr>\n",
              "    <tr>\n",
              "      <th>741</th>\n",
              "      <td>Muhammad Saleem ()</td>\n",
              "      <td>2019-2019</td>\n",
              "      <td>4</td>\n",
              "      <td>4</td>\n",
              "      <td>0</td>\n",
              "      <td>59</td>\n",
              "      <td>52</td>\n",
              "      <td>14.75</td>\n",
              "      <td>54</td>\n",
              "      <td>109.25</td>\n",
              "      <td>0</td>\n",
              "      <td>1</td>\n",
              "      <td>0</td>\n",
              "      <td>5</td>\n",
              "      <td>1</td>\n",
              "    </tr>\n",
              "    <tr>\n",
              "      <th>756</th>\n",
              "      <td>A Makesh (KUW)</td>\n",
              "      <td>2019-2019</td>\n",
              "      <td>4</td>\n",
              "      <td>2</td>\n",
              "      <td>1</td>\n",
              "      <td>57</td>\n",
              "      <td>57</td>\n",
              "      <td>57</td>\n",
              "      <td>41</td>\n",
              "      <td>139.02</td>\n",
              "      <td>0</td>\n",
              "      <td>1</td>\n",
              "      <td>0</td>\n",
              "      <td>3</td>\n",
              "      <td>4</td>\n",
              "    </tr>\n",
              "    <tr>\n",
              "      <th>776</th>\n",
              "      <td>Mirza Ahsan (Aut)</td>\n",
              "      <td>2019-2019</td>\n",
              "      <td>5</td>\n",
              "      <td>3</td>\n",
              "      <td>2</td>\n",
              "      <td>55</td>\n",
              "      <td>51</td>\n",
              "      <td>55</td>\n",
              "      <td>18</td>\n",
              "      <td>305.55</td>\n",
              "      <td>0</td>\n",
              "      <td>1</td>\n",
              "      <td>0</td>\n",
              "      <td>2</td>\n",
              "      <td>7</td>\n",
              "    </tr>\n",
              "  </tbody>\n",
              "</table>\n",
              "<p>354 rows × 15 columns</p>\n",
              "</div>\n",
              "      <button class=\"colab-df-convert\" onclick=\"convertToInteractive('df-1d71cb0a-cd19-4a4e-ac35-b80e9de9925f')\"\n",
              "              title=\"Convert this dataframe to an interactive table.\"\n",
              "              style=\"display:none;\">\n",
              "        \n",
              "  <svg xmlns=\"http://www.w3.org/2000/svg\" height=\"24px\"viewBox=\"0 0 24 24\"\n",
              "       width=\"24px\">\n",
              "    <path d=\"M0 0h24v24H0V0z\" fill=\"none\"/>\n",
              "    <path d=\"M18.56 5.44l.94 2.06.94-2.06 2.06-.94-2.06-.94-.94-2.06-.94 2.06-2.06.94zm-11 1L8.5 8.5l.94-2.06 2.06-.94-2.06-.94L8.5 2.5l-.94 2.06-2.06.94zm10 10l.94 2.06.94-2.06 2.06-.94-2.06-.94-.94-2.06-.94 2.06-2.06.94z\"/><path d=\"M17.41 7.96l-1.37-1.37c-.4-.4-.92-.59-1.43-.59-.52 0-1.04.2-1.43.59L10.3 9.45l-7.72 7.72c-.78.78-.78 2.05 0 2.83L4 21.41c.39.39.9.59 1.41.59.51 0 1.02-.2 1.41-.59l7.78-7.78 2.81-2.81c.8-.78.8-2.07 0-2.86zM5.41 20L4 18.59l7.72-7.72 1.47 1.35L5.41 20z\"/>\n",
              "  </svg>\n",
              "      </button>\n",
              "      \n",
              "  <style>\n",
              "    .colab-df-container {\n",
              "      display:flex;\n",
              "      flex-wrap:wrap;\n",
              "      gap: 12px;\n",
              "    }\n",
              "\n",
              "    .colab-df-convert {\n",
              "      background-color: #E8F0FE;\n",
              "      border: none;\n",
              "      border-radius: 50%;\n",
              "      cursor: pointer;\n",
              "      display: none;\n",
              "      fill: #1967D2;\n",
              "      height: 32px;\n",
              "      padding: 0 0 0 0;\n",
              "      width: 32px;\n",
              "    }\n",
              "\n",
              "    .colab-df-convert:hover {\n",
              "      background-color: #E2EBFA;\n",
              "      box-shadow: 0px 1px 2px rgba(60, 64, 67, 0.3), 0px 1px 3px 1px rgba(60, 64, 67, 0.15);\n",
              "      fill: #174EA6;\n",
              "    }\n",
              "\n",
              "    [theme=dark] .colab-df-convert {\n",
              "      background-color: #3B4455;\n",
              "      fill: #D2E3FC;\n",
              "    }\n",
              "\n",
              "    [theme=dark] .colab-df-convert:hover {\n",
              "      background-color: #434B5C;\n",
              "      box-shadow: 0px 1px 3px 1px rgba(0, 0, 0, 0.15);\n",
              "      filter: drop-shadow(0px 1px 2px rgba(0, 0, 0, 0.3));\n",
              "      fill: #FFFFFF;\n",
              "    }\n",
              "  </style>\n",
              "\n",
              "      <script>\n",
              "        const buttonEl =\n",
              "          document.querySelector('#df-1d71cb0a-cd19-4a4e-ac35-b80e9de9925f button.colab-df-convert');\n",
              "        buttonEl.style.display =\n",
              "          google.colab.kernel.accessAllowed ? 'block' : 'none';\n",
              "\n",
              "        async function convertToInteractive(key) {\n",
              "          const element = document.querySelector('#df-1d71cb0a-cd19-4a4e-ac35-b80e9de9925f');\n",
              "          const dataTable =\n",
              "            await google.colab.kernel.invokeFunction('convertToInteractive',\n",
              "                                                     [key], {});\n",
              "          if (!dataTable) return;\n",
              "\n",
              "          const docLinkHtml = 'Like what you see? Visit the ' +\n",
              "            '<a target=\"_blank\" href=https://colab.research.google.com/notebooks/data_table.ipynb>data table notebook</a>'\n",
              "            + ' to learn more about interactive tables.';\n",
              "          element.innerHTML = '';\n",
              "          dataTable['output_type'] = 'display_data';\n",
              "          await google.colab.output.renderOutput(dataTable, element);\n",
              "          const docLink = document.createElement('div');\n",
              "          docLink.innerHTML = docLinkHtml;\n",
              "          element.appendChild(docLink);\n",
              "        }\n",
              "      </script>\n",
              "    </div>\n",
              "  </div>\n",
              "  "
            ]
          },
          "metadata": {},
          "execution_count": 54
        }
      ]
    },
    {
      "cell_type": "code",
      "source": [
        "t20_df['HS'].head()"
      ],
      "metadata": {
        "colab": {
          "base_uri": "https://localhost:8080/"
        },
        "id": "oXyS7Sa4Vobf",
        "outputId": "9fea7239-4f1e-45fd-ca5b-d28bf4179d92"
      },
      "execution_count": null,
      "outputs": [
        {
          "output_type": "execute_result",
          "data": {
            "text/plain": [
              "0     94\n",
              "1    118\n",
              "2    105\n",
              "3     75\n",
              "4    123\n",
              "Name: HS, dtype: int64"
            ]
          },
          "metadata": {},
          "execution_count": 55
        }
      ]
    },
    {
      "cell_type": "markdown",
      "source": [
        "#<h1>Visualization</h1>"
      ],
      "metadata": {
        "id": "xKKAFzDRbm6u"
      }
    },
    {
      "cell_type": "markdown",
      "source": [
        "##Matplotlib"
      ],
      "metadata": {
        "id": "djaKfDrLbsKc"
      }
    },
    {
      "cell_type": "code",
      "source": [
        "import matplotlib.pyplot as plt\n",
        "import pandas as pd"
      ],
      "metadata": {
        "id": "ZX69vbe-V87q"
      },
      "execution_count": null,
      "outputs": []
    },
    {
      "cell_type": "code",
      "source": [
        "data = pd.read_csv(\"gdrive/My Drive/data_science/gapminder.csv\")\n",
        "df = data.copy()\n",
        "df.head()"
      ],
      "metadata": {
        "colab": {
          "base_uri": "https://localhost:8080/",
          "height": 206
        },
        "id": "5908wmZNgTjc",
        "outputId": "24e3014b-eb4a-47bb-b00a-1a6ee157beaa"
      },
      "execution_count": null,
      "outputs": [
        {
          "output_type": "execute_result",
          "data": {
            "text/plain": [
              "       Country  Year    life  population  child_mortality     gdp      region\n",
              "0  Afghanistan  1964  33.639  10474903.0            339.7  1182.0  South Asia\n",
              "1  Afghanistan  1965  34.152  10697983.0            334.1  1182.0  South Asia\n",
              "2  Afghanistan  1966  34.662  10927724.0            328.7  1168.0  South Asia\n",
              "3  Afghanistan  1967  35.170  11163656.0            323.3  1173.0  South Asia\n",
              "4  Afghanistan  1968  35.674  11411022.0            318.1  1187.0  South Asia"
            ],
            "text/html": [
              "\n",
              "  <div id=\"df-b3c851a3-5b1b-453e-83e5-71868f647e24\">\n",
              "    <div class=\"colab-df-container\">\n",
              "      <div>\n",
              "<style scoped>\n",
              "    .dataframe tbody tr th:only-of-type {\n",
              "        vertical-align: middle;\n",
              "    }\n",
              "\n",
              "    .dataframe tbody tr th {\n",
              "        vertical-align: top;\n",
              "    }\n",
              "\n",
              "    .dataframe thead th {\n",
              "        text-align: right;\n",
              "    }\n",
              "</style>\n",
              "<table border=\"1\" class=\"dataframe\">\n",
              "  <thead>\n",
              "    <tr style=\"text-align: right;\">\n",
              "      <th></th>\n",
              "      <th>Country</th>\n",
              "      <th>Year</th>\n",
              "      <th>life</th>\n",
              "      <th>population</th>\n",
              "      <th>child_mortality</th>\n",
              "      <th>gdp</th>\n",
              "      <th>region</th>\n",
              "    </tr>\n",
              "  </thead>\n",
              "  <tbody>\n",
              "    <tr>\n",
              "      <th>0</th>\n",
              "      <td>Afghanistan</td>\n",
              "      <td>1964</td>\n",
              "      <td>33.639</td>\n",
              "      <td>10474903.0</td>\n",
              "      <td>339.7</td>\n",
              "      <td>1182.0</td>\n",
              "      <td>South Asia</td>\n",
              "    </tr>\n",
              "    <tr>\n",
              "      <th>1</th>\n",
              "      <td>Afghanistan</td>\n",
              "      <td>1965</td>\n",
              "      <td>34.152</td>\n",
              "      <td>10697983.0</td>\n",
              "      <td>334.1</td>\n",
              "      <td>1182.0</td>\n",
              "      <td>South Asia</td>\n",
              "    </tr>\n",
              "    <tr>\n",
              "      <th>2</th>\n",
              "      <td>Afghanistan</td>\n",
              "      <td>1966</td>\n",
              "      <td>34.662</td>\n",
              "      <td>10927724.0</td>\n",
              "      <td>328.7</td>\n",
              "      <td>1168.0</td>\n",
              "      <td>South Asia</td>\n",
              "    </tr>\n",
              "    <tr>\n",
              "      <th>3</th>\n",
              "      <td>Afghanistan</td>\n",
              "      <td>1967</td>\n",
              "      <td>35.170</td>\n",
              "      <td>11163656.0</td>\n",
              "      <td>323.3</td>\n",
              "      <td>1173.0</td>\n",
              "      <td>South Asia</td>\n",
              "    </tr>\n",
              "    <tr>\n",
              "      <th>4</th>\n",
              "      <td>Afghanistan</td>\n",
              "      <td>1968</td>\n",
              "      <td>35.674</td>\n",
              "      <td>11411022.0</td>\n",
              "      <td>318.1</td>\n",
              "      <td>1187.0</td>\n",
              "      <td>South Asia</td>\n",
              "    </tr>\n",
              "  </tbody>\n",
              "</table>\n",
              "</div>\n",
              "      <button class=\"colab-df-convert\" onclick=\"convertToInteractive('df-b3c851a3-5b1b-453e-83e5-71868f647e24')\"\n",
              "              title=\"Convert this dataframe to an interactive table.\"\n",
              "              style=\"display:none;\">\n",
              "        \n",
              "  <svg xmlns=\"http://www.w3.org/2000/svg\" height=\"24px\"viewBox=\"0 0 24 24\"\n",
              "       width=\"24px\">\n",
              "    <path d=\"M0 0h24v24H0V0z\" fill=\"none\"/>\n",
              "    <path d=\"M18.56 5.44l.94 2.06.94-2.06 2.06-.94-2.06-.94-.94-2.06-.94 2.06-2.06.94zm-11 1L8.5 8.5l.94-2.06 2.06-.94-2.06-.94L8.5 2.5l-.94 2.06-2.06.94zm10 10l.94 2.06.94-2.06 2.06-.94-2.06-.94-.94-2.06-.94 2.06-2.06.94z\"/><path d=\"M17.41 7.96l-1.37-1.37c-.4-.4-.92-.59-1.43-.59-.52 0-1.04.2-1.43.59L10.3 9.45l-7.72 7.72c-.78.78-.78 2.05 0 2.83L4 21.41c.39.39.9.59 1.41.59.51 0 1.02-.2 1.41-.59l7.78-7.78 2.81-2.81c.8-.78.8-2.07 0-2.86zM5.41 20L4 18.59l7.72-7.72 1.47 1.35L5.41 20z\"/>\n",
              "  </svg>\n",
              "      </button>\n",
              "      \n",
              "  <style>\n",
              "    .colab-df-container {\n",
              "      display:flex;\n",
              "      flex-wrap:wrap;\n",
              "      gap: 12px;\n",
              "    }\n",
              "\n",
              "    .colab-df-convert {\n",
              "      background-color: #E8F0FE;\n",
              "      border: none;\n",
              "      border-radius: 50%;\n",
              "      cursor: pointer;\n",
              "      display: none;\n",
              "      fill: #1967D2;\n",
              "      height: 32px;\n",
              "      padding: 0 0 0 0;\n",
              "      width: 32px;\n",
              "    }\n",
              "\n",
              "    .colab-df-convert:hover {\n",
              "      background-color: #E2EBFA;\n",
              "      box-shadow: 0px 1px 2px rgba(60, 64, 67, 0.3), 0px 1px 3px 1px rgba(60, 64, 67, 0.15);\n",
              "      fill: #174EA6;\n",
              "    }\n",
              "\n",
              "    [theme=dark] .colab-df-convert {\n",
              "      background-color: #3B4455;\n",
              "      fill: #D2E3FC;\n",
              "    }\n",
              "\n",
              "    [theme=dark] .colab-df-convert:hover {\n",
              "      background-color: #434B5C;\n",
              "      box-shadow: 0px 1px 3px 1px rgba(0, 0, 0, 0.15);\n",
              "      filter: drop-shadow(0px 1px 2px rgba(0, 0, 0, 0.3));\n",
              "      fill: #FFFFFF;\n",
              "    }\n",
              "  </style>\n",
              "\n",
              "      <script>\n",
              "        const buttonEl =\n",
              "          document.querySelector('#df-b3c851a3-5b1b-453e-83e5-71868f647e24 button.colab-df-convert');\n",
              "        buttonEl.style.display =\n",
              "          google.colab.kernel.accessAllowed ? 'block' : 'none';\n",
              "\n",
              "        async function convertToInteractive(key) {\n",
              "          const element = document.querySelector('#df-b3c851a3-5b1b-453e-83e5-71868f647e24');\n",
              "          const dataTable =\n",
              "            await google.colab.kernel.invokeFunction('convertToInteractive',\n",
              "                                                     [key], {});\n",
              "          if (!dataTable) return;\n",
              "\n",
              "          const docLinkHtml = 'Like what you see? Visit the ' +\n",
              "            '<a target=\"_blank\" href=https://colab.research.google.com/notebooks/data_table.ipynb>data table notebook</a>'\n",
              "            + ' to learn more about interactive tables.';\n",
              "          element.innerHTML = '';\n",
              "          dataTable['output_type'] = 'display_data';\n",
              "          await google.colab.output.renderOutput(dataTable, element);\n",
              "          const docLink = document.createElement('div');\n",
              "          docLink.innerHTML = docLinkHtml;\n",
              "          element.appendChild(docLink);\n",
              "        }\n",
              "      </script>\n",
              "    </div>\n",
              "  </div>\n",
              "  "
            ]
          },
          "metadata": {},
          "execution_count": 57
        }
      ]
    },
    {
      "cell_type": "code",
      "source": [
        "df.columns = ['country', 'year', 'life_exp', 'pop', 'child_mortality','gdp', 'region']\n",
        "df.head()"
      ],
      "metadata": {
        "colab": {
          "base_uri": "https://localhost:8080/",
          "height": 206
        },
        "id": "O98YTyVehgQA",
        "outputId": "031de8f2-6012-4ad5-cb90-41fd9d1e3cea"
      },
      "execution_count": null,
      "outputs": [
        {
          "output_type": "execute_result",
          "data": {
            "text/plain": [
              "       country  year  life_exp         pop  child_mortality     gdp  \\\n",
              "0  Afghanistan  1964    33.639  10474903.0            339.7  1182.0   \n",
              "1  Afghanistan  1965    34.152  10697983.0            334.1  1182.0   \n",
              "2  Afghanistan  1966    34.662  10927724.0            328.7  1168.0   \n",
              "3  Afghanistan  1967    35.170  11163656.0            323.3  1173.0   \n",
              "4  Afghanistan  1968    35.674  11411022.0            318.1  1187.0   \n",
              "\n",
              "       region  \n",
              "0  South Asia  \n",
              "1  South Asia  \n",
              "2  South Asia  \n",
              "3  South Asia  \n",
              "4  South Asia  "
            ],
            "text/html": [
              "\n",
              "  <div id=\"df-b8676938-80ce-4eb8-8e8c-f112b1e166e6\">\n",
              "    <div class=\"colab-df-container\">\n",
              "      <div>\n",
              "<style scoped>\n",
              "    .dataframe tbody tr th:only-of-type {\n",
              "        vertical-align: middle;\n",
              "    }\n",
              "\n",
              "    .dataframe tbody tr th {\n",
              "        vertical-align: top;\n",
              "    }\n",
              "\n",
              "    .dataframe thead th {\n",
              "        text-align: right;\n",
              "    }\n",
              "</style>\n",
              "<table border=\"1\" class=\"dataframe\">\n",
              "  <thead>\n",
              "    <tr style=\"text-align: right;\">\n",
              "      <th></th>\n",
              "      <th>country</th>\n",
              "      <th>year</th>\n",
              "      <th>life_exp</th>\n",
              "      <th>pop</th>\n",
              "      <th>child_mortality</th>\n",
              "      <th>gdp</th>\n",
              "      <th>region</th>\n",
              "    </tr>\n",
              "  </thead>\n",
              "  <tbody>\n",
              "    <tr>\n",
              "      <th>0</th>\n",
              "      <td>Afghanistan</td>\n",
              "      <td>1964</td>\n",
              "      <td>33.639</td>\n",
              "      <td>10474903.0</td>\n",
              "      <td>339.7</td>\n",
              "      <td>1182.0</td>\n",
              "      <td>South Asia</td>\n",
              "    </tr>\n",
              "    <tr>\n",
              "      <th>1</th>\n",
              "      <td>Afghanistan</td>\n",
              "      <td>1965</td>\n",
              "      <td>34.152</td>\n",
              "      <td>10697983.0</td>\n",
              "      <td>334.1</td>\n",
              "      <td>1182.0</td>\n",
              "      <td>South Asia</td>\n",
              "    </tr>\n",
              "    <tr>\n",
              "      <th>2</th>\n",
              "      <td>Afghanistan</td>\n",
              "      <td>1966</td>\n",
              "      <td>34.662</td>\n",
              "      <td>10927724.0</td>\n",
              "      <td>328.7</td>\n",
              "      <td>1168.0</td>\n",
              "      <td>South Asia</td>\n",
              "    </tr>\n",
              "    <tr>\n",
              "      <th>3</th>\n",
              "      <td>Afghanistan</td>\n",
              "      <td>1967</td>\n",
              "      <td>35.170</td>\n",
              "      <td>11163656.0</td>\n",
              "      <td>323.3</td>\n",
              "      <td>1173.0</td>\n",
              "      <td>South Asia</td>\n",
              "    </tr>\n",
              "    <tr>\n",
              "      <th>4</th>\n",
              "      <td>Afghanistan</td>\n",
              "      <td>1968</td>\n",
              "      <td>35.674</td>\n",
              "      <td>11411022.0</td>\n",
              "      <td>318.1</td>\n",
              "      <td>1187.0</td>\n",
              "      <td>South Asia</td>\n",
              "    </tr>\n",
              "  </tbody>\n",
              "</table>\n",
              "</div>\n",
              "      <button class=\"colab-df-convert\" onclick=\"convertToInteractive('df-b8676938-80ce-4eb8-8e8c-f112b1e166e6')\"\n",
              "              title=\"Convert this dataframe to an interactive table.\"\n",
              "              style=\"display:none;\">\n",
              "        \n",
              "  <svg xmlns=\"http://www.w3.org/2000/svg\" height=\"24px\"viewBox=\"0 0 24 24\"\n",
              "       width=\"24px\">\n",
              "    <path d=\"M0 0h24v24H0V0z\" fill=\"none\"/>\n",
              "    <path d=\"M18.56 5.44l.94 2.06.94-2.06 2.06-.94-2.06-.94-.94-2.06-.94 2.06-2.06.94zm-11 1L8.5 8.5l.94-2.06 2.06-.94-2.06-.94L8.5 2.5l-.94 2.06-2.06.94zm10 10l.94 2.06.94-2.06 2.06-.94-2.06-.94-.94-2.06-.94 2.06-2.06.94z\"/><path d=\"M17.41 7.96l-1.37-1.37c-.4-.4-.92-.59-1.43-.59-.52 0-1.04.2-1.43.59L10.3 9.45l-7.72 7.72c-.78.78-.78 2.05 0 2.83L4 21.41c.39.39.9.59 1.41.59.51 0 1.02-.2 1.41-.59l7.78-7.78 2.81-2.81c.8-.78.8-2.07 0-2.86zM5.41 20L4 18.59l7.72-7.72 1.47 1.35L5.41 20z\"/>\n",
              "  </svg>\n",
              "      </button>\n",
              "      \n",
              "  <style>\n",
              "    .colab-df-container {\n",
              "      display:flex;\n",
              "      flex-wrap:wrap;\n",
              "      gap: 12px;\n",
              "    }\n",
              "\n",
              "    .colab-df-convert {\n",
              "      background-color: #E8F0FE;\n",
              "      border: none;\n",
              "      border-radius: 50%;\n",
              "      cursor: pointer;\n",
              "      display: none;\n",
              "      fill: #1967D2;\n",
              "      height: 32px;\n",
              "      padding: 0 0 0 0;\n",
              "      width: 32px;\n",
              "    }\n",
              "\n",
              "    .colab-df-convert:hover {\n",
              "      background-color: #E2EBFA;\n",
              "      box-shadow: 0px 1px 2px rgba(60, 64, 67, 0.3), 0px 1px 3px 1px rgba(60, 64, 67, 0.15);\n",
              "      fill: #174EA6;\n",
              "    }\n",
              "\n",
              "    [theme=dark] .colab-df-convert {\n",
              "      background-color: #3B4455;\n",
              "      fill: #D2E3FC;\n",
              "    }\n",
              "\n",
              "    [theme=dark] .colab-df-convert:hover {\n",
              "      background-color: #434B5C;\n",
              "      box-shadow: 0px 1px 3px 1px rgba(0, 0, 0, 0.15);\n",
              "      filter: drop-shadow(0px 1px 2px rgba(0, 0, 0, 0.3));\n",
              "      fill: #FFFFFF;\n",
              "    }\n",
              "  </style>\n",
              "\n",
              "      <script>\n",
              "        const buttonEl =\n",
              "          document.querySelector('#df-b8676938-80ce-4eb8-8e8c-f112b1e166e6 button.colab-df-convert');\n",
              "        buttonEl.style.display =\n",
              "          google.colab.kernel.accessAllowed ? 'block' : 'none';\n",
              "\n",
              "        async function convertToInteractive(key) {\n",
              "          const element = document.querySelector('#df-b8676938-80ce-4eb8-8e8c-f112b1e166e6');\n",
              "          const dataTable =\n",
              "            await google.colab.kernel.invokeFunction('convertToInteractive',\n",
              "                                                     [key], {});\n",
              "          if (!dataTable) return;\n",
              "\n",
              "          const docLinkHtml = 'Like what you see? Visit the ' +\n",
              "            '<a target=\"_blank\" href=https://colab.research.google.com/notebooks/data_table.ipynb>data table notebook</a>'\n",
              "            + ' to learn more about interactive tables.';\n",
              "          element.innerHTML = '';\n",
              "          dataTable['output_type'] = 'display_data';\n",
              "          await google.colab.output.renderOutput(dataTable, element);\n",
              "          const docLink = document.createElement('div');\n",
              "          docLink.innerHTML = docLinkHtml;\n",
              "          element.appendChild(docLink);\n",
              "        }\n",
              "      </script>\n",
              "    </div>\n",
              "  </div>\n",
              "  "
            ]
          },
          "metadata": {},
          "execution_count": 58
        }
      ]
    },
    {
      "cell_type": "markdown",
      "source": [
        "Groupby"
      ],
      "metadata": {
        "id": "orxD-Pk3iJx2"
      }
    },
    {
      "cell_type": "code",
      "source": [
        "df_worldPop = df.groupby(['year'])['pop'].sum().reset_index()\n",
        "df_worldPop.head()"
      ],
      "metadata": {
        "colab": {
          "base_uri": "https://localhost:8080/",
          "height": 206
        },
        "id": "MdA4r1hugzJb",
        "outputId": "d54b1531-b961-4a16-9dc5-2829043cd0e1"
      },
      "execution_count": null,
      "outputs": [
        {
          "output_type": "execute_result",
          "data": {
            "text/plain": [
              "   year           pop\n",
              "0  1964  3.268989e+09\n",
              "1  1965  3.333022e+09\n",
              "2  1966  3.400742e+09\n",
              "3  1967  3.471753e+09\n",
              "4  1968  3.545277e+09"
            ],
            "text/html": [
              "\n",
              "  <div id=\"df-63e868a9-e197-4e5e-9e37-739711397378\">\n",
              "    <div class=\"colab-df-container\">\n",
              "      <div>\n",
              "<style scoped>\n",
              "    .dataframe tbody tr th:only-of-type {\n",
              "        vertical-align: middle;\n",
              "    }\n",
              "\n",
              "    .dataframe tbody tr th {\n",
              "        vertical-align: top;\n",
              "    }\n",
              "\n",
              "    .dataframe thead th {\n",
              "        text-align: right;\n",
              "    }\n",
              "</style>\n",
              "<table border=\"1\" class=\"dataframe\">\n",
              "  <thead>\n",
              "    <tr style=\"text-align: right;\">\n",
              "      <th></th>\n",
              "      <th>year</th>\n",
              "      <th>pop</th>\n",
              "    </tr>\n",
              "  </thead>\n",
              "  <tbody>\n",
              "    <tr>\n",
              "      <th>0</th>\n",
              "      <td>1964</td>\n",
              "      <td>3.268989e+09</td>\n",
              "    </tr>\n",
              "    <tr>\n",
              "      <th>1</th>\n",
              "      <td>1965</td>\n",
              "      <td>3.333022e+09</td>\n",
              "    </tr>\n",
              "    <tr>\n",
              "      <th>2</th>\n",
              "      <td>1966</td>\n",
              "      <td>3.400742e+09</td>\n",
              "    </tr>\n",
              "    <tr>\n",
              "      <th>3</th>\n",
              "      <td>1967</td>\n",
              "      <td>3.471753e+09</td>\n",
              "    </tr>\n",
              "    <tr>\n",
              "      <th>4</th>\n",
              "      <td>1968</td>\n",
              "      <td>3.545277e+09</td>\n",
              "    </tr>\n",
              "  </tbody>\n",
              "</table>\n",
              "</div>\n",
              "      <button class=\"colab-df-convert\" onclick=\"convertToInteractive('df-63e868a9-e197-4e5e-9e37-739711397378')\"\n",
              "              title=\"Convert this dataframe to an interactive table.\"\n",
              "              style=\"display:none;\">\n",
              "        \n",
              "  <svg xmlns=\"http://www.w3.org/2000/svg\" height=\"24px\"viewBox=\"0 0 24 24\"\n",
              "       width=\"24px\">\n",
              "    <path d=\"M0 0h24v24H0V0z\" fill=\"none\"/>\n",
              "    <path d=\"M18.56 5.44l.94 2.06.94-2.06 2.06-.94-2.06-.94-.94-2.06-.94 2.06-2.06.94zm-11 1L8.5 8.5l.94-2.06 2.06-.94-2.06-.94L8.5 2.5l-.94 2.06-2.06.94zm10 10l.94 2.06.94-2.06 2.06-.94-2.06-.94-.94-2.06-.94 2.06-2.06.94z\"/><path d=\"M17.41 7.96l-1.37-1.37c-.4-.4-.92-.59-1.43-.59-.52 0-1.04.2-1.43.59L10.3 9.45l-7.72 7.72c-.78.78-.78 2.05 0 2.83L4 21.41c.39.39.9.59 1.41.59.51 0 1.02-.2 1.41-.59l7.78-7.78 2.81-2.81c.8-.78.8-2.07 0-2.86zM5.41 20L4 18.59l7.72-7.72 1.47 1.35L5.41 20z\"/>\n",
              "  </svg>\n",
              "      </button>\n",
              "      \n",
              "  <style>\n",
              "    .colab-df-container {\n",
              "      display:flex;\n",
              "      flex-wrap:wrap;\n",
              "      gap: 12px;\n",
              "    }\n",
              "\n",
              "    .colab-df-convert {\n",
              "      background-color: #E8F0FE;\n",
              "      border: none;\n",
              "      border-radius: 50%;\n",
              "      cursor: pointer;\n",
              "      display: none;\n",
              "      fill: #1967D2;\n",
              "      height: 32px;\n",
              "      padding: 0 0 0 0;\n",
              "      width: 32px;\n",
              "    }\n",
              "\n",
              "    .colab-df-convert:hover {\n",
              "      background-color: #E2EBFA;\n",
              "      box-shadow: 0px 1px 2px rgba(60, 64, 67, 0.3), 0px 1px 3px 1px rgba(60, 64, 67, 0.15);\n",
              "      fill: #174EA6;\n",
              "    }\n",
              "\n",
              "    [theme=dark] .colab-df-convert {\n",
              "      background-color: #3B4455;\n",
              "      fill: #D2E3FC;\n",
              "    }\n",
              "\n",
              "    [theme=dark] .colab-df-convert:hover {\n",
              "      background-color: #434B5C;\n",
              "      box-shadow: 0px 1px 3px 1px rgba(0, 0, 0, 0.15);\n",
              "      filter: drop-shadow(0px 1px 2px rgba(0, 0, 0, 0.3));\n",
              "      fill: #FFFFFF;\n",
              "    }\n",
              "  </style>\n",
              "\n",
              "      <script>\n",
              "        const buttonEl =\n",
              "          document.querySelector('#df-63e868a9-e197-4e5e-9e37-739711397378 button.colab-df-convert');\n",
              "        buttonEl.style.display =\n",
              "          google.colab.kernel.accessAllowed ? 'block' : 'none';\n",
              "\n",
              "        async function convertToInteractive(key) {\n",
              "          const element = document.querySelector('#df-63e868a9-e197-4e5e-9e37-739711397378');\n",
              "          const dataTable =\n",
              "            await google.colab.kernel.invokeFunction('convertToInteractive',\n",
              "                                                     [key], {});\n",
              "          if (!dataTable) return;\n",
              "\n",
              "          const docLinkHtml = 'Like what you see? Visit the ' +\n",
              "            '<a target=\"_blank\" href=https://colab.research.google.com/notebooks/data_table.ipynb>data table notebook</a>'\n",
              "            + ' to learn more about interactive tables.';\n",
              "          element.innerHTML = '';\n",
              "          dataTable['output_type'] = 'display_data';\n",
              "          await google.colab.output.renderOutput(dataTable, element);\n",
              "          const docLink = document.createElement('div');\n",
              "          docLink.innerHTML = docLinkHtml;\n",
              "          element.appendChild(docLink);\n",
              "        }\n",
              "      </script>\n",
              "    </div>\n",
              "  </div>\n",
              "  "
            ]
          },
          "metadata": {},
          "execution_count": 59
        }
      ]
    },
    {
      "cell_type": "markdown",
      "source": [
        "Lineplot"
      ],
      "metadata": {
        "id": "QgTQXKwYiNAQ"
      }
    },
    {
      "cell_type": "code",
      "source": [
        "plt.plot(df_worldPop['year'], df_worldPop['pop'])\n",
        "plt.show()"
      ],
      "metadata": {
        "colab": {
          "base_uri": "https://localhost:8080/",
          "height": 276
        },
        "id": "69b0Lp5Zhxep",
        "outputId": "20f23b8c-71e9-4875-f255-3b8e1e665ba8"
      },
      "execution_count": null,
      "outputs": [
        {
          "output_type": "display_data",
          "data": {
            "text/plain": [
              "<Figure size 432x288 with 1 Axes>"
            ],
            "image/png": "[encoded data removed]"
          },
          "metadata": {
            "needs_background": "light"
          }
        }
      ]
    },
    {
      "cell_type": "markdown",
      "source": [
        "Scatter Plot"
      ],
      "metadata": {
        "id": "Y7h5kPnpiO1d"
      }
    },
    {
      "cell_type": "code",
      "source": [
        "plt.scatter(df['gdp'], df['life_exp'])\n",
        "# plt.xscale('log')\n",
        "plt.show()"
      ],
      "metadata": {
        "colab": {
          "base_uri": "https://localhost:8080/",
          "height": 265
        },
        "id": "QZHUZMgCiGqs",
        "outputId": "7cb2506d-953e-4e41-ad90-943e6e56f39e"
      },
      "execution_count": null,
      "outputs": [
        {
          "output_type": "display_data",
          "data": {
            "text/plain": [
              "<Figure size 432x288 with 1 Axes>"
            ],
            "image/png": "[encoded data removed]"
          },
          "metadata": {
            "needs_background": "light"
          }
        }
      ]
    },
    {
      "cell_type": "code",
      "source": [
        "df_2011 = df[df['year'] == 2011]\n",
        "plt.scatter(df_2011['pop'], df_2011['life_exp'], c= 'Red')\n",
        "plt.xscale('log')\n",
        "plt.show()"
      ],
      "metadata": {
        "colab": {
          "base_uri": "https://localhost:8080/",
          "height": 272
        },
        "id": "kohq-8UFjtVo",
        "outputId": "16bec1b2-b552-43a9-b2ae-48b8697bffdf"
      },
      "execution_count": null,
      "outputs": [
        {
          "output_type": "display_data",
          "data": {
            "text/plain": [
              "<Figure size 432x288 with 1 Axes>"
            ],
            "image/png": "[encoded data removed]"
          },
          "metadata": {
            "needs_background": "light"
          }
        }
      ]
    },
    {
      "cell_type": "code",
      "source": [
        "df_1964 = df[df['year'] == 1964]\n",
        "plt.hist(df_1964['life_exp'], bins = 15)\n",
        "\n",
        "plt.show()"
      ],
      "metadata": {
        "colab": {
          "base_uri": "https://localhost:8080/",
          "height": 265
        },
        "id": "5bnSpeEYjv0X",
        "outputId": "d26c87bf-953a-4bb4-ff1b-04f84da97e4d"
      },
      "execution_count": null,
      "outputs": [
        {
          "output_type": "display_data",
          "data": {
            "text/plain": [
              "<Figure size 432x288 with 1 Axes>"
            ],
            "image/png": "[encoded data removed]"
          },
          "metadata": {
            "needs_background": "light"
          }
        }
      ]
    },
    {
      "cell_type": "markdown",
      "source": [
        "Additional Customizations"
      ],
      "metadata": {
        "id": "zELRR5jikNfu"
      }
    },
    {
      "cell_type": "code",
      "source": [
        "# World Development in 2011\n",
        "plt.figure(figsize = (7,7))\n",
        "\n",
        "plt.scatter(df_2011['gdp'], df_2011['life_exp'])\n",
        "plt.xscale('log')\n",
        "plt.title('World Development in 2011')\n",
        "plt.xlabel('Life Expentancy [in Years]')\n",
        "plt.ylabel('Growth Per Capita [in USD]')\n",
        "\n",
        "plt.xticks([1000, 10000, 100000], ['1K','10K', '100k']) # xticks(values, labels) [same can done for ]\n",
        "\n",
        "plt.show()"
      ],
      "metadata": {
        "colab": {
          "base_uri": "https://localhost:8080/",
          "height": 458
        },
        "id": "lvO2a5oyj_ih",
        "outputId": "c26682cf-d2a0-4ef1-9b75-26a79036ff2a"
      },
      "execution_count": null,
      "outputs": [
        {
          "output_type": "display_data",
          "data": {
            "text/plain": [
              "<Figure size 504x504 with 1 Axes>"
            ],
            "image/png": "[encoded data removed]"
          },
          "metadata": {
            "needs_background": "light"
          }
        }
      ]
    },
    {
      "cell_type": "code",
      "source": [
        "df_2011['pop_mill'] = df_2011['pop']/1000000\n",
        "pop_data = df_2011['pop_mill'] * 2 "
      ],
      "metadata": {
        "colab": {
          "base_uri": "https://localhost:8080/"
        },
        "id": "Y-mKTApukTI5",
        "outputId": "ad3d0561-599d-43bc-b954-bd7e36d2be22"
      },
      "execution_count": null,
      "outputs": [
        {
          "output_type": "stream",
          "name": "stderr",
          "text": [
            "<ipython-input-65-baa4a08e5ceb>:1: SettingWithCopyWarning: \n",
            "A value is trying to be set on a copy of a slice from a DataFrame.\n",
            "Try using .loc[row_indexer,col_indexer] = value instead\n",
            "\n",
            "See the caveats in the documentation: https://pandas.pydata.org/pandas-docs/stable/user_guide/indexing.html#returning-a-view-versus-a-copy\n",
            "  df_2011['pop_mill'] = df_2011['pop']/1000000\n"
          ]
        }
      ]
    },
    {
      "cell_type": "code",
      "source": [
        "col = {'South Asia':'red',\n",
        "       'Europe & Central Asia':'green',\n",
        "       'Middle East & North Africa':'blue',\n",
        "       'Sub-Saharan Africa':'yellow',\n",
        "       'America':'orange',\n",
        "       'East Asia & Pacific':'black'}\n",
        "df_2011['col'] = df_2011['region'].map(col)\n",
        "df_2011.head()"
      ],
      "metadata": {
        "colab": {
          "base_uri": "https://localhost:8080/",
          "height": 310
        },
        "id": "oTPXBAG-kegz",
        "outputId": "500ae935-c806-4487-959f-2fef78d72405"
      },
      "execution_count": null,
      "outputs": [
        {
          "output_type": "stream",
          "name": "stderr",
          "text": [
            "<ipython-input-66-7dc95678c3a1>:7: SettingWithCopyWarning: \n",
            "A value is trying to be set on a copy of a slice from a DataFrame.\n",
            "Try using .loc[row_indexer,col_indexer] = value instead\n",
            "\n",
            "See the caveats in the documentation: https://pandas.pydata.org/pandas-docs/stable/user_guide/indexing.html#returning-a-view-versus-a-copy\n",
            "  df_2011['col'] = df_2011['region'].map(col)\n"
          ]
        },
        {
          "output_type": "execute_result",
          "data": {
            "text/plain": [
              "                 country  year  life_exp         pop  child_mortality  \\\n",
              "47           Afghanistan  2011    60.079  32358260.0            102.3   \n",
              "97               Albania  2011    76.979   3215988.0             16.0   \n",
              "147              Algeria  2011    70.747  35980193.0             26.6   \n",
              "197               Angola  2011    51.094  19618432.0            177.3   \n",
              "247  Antigua and Barbuda  2011    75.610     89612.0              9.5   \n",
              "\n",
              "         gdp                      region   pop_mill     col  \n",
              "47    1695.0                  South Asia  32.358260     red  \n",
              "97    9640.0       Europe & Central Asia   3.215988   green  \n",
              "147  12606.0  Middle East & North Africa  35.980193    blue  \n",
              "197   7094.0          Sub-Saharan Africa  19.618432  yellow  \n",
              "247  19988.0                     America   0.089612  orange  "
            ],
            "text/html": [
              "\n",
              "  <div id=\"df-15f0f101-3762-4eed-8636-3239ef9bcd42\">\n",
              "    <div class=\"colab-df-container\">\n",
              "      <div>\n",
              "<style scoped>\n",
              "    .dataframe tbody tr th:only-of-type {\n",
              "        vertical-align: middle;\n",
              "    }\n",
              "\n",
              "    .dataframe tbody tr th {\n",
              "        vertical-align: top;\n",
              "    }\n",
              "\n",
              "    .dataframe thead th {\n",
              "        text-align: right;\n",
              "    }\n",
              "</style>\n",
              "<table border=\"1\" class=\"dataframe\">\n",
              "  <thead>\n",
              "    <tr style=\"text-align: right;\">\n",
              "      <th></th>\n",
              "      <th>country</th>\n",
              "      <th>year</th>\n",
              "      <th>life_exp</th>\n",
              "      <th>pop</th>\n",
              "      <th>child_mortality</th>\n",
              "      <th>gdp</th>\n",
              "      <th>region</th>\n",
              "      <th>pop_mill</th>\n",
              "      <th>col</th>\n",
              "    </tr>\n",
              "  </thead>\n",
              "  <tbody>\n",
              "    <tr>\n",
              "      <th>47</th>\n",
              "      <td>Afghanistan</td>\n",
              "      <td>2011</td>\n",
              "      <td>60.079</td>\n",
              "      <td>32358260.0</td>\n",
              "      <td>102.3</td>\n",
              "      <td>1695.0</td>\n",
              "      <td>South Asia</td>\n",
              "      <td>32.358260</td>\n",
              "      <td>red</td>\n",
              "    </tr>\n",
              "    <tr>\n",
              "      <th>97</th>\n",
              "      <td>Albania</td>\n",
              "      <td>2011</td>\n",
              "      <td>76.979</td>\n",
              "      <td>3215988.0</td>\n",
              "      <td>16.0</td>\n",
              "      <td>9640.0</td>\n",
              "      <td>Europe &amp; Central Asia</td>\n",
              "      <td>3.215988</td>\n",
              "      <td>green</td>\n",
              "    </tr>\n",
              "    <tr>\n",
              "      <th>147</th>\n",
              "      <td>Algeria</td>\n",
              "      <td>2011</td>\n",
              "      <td>70.747</td>\n",
              "      <td>35980193.0</td>\n",
              "      <td>26.6</td>\n",
              "      <td>12606.0</td>\n",
              "      <td>Middle East &amp; North Africa</td>\n",
              "      <td>35.980193</td>\n",
              "      <td>blue</td>\n",
              "    </tr>\n",
              "    <tr>\n",
              "      <th>197</th>\n",
              "      <td>Angola</td>\n",
              "      <td>2011</td>\n",
              "      <td>51.094</td>\n",
              "      <td>19618432.0</td>\n",
              "      <td>177.3</td>\n",
              "      <td>7094.0</td>\n",
              "      <td>Sub-Saharan Africa</td>\n",
              "      <td>19.618432</td>\n",
              "      <td>yellow</td>\n",
              "    </tr>\n",
              "    <tr>\n",
              "      <th>247</th>\n",
              "      <td>Antigua and Barbuda</td>\n",
              "      <td>2011</td>\n",
              "      <td>75.610</td>\n",
              "      <td>89612.0</td>\n",
              "      <td>9.5</td>\n",
              "      <td>19988.0</td>\n",
              "      <td>America</td>\n",
              "      <td>0.089612</td>\n",
              "      <td>orange</td>\n",
              "    </tr>\n",
              "  </tbody>\n",
              "</table>\n",
              "</div>\n",
              "      <button class=\"colab-df-convert\" onclick=\"convertToInteractive('df-15f0f101-3762-4eed-8636-3239ef9bcd42')\"\n",
              "              title=\"Convert this dataframe to an interactive table.\"\n",
              "              style=\"display:none;\">\n",
              "        \n",
              "  <svg xmlns=\"http://www.w3.org/2000/svg\" height=\"24px\"viewBox=\"0 0 24 24\"\n",
              "       width=\"24px\">\n",
              "    <path d=\"M0 0h24v24H0V0z\" fill=\"none\"/>\n",
              "    <path d=\"M18.56 5.44l.94 2.06.94-2.06 2.06-.94-2.06-.94-.94-2.06-.94 2.06-2.06.94zm-11 1L8.5 8.5l.94-2.06 2.06-.94-2.06-.94L8.5 2.5l-.94 2.06-2.06.94zm10 10l.94 2.06.94-2.06 2.06-.94-2.06-.94-.94-2.06-.94 2.06-2.06.94z\"/><path d=\"M17.41 7.96l-1.37-1.37c-.4-.4-.92-.59-1.43-.59-.52 0-1.04.2-1.43.59L10.3 9.45l-7.72 7.72c-.78.78-.78 2.05 0 2.83L4 21.41c.39.39.9.59 1.41.59.51 0 1.02-.2 1.41-.59l7.78-7.78 2.81-2.81c.8-.78.8-2.07 0-2.86zM5.41 20L4 18.59l7.72-7.72 1.47 1.35L5.41 20z\"/>\n",
              "  </svg>\n",
              "      </button>\n",
              "      \n",
              "  <style>\n",
              "    .colab-df-container {\n",
              "      display:flex;\n",
              "      flex-wrap:wrap;\n",
              "      gap: 12px;\n",
              "    }\n",
              "\n",
              "    .colab-df-convert {\n",
              "      background-color: #E8F0FE;\n",
              "      border: none;\n",
              "      border-radius: 50%;\n",
              "      cursor: pointer;\n",
              "      display: none;\n",
              "      fill: #1967D2;\n",
              "      height: 32px;\n",
              "      padding: 0 0 0 0;\n",
              "      width: 32px;\n",
              "    }\n",
              "\n",
              "    .colab-df-convert:hover {\n",
              "      background-color: #E2EBFA;\n",
              "      box-shadow: 0px 1px 2px rgba(60, 64, 67, 0.3), 0px 1px 3px 1px rgba(60, 64, 67, 0.15);\n",
              "      fill: #174EA6;\n",
              "    }\n",
              "\n",
              "    [theme=dark] .colab-df-convert {\n",
              "      background-color: #3B4455;\n",
              "      fill: #D2E3FC;\n",
              "    }\n",
              "\n",
              "    [theme=dark] .colab-df-convert:hover {\n",
              "      background-color: #434B5C;\n",
              "      box-shadow: 0px 1px 3px 1px rgba(0, 0, 0, 0.15);\n",
              "      filter: drop-shadow(0px 1px 2px rgba(0, 0, 0, 0.3));\n",
              "      fill: #FFFFFF;\n",
              "    }\n",
              "  </style>\n",
              "\n",
              "      <script>\n",
              "        const buttonEl =\n",
              "          document.querySelector('#df-15f0f101-3762-4eed-8636-3239ef9bcd42 button.colab-df-convert');\n",
              "        buttonEl.style.display =\n",
              "          google.colab.kernel.accessAllowed ? 'block' : 'none';\n",
              "\n",
              "        async function convertToInteractive(key) {\n",
              "          const element = document.querySelector('#df-15f0f101-3762-4eed-8636-3239ef9bcd42');\n",
              "          const dataTable =\n",
              "            await google.colab.kernel.invokeFunction('convertToInteractive',\n",
              "                                                     [key], {});\n",
              "          if (!dataTable) return;\n",
              "\n",
              "          const docLinkHtml = 'Like what you see? Visit the ' +\n",
              "            '<a target=\"_blank\" href=https://colab.research.google.com/notebooks/data_table.ipynb>data table notebook</a>'\n",
              "            + ' to learn more about interactive tables.';\n",
              "          element.innerHTML = '';\n",
              "          dataTable['output_type'] = 'display_data';\n",
              "          await google.colab.output.renderOutput(dataTable, element);\n",
              "          const docLink = document.createElement('div');\n",
              "          docLink.innerHTML = docLinkHtml;\n",
              "          element.appendChild(docLink);\n",
              "        }\n",
              "      </script>\n",
              "    </div>\n",
              "  </div>\n",
              "  "
            ]
          },
          "metadata": {},
          "execution_count": 66
        }
      ]
    },
    {
      "cell_type": "code",
      "source": [
        "plt.figure(figsize= (15,7))\n",
        "\n",
        "# s(size), c(color), alpha(transpancy)\n",
        "# s = pop_data\n",
        "plt.scatter(df_2011['gdp'], df_2011['life_exp'], s= df_2011['pop_mill']*2,\n",
        "            c= df_2011['col'], alpha= 0.7)\n",
        "\n",
        "\n",
        "plt.xscale('log')\n",
        "plt.title('World Development in 2011')\n",
        "plt.xlabel('GDP [in USD]')\n",
        "plt.ylabel('Life Exp [in Years]')\n",
        "\n",
        "# xticks(values, labels) [same can done for yticks]\n",
        "plt.xticks([1000, 10000, 100000], ['1k', '10k', '100k'])\n",
        "plt.grid(True)\n",
        "plt.show()"
      ],
      "metadata": {
        "colab": {
          "base_uri": "https://localhost:8080/",
          "height": 458
        },
        "id": "JxTlIfVgkhRa",
        "outputId": "d6047b91-7ecb-4fac-bbde-72746f8791b0"
      },
      "execution_count": null,
      "outputs": [
        {
          "output_type": "display_data",
          "data": {
            "text/plain": [
              "<Figure size 1080x504 with 1 Axes>"
            ],
            "image/png": "[encoded data removed]"
          },
          "metadata": {
            "needs_background": "light"
          }
        }
      ]
    },
    {
      "cell_type": "markdown",
      "source": [
        "##Seaborn"
      ],
      "metadata": {
        "id": "8tR2LIgnnPFv"
      }
    },
    {
      "cell_type": "code",
      "source": [
        "!pip install seaborn"
      ],
      "metadata": {
        "id": "xZQOFc_pnG_s"
      },
      "execution_count": null,
      "outputs": []
    },
    {
      "cell_type": "code",
      "source": [
        "import pandas as pd\n",
        "import seaborn as sns"
      ],
      "metadata": {
        "id": "j-VzINsMnYlA"
      },
      "execution_count": null,
      "outputs": []
    },
    {
      "cell_type": "code",
      "source": [
        "nba_df = pd.read_csv('gdrive/My Drive/data_science/nba.csv')\n",
        "nba_df.head()"
      ],
      "metadata": {
        "colab": {
          "base_uri": "https://localhost:8080/",
          "height": 206
        },
        "id": "2AFDNBxDnbLa",
        "outputId": "863572ee-3c27-41c0-c787-9d0dae52dcb9"
      },
      "execution_count": null,
      "outputs": [
        {
          "output_type": "execute_result",
          "data": {
            "text/plain": [
              "            Name            Team  Number Position  Age  Height  Weight  \\\n",
              "0  Avery Bradley  Boston Celtics       0       PG   25   2-Jun     180   \n",
              "1    Jae Crowder  Boston Celtics      99       SF   25   6-Jun     235   \n",
              "2    R.J. Hunter  Boston Celtics      28       SG   22   5-Jun     185   \n",
              "3  Jonas Jerebko  Boston Celtics       8       PF   29  10-Jun     231   \n",
              "4   Amir Johnson  Boston Celtics      90       PF   29   9-Jun     240   \n",
              "\n",
              "         College    Salary  \n",
              "0          Texas   7730337  \n",
              "1      Marquette   6796117  \n",
              "2  Georgia State   1148640  \n",
              "3            NaN   5000000  \n",
              "4            NaN  12000000  "
            ],
            "text/html": [
              "\n",
              "  <div id=\"df-5fb4bd0f-bc99-42ff-93e2-229ef08686f7\">\n",
              "    <div class=\"colab-df-container\">\n",
              "      <div>\n",
              "<style scoped>\n",
              "    .dataframe tbody tr th:only-of-type {\n",
              "        vertical-align: middle;\n",
              "    }\n",
              "\n",
              "    .dataframe tbody tr th {\n",
              "        vertical-align: top;\n",
              "    }\n",
              "\n",
              "    .dataframe thead th {\n",
              "        text-align: right;\n",
              "    }\n",
              "</style>\n",
              "<table border=\"1\" class=\"dataframe\">\n",
              "  <thead>\n",
              "    <tr style=\"text-align: right;\">\n",
              "      <th></th>\n",
              "      <th>Name</th>\n",
              "      <th>Team</th>\n",
              "      <th>Number</th>\n",
              "      <th>Position</th>\n",
              "      <th>Age</th>\n",
              "      <th>Height</th>\n",
              "      <th>Weight</th>\n",
              "      <th>College</th>\n",
              "      <th>Salary</th>\n",
              "    </tr>\n",
              "  </thead>\n",
              "  <tbody>\n",
              "    <tr>\n",
              "      <th>0</th>\n",
              "      <td>Avery Bradley</td>\n",
              "      <td>Boston Celtics</td>\n",
              "      <td>0</td>\n",
              "      <td>PG</td>\n",
              "      <td>25</td>\n",
              "      <td>2-Jun</td>\n",
              "      <td>180</td>\n",
              "      <td>Texas</td>\n",
              "      <td>7730337</td>\n",
              "    </tr>\n",
              "    <tr>\n",
              "      <th>1</th>\n",
              "      <td>Jae Crowder</td>\n",
              "      <td>Boston Celtics</td>\n",
              "      <td>99</td>\n",
              "      <td>SF</td>\n",
              "      <td>25</td>\n",
              "      <td>6-Jun</td>\n",
              "      <td>235</td>\n",
              "      <td>Marquette</td>\n",
              "      <td>6796117</td>\n",
              "    </tr>\n",
              "    <tr>\n",
              "      <th>2</th>\n",
              "      <td>R.J. Hunter</td>\n",
              "      <td>Boston Celtics</td>\n",
              "      <td>28</td>\n",
              "      <td>SG</td>\n",
              "      <td>22</td>\n",
              "      <td>5-Jun</td>\n",
              "      <td>185</td>\n",
              "      <td>Georgia State</td>\n",
              "      <td>1148640</td>\n",
              "    </tr>\n",
              "    <tr>\n",
              "      <th>3</th>\n",
              "      <td>Jonas Jerebko</td>\n",
              "      <td>Boston Celtics</td>\n",
              "      <td>8</td>\n",
              "      <td>PF</td>\n",
              "      <td>29</td>\n",
              "      <td>10-Jun</td>\n",
              "      <td>231</td>\n",
              "      <td>NaN</td>\n",
              "      <td>5000000</td>\n",
              "    </tr>\n",
              "    <tr>\n",
              "      <th>4</th>\n",
              "      <td>Amir Johnson</td>\n",
              "      <td>Boston Celtics</td>\n",
              "      <td>90</td>\n",
              "      <td>PF</td>\n",
              "      <td>29</td>\n",
              "      <td>9-Jun</td>\n",
              "      <td>240</td>\n",
              "      <td>NaN</td>\n",
              "      <td>12000000</td>\n",
              "    </tr>\n",
              "  </tbody>\n",
              "</table>\n",
              "</div>\n",
              "      <button class=\"colab-df-convert\" onclick=\"convertToInteractive('df-5fb4bd0f-bc99-42ff-93e2-229ef08686f7')\"\n",
              "              title=\"Convert this dataframe to an interactive table.\"\n",
              "              style=\"display:none;\">\n",
              "        \n",
              "  <svg xmlns=\"http://www.w3.org/2000/svg\" height=\"24px\"viewBox=\"0 0 24 24\"\n",
              "       width=\"24px\">\n",
              "    <path d=\"M0 0h24v24H0V0z\" fill=\"none\"/>\n",
              "    <path d=\"M18.56 5.44l.94 2.06.94-2.06 2.06-.94-2.06-.94-.94-2.06-.94 2.06-2.06.94zm-11 1L8.5 8.5l.94-2.06 2.06-.94-2.06-.94L8.5 2.5l-.94 2.06-2.06.94zm10 10l.94 2.06.94-2.06 2.06-.94-2.06-.94-.94-2.06-.94 2.06-2.06.94z\"/><path d=\"M17.41 7.96l-1.37-1.37c-.4-.4-.92-.59-1.43-.59-.52 0-1.04.2-1.43.59L10.3 9.45l-7.72 7.72c-.78.78-.78 2.05 0 2.83L4 21.41c.39.39.9.59 1.41.59.51 0 1.02-.2 1.41-.59l7.78-7.78 2.81-2.81c.8-.78.8-2.07 0-2.86zM5.41 20L4 18.59l7.72-7.72 1.47 1.35L5.41 20z\"/>\n",
              "  </svg>\n",
              "      </button>\n",
              "      \n",
              "  <style>\n",
              "    .colab-df-container {\n",
              "      display:flex;\n",
              "      flex-wrap:wrap;\n",
              "      gap: 12px;\n",
              "    }\n",
              "\n",
              "    .colab-df-convert {\n",
              "      background-color: #E8F0FE;\n",
              "      border: none;\n",
              "      border-radius: 50%;\n",
              "      cursor: pointer;\n",
              "      display: none;\n",
              "      fill: #1967D2;\n",
              "      height: 32px;\n",
              "      padding: 0 0 0 0;\n",
              "      width: 32px;\n",
              "    }\n",
              "\n",
              "    .colab-df-convert:hover {\n",
              "      background-color: #E2EBFA;\n",
              "      box-shadow: 0px 1px 2px rgba(60, 64, 67, 0.3), 0px 1px 3px 1px rgba(60, 64, 67, 0.15);\n",
              "      fill: #174EA6;\n",
              "    }\n",
              "\n",
              "    [theme=dark] .colab-df-convert {\n",
              "      background-color: #3B4455;\n",
              "      fill: #D2E3FC;\n",
              "    }\n",
              "\n",
              "    [theme=dark] .colab-df-convert:hover {\n",
              "      background-color: #434B5C;\n",
              "      box-shadow: 0px 1px 3px 1px rgba(0, 0, 0, 0.15);\n",
              "      filter: drop-shadow(0px 1px 2px rgba(0, 0, 0, 0.3));\n",
              "      fill: #FFFFFF;\n",
              "    }\n",
              "  </style>\n",
              "\n",
              "      <script>\n",
              "        const buttonEl =\n",
              "          document.querySelector('#df-5fb4bd0f-bc99-42ff-93e2-229ef08686f7 button.colab-df-convert');\n",
              "        buttonEl.style.display =\n",
              "          google.colab.kernel.accessAllowed ? 'block' : 'none';\n",
              "\n",
              "        async function convertToInteractive(key) {\n",
              "          const element = document.querySelector('#df-5fb4bd0f-bc99-42ff-93e2-229ef08686f7');\n",
              "          const dataTable =\n",
              "            await google.colab.kernel.invokeFunction('convertToInteractive',\n",
              "                                                     [key], {});\n",
              "          if (!dataTable) return;\n",
              "\n",
              "          const docLinkHtml = 'Like what you see? Visit the ' +\n",
              "            '<a target=\"_blank\" href=https://colab.research.google.com/notebooks/data_table.ipynb>data table notebook</a>'\n",
              "            + ' to learn more about interactive tables.';\n",
              "          element.innerHTML = '';\n",
              "          dataTable['output_type'] = 'display_data';\n",
              "          await google.colab.output.renderOutput(dataTable, element);\n",
              "          const docLink = document.createElement('div');\n",
              "          docLink.innerHTML = docLinkHtml;\n",
              "          element.appendChild(docLink);\n",
              "        }\n",
              "      </script>\n",
              "    </div>\n",
              "  </div>\n",
              "  "
            ]
          },
          "metadata": {},
          "execution_count": 70
        }
      ]
    },
    {
      "cell_type": "markdown",
      "source": [
        "Line Plot"
      ],
      "metadata": {
        "id": "ErHOlTvbo7eH"
      }
    },
    {
      "cell_type": "code",
      "source": [
        "sns.lineplot(nba_df['Age'], nba_df['Weight'])"
      ],
      "metadata": {
        "colab": {
          "base_uri": "https://localhost:8080/",
          "height": 351
        },
        "id": "12QTCcYdpDed",
        "outputId": "0904b794-ad48-4ae9-f35c-b4c396be3ff3"
      },
      "execution_count": null,
      "outputs": [
        {
          "output_type": "stream",
          "name": "stderr",
          "text": [
            "/usr/local/lib/python3.8/dist-packages/seaborn/_decorators.py:36: FutureWarning: Pass the following variables as keyword args: x, y. From version 0.12, the only valid positional argument will be `data`, and passing other arguments without an explicit keyword will result in an error or misinterpretation.\n",
            "  warnings.warn(\n"
          ]
        },
        {
          "output_type": "execute_result",
          "data": {
            "text/plain": [
              "<matplotlib.axes._subplots.AxesSubplot at 0x7f467a64f850>"
            ]
          },
          "metadata": {},
          "execution_count": 71
        },
        {
          "output_type": "display_data",
          "data": {
            "text/plain": [
              "<Figure size 432x288 with 1 Axes>"
            ],
            "image/png": "[encoded data removed]"
          },
          "metadata": {
            "needs_background": "light"
          }
        }
      ]
    },
    {
      "cell_type": "code",
      "source": [
        "sns.lineplot(nba_df['Age'], nba_df['Weight'], hue = nba_df[\"Position\"])"
      ],
      "metadata": {
        "colab": {
          "base_uri": "https://localhost:8080/",
          "height": 351
        },
        "id": "bHj6O9CIpVHj",
        "outputId": "17cbf472-668e-490a-ee88-e5f3e3d33542"
      },
      "execution_count": null,
      "outputs": [
        {
          "output_type": "stream",
          "name": "stderr",
          "text": [
            "/usr/local/lib/python3.8/dist-packages/seaborn/_decorators.py:36: FutureWarning: Pass the following variables as keyword args: x, y. From version 0.12, the only valid positional argument will be `data`, and passing other arguments without an explicit keyword will result in an error or misinterpretation.\n",
            "  warnings.warn(\n"
          ]
        },
        {
          "output_type": "execute_result",
          "data": {
            "text/plain": [
              "<matplotlib.axes._subplots.AxesSubplot at 0x7f4679eb6ee0>"
            ]
          },
          "metadata": {},
          "execution_count": 72
        },
        {
          "output_type": "display_data",
          "data": {
            "text/plain": [
              "<Figure size 432x288 with 1 Axes>"
            ],
            "image/png": "[encoded data removed]"
          },
          "metadata": {
            "needs_background": "light"
          }
        }
      ]
    },
    {
      "cell_type": "markdown",
      "source": [
        "Denisty Plot"
      ],
      "metadata": {
        "id": "AWc4Dgf0otJd"
      }
    },
    {
      "cell_type": "code",
      "source": [
        "sns.distplot(nba_df['Age'], color = 'g')"
      ],
      "metadata": {
        "colab": {
          "base_uri": "https://localhost:8080/",
          "height": 351
        },
        "id": "udbZbGWOn__z",
        "outputId": "e65ca7c8-e844-4eda-9949-a4df871fe5f2"
      },
      "execution_count": null,
      "outputs": [
        {
          "output_type": "stream",
          "name": "stderr",
          "text": [
            "/usr/local/lib/python3.8/dist-packages/seaborn/distributions.py:2619: FutureWarning: `distplot` is a deprecated function and will be removed in a future version. Please adapt your code to use either `displot` (a figure-level function with similar flexibility) or `histplot` (an axes-level function for histograms).\n",
            "  warnings.warn(msg, FutureWarning)\n"
          ]
        },
        {
          "output_type": "execute_result",
          "data": {
            "text/plain": [
              "<matplotlib.axes._subplots.AxesSubplot at 0x7f467a02f370>"
            ]
          },
          "metadata": {},
          "execution_count": 73
        },
        {
          "output_type": "display_data",
          "data": {
            "text/plain": [
              "<Figure size 432x288 with 1 Axes>"
            ],
            "image/png": "[encoded data removed]"
          },
          "metadata": {
            "needs_background": "light"
          }
        }
      ]
    },
    {
      "cell_type": "code",
      "source": [
        "sns.distplot(nba_df['Age'], color= 'r', bins= 20, kde=False)"
      ],
      "metadata": {
        "colab": {
          "base_uri": "https://localhost:8080/",
          "height": 351
        },
        "id": "yNBhHOXcoqLR",
        "outputId": "d2a35dc7-aeab-43de-9f33-8eb48410bb26"
      },
      "execution_count": null,
      "outputs": [
        {
          "output_type": "stream",
          "name": "stderr",
          "text": [
            "/usr/local/lib/python3.8/dist-packages/seaborn/distributions.py:2619: FutureWarning: `distplot` is a deprecated function and will be removed in a future version. Please adapt your code to use either `displot` (a figure-level function with similar flexibility) or `histplot` (an axes-level function for histograms).\n",
            "  warnings.warn(msg, FutureWarning)\n"
          ]
        },
        {
          "output_type": "execute_result",
          "data": {
            "text/plain": [
              "<matplotlib.axes._subplots.AxesSubplot at 0x7f467a577760>"
            ]
          },
          "metadata": {},
          "execution_count": 74
        },
        {
          "output_type": "display_data",
          "data": {
            "text/plain": [
              "<Figure size 432x288 with 1 Axes>"
            ],
            "image/png": "[encoded data removed]"
          },
          "metadata": {
            "needs_background": "light"
          }
        }
      ]
    },
    {
      "cell_type": "markdown",
      "source": [
        "Scatter Plot"
      ],
      "metadata": {
        "id": "UOKgElJvphL3"
      }
    },
    {
      "cell_type": "code",
      "source": [
        "sns.scatterplot(nba_df['Age'], nba_df['Weight'], hue= nba_df['Position'])"
      ],
      "metadata": {
        "colab": {
          "base_uri": "https://localhost:8080/",
          "height": 351
        },
        "id": "gPjRToWBpg0o",
        "outputId": "ded96032-17d1-4779-c4a8-64636314bbdb"
      },
      "execution_count": null,
      "outputs": [
        {
          "output_type": "stream",
          "name": "stderr",
          "text": [
            "/usr/local/lib/python3.8/dist-packages/seaborn/_decorators.py:36: FutureWarning: Pass the following variables as keyword args: x, y. From version 0.12, the only valid positional argument will be `data`, and passing other arguments without an explicit keyword will result in an error or misinterpretation.\n",
            "  warnings.warn(\n"
          ]
        },
        {
          "output_type": "execute_result",
          "data": {
            "text/plain": [
              "<matplotlib.axes._subplots.AxesSubplot at 0x7f4679f57370>"
            ]
          },
          "metadata": {},
          "execution_count": 75
        },
        {
          "output_type": "display_data",
          "data": {
            "text/plain": [
              "<Figure size 432x288 with 1 Axes>"
            ],
            "image/png": "[encoded data removed]"
          },
          "metadata": {
            "needs_background": "light"
          }
        }
      ]
    },
    {
      "cell_type": "markdown",
      "source": [
        "Histogram"
      ],
      "metadata": {
        "id": "c2dKrscToxTY"
      }
    },
    {
      "cell_type": "code",
      "source": [
        "sns.histplot(nba_df['Age'])"
      ],
      "metadata": {
        "colab": {
          "base_uri": "https://localhost:8080/",
          "height": 296
        },
        "id": "HMYI5p6Pnb-p",
        "outputId": "25430048-04e6-4466-cf40-457d53ab2130"
      },
      "execution_count": null,
      "outputs": [
        {
          "output_type": "execute_result",
          "data": {
            "text/plain": [
              "<matplotlib.axes._subplots.AxesSubplot at 0x7f4679f57850>"
            ]
          },
          "metadata": {},
          "execution_count": 76
        },
        {
          "output_type": "display_data",
          "data": {
            "text/plain": [
              "<Figure size 432x288 with 1 Axes>"
            ],
            "image/png": "[encoded data removed]"
          },
          "metadata": {
            "needs_background": "light"
          }
        }
      ]
    },
    {
      "cell_type": "markdown",
      "source": [
        "Box Plot"
      ],
      "metadata": {
        "id": "3IdC3eqfp6y3"
      }
    },
    {
      "cell_type": "code",
      "source": [
        "sns.boxplot(nba_df['Age'])"
      ],
      "metadata": {
        "colab": {
          "base_uri": "https://localhost:8080/",
          "height": 351
        },
        "id": "fkJwI51JqJ-d",
        "outputId": "2bfe4e50-72db-40ef-d243-48c63629cb9e"
      },
      "execution_count": null,
      "outputs": [
        {
          "output_type": "stream",
          "name": "stderr",
          "text": [
            "/usr/local/lib/python3.8/dist-packages/seaborn/_decorators.py:36: FutureWarning: Pass the following variable as a keyword arg: x. From version 0.12, the only valid positional argument will be `data`, and passing other arguments without an explicit keyword will result in an error or misinterpretation.\n",
            "  warnings.warn(\n"
          ]
        },
        {
          "output_type": "execute_result",
          "data": {
            "text/plain": [
              "<matplotlib.axes._subplots.AxesSubplot at 0x7f467056e910>"
            ]
          },
          "metadata": {},
          "execution_count": 77
        },
        {
          "output_type": "display_data",
          "data": {
            "text/plain": [
              "<Figure size 432x288 with 1 Axes>"
            ],
            "image/png": "[encoded data removed]"
          },
          "metadata": {
            "needs_background": "light"
          }
        }
      ]
    },
    {
      "cell_type": "code",
      "source": [
        "sns.boxplot(nba_df['Age'], nba_df['Weight'])"
      ],
      "metadata": {
        "colab": {
          "base_uri": "https://localhost:8080/",
          "height": 351
        },
        "id": "4Sl1IrE4p6hI",
        "outputId": "bceee3f3-fe10-4eea-c54a-6e36a290e379"
      },
      "execution_count": null,
      "outputs": [
        {
          "output_type": "stream",
          "name": "stderr",
          "text": [
            "/usr/local/lib/python3.8/dist-packages/seaborn/_decorators.py:36: FutureWarning: Pass the following variables as keyword args: x, y. From version 0.12, the only valid positional argument will be `data`, and passing other arguments without an explicit keyword will result in an error or misinterpretation.\n",
            "  warnings.warn(\n"
          ]
        },
        {
          "output_type": "execute_result",
          "data": {
            "text/plain": [
              "<matplotlib.axes._subplots.AxesSubplot at 0x7f46704d46a0>"
            ]
          },
          "metadata": {},
          "execution_count": 78
        },
        {
          "output_type": "display_data",
          "data": {
            "text/plain": [
              "<Figure size 432x288 with 1 Axes>"
            ],
            "image/png": "[encoded data removed]"
          },
          "metadata": {
            "needs_background": "light"
          }
        }
      ]
    },
    {
      "cell_type": "markdown",
      "source": [
        "Count Plot"
      ],
      "metadata": {
        "id": "C-wvuDgeqhLy"
      }
    },
    {
      "cell_type": "code",
      "source": [
        "sns.countplot(nba_df['Position'])"
      ],
      "metadata": {
        "colab": {
          "base_uri": "https://localhost:8080/",
          "height": 351
        },
        "id": "l8lkyuAIqift",
        "outputId": "525e3aa4-a219-48a6-a017-3c61d537db4c"
      },
      "execution_count": null,
      "outputs": [
        {
          "output_type": "stream",
          "name": "stderr",
          "text": [
            "/usr/local/lib/python3.8/dist-packages/seaborn/_decorators.py:36: FutureWarning: Pass the following variable as a keyword arg: x. From version 0.12, the only valid positional argument will be `data`, and passing other arguments without an explicit keyword will result in an error or misinterpretation.\n",
            "  warnings.warn(\n"
          ]
        },
        {
          "output_type": "execute_result",
          "data": {
            "text/plain": [
              "<matplotlib.axes._subplots.AxesSubplot at 0x7f4670287310>"
            ]
          },
          "metadata": {},
          "execution_count": 79
        },
        {
          "output_type": "display_data",
          "data": {
            "text/plain": [
              "<Figure size 432x288 with 1 Axes>"
            ],
            "image/png": "[encoded data removed]"
          },
          "metadata": {
            "needs_background": "light"
          }
        }
      ]
    }
  ]
}